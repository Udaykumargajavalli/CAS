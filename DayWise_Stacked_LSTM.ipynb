{
  "nbformat": 4,
  "nbformat_minor": 0,
  "metadata": {
    "colab": {
      "name": "DayWise_Stacked LSTM.ipynb",
      "provenance": []
    },
    "kernelspec": {
      "name": "python3",
      "display_name": "Python 3"
    }
  },
  "cells": [
    {
      "cell_type": "code",
      "metadata": {
        "id": "MQIxfqtf5t-Q"
      },
      "source": [
        "import pandas as pd\n",
        "import numpy as np"
      ],
      "execution_count": 1,
      "outputs": []
    },
    {
      "cell_type": "code",
      "metadata": {
        "id": "9Cm1fleL6MUn"
      },
      "source": [
        "df = pd.read_csv(\"Day_data.csv\")"
      ],
      "execution_count": 53,
      "outputs": []
    },
    {
      "cell_type": "code",
      "metadata": {
        "id": "Qd4WS8Bh6MUE",
        "outputId": "598cb84e-59e7-434d-9c54-758df99f5d22",
        "colab": {
          "base_uri": "https://localhost:8080/",
          "height": 34
        }
      },
      "source": [
        "df.shape"
      ],
      "execution_count": 54,
      "outputs": [
        {
          "output_type": "execute_result",
          "data": {
            "text/plain": [
              "(7493, 3)"
            ]
          },
          "metadata": {
            "tags": []
          },
          "execution_count": 54
        }
      ]
    },
    {
      "cell_type": "code",
      "metadata": {
        "id": "DDJHcOZG6MPZ"
      },
      "source": [
        "df1=df.loc[:1327]"
      ],
      "execution_count": 55,
      "outputs": []
    },
    {
      "cell_type": "code",
      "metadata": {
        "id": "BfNcOYtO-eTB",
        "outputId": "1c070fd7-949e-438a-fc44-4f21badf8e2e",
        "colab": {
          "base_uri": "https://localhost:8080/",
          "height": 34
        }
      },
      "source": [
        "df1.shape"
      ],
      "execution_count": 56,
      "outputs": [
        {
          "output_type": "execute_result",
          "data": {
            "text/plain": [
              "(1328, 3)"
            ]
          },
          "metadata": {
            "tags": []
          },
          "execution_count": 56
        }
      ]
    },
    {
      "cell_type": "code",
      "metadata": {
        "id": "FpxXwqSZ-1Ej",
        "outputId": "04c0ee24-73bc-40fd-8bb0-2f8727ed3775",
        "colab": {
          "base_uri": "https://localhost:8080/",
          "height": 204
        }
      },
      "source": [
        "df1.head()"
      ],
      "execution_count": 57,
      "outputs": [
        {
          "output_type": "execute_result",
          "data": {
            "text/html": [
              "<div>\n",
              "<style scoped>\n",
              "    .dataframe tbody tr th:only-of-type {\n",
              "        vertical-align: middle;\n",
              "    }\n",
              "\n",
              "    .dataframe tbody tr th {\n",
              "        vertical-align: top;\n",
              "    }\n",
              "\n",
              "    .dataframe thead th {\n",
              "        text-align: right;\n",
              "    }\n",
              "</style>\n",
              "<table border=\"1\" class=\"dataframe\">\n",
              "  <thead>\n",
              "    <tr style=\"text-align: right;\">\n",
              "      <th></th>\n",
              "      <th>Date</th>\n",
              "      <th>Amount</th>\n",
              "      <th>Requests</th>\n",
              "    </tr>\n",
              "  </thead>\n",
              "  <tbody>\n",
              "    <tr>\n",
              "      <th>0</th>\n",
              "      <td>8/31/2018</td>\n",
              "      <td>$4,024,445,818.00</td>\n",
              "      <td>27093468</td>\n",
              "    </tr>\n",
              "    <tr>\n",
              "      <th>1</th>\n",
              "      <td>8/30/2018</td>\n",
              "      <td>$3,976,825,461.00</td>\n",
              "      <td>26166131</td>\n",
              "    </tr>\n",
              "    <tr>\n",
              "      <th>2</th>\n",
              "      <td>8/29/2018</td>\n",
              "      <td>$3,792,906,317.00</td>\n",
              "      <td>25586892</td>\n",
              "    </tr>\n",
              "    <tr>\n",
              "      <th>3</th>\n",
              "      <td>8/28/2018</td>\n",
              "      <td>$3,809,151,761.00</td>\n",
              "      <td>25721457</td>\n",
              "    </tr>\n",
              "    <tr>\n",
              "      <th>4</th>\n",
              "      <td>8/27/2018</td>\n",
              "      <td>$3,916,557,671.00</td>\n",
              "      <td>25521502</td>\n",
              "    </tr>\n",
              "  </tbody>\n",
              "</table>\n",
              "</div>"
            ],
            "text/plain": [
              "        Date             Amount  Requests\n",
              "0  8/31/2018  $4,024,445,818.00  27093468\n",
              "1  8/30/2018  $3,976,825,461.00  26166131\n",
              "2  8/29/2018  $3,792,906,317.00  25586892\n",
              "3  8/28/2018  $3,809,151,761.00  25721457\n",
              "4  8/27/2018  $3,916,557,671.00  25521502"
            ]
          },
          "metadata": {
            "tags": []
          },
          "execution_count": 57
        }
      ]
    },
    {
      "cell_type": "code",
      "metadata": {
        "id": "H8zjygUR-1Dq",
        "outputId": "3ae761a1-8f81-4684-d65d-6aaf8cdfa053",
        "colab": {
          "base_uri": "https://localhost:8080/",
          "height": 204
        }
      },
      "source": [
        "df1.tail()"
      ],
      "execution_count": 58,
      "outputs": [
        {
          "output_type": "execute_result",
          "data": {
            "text/html": [
              "<div>\n",
              "<style scoped>\n",
              "    .dataframe tbody tr th:only-of-type {\n",
              "        vertical-align: middle;\n",
              "    }\n",
              "\n",
              "    .dataframe tbody tr th {\n",
              "        vertical-align: top;\n",
              "    }\n",
              "\n",
              "    .dataframe thead th {\n",
              "        text-align: right;\n",
              "    }\n",
              "</style>\n",
              "<table border=\"1\" class=\"dataframe\">\n",
              "  <thead>\n",
              "    <tr style=\"text-align: right;\">\n",
              "      <th></th>\n",
              "      <th>Date</th>\n",
              "      <th>Amount</th>\n",
              "      <th>Requests</th>\n",
              "    </tr>\n",
              "  </thead>\n",
              "  <tbody>\n",
              "    <tr>\n",
              "      <th>1323</th>\n",
              "      <td>1/5/2015</td>\n",
              "      <td>$3,607,383,937.00</td>\n",
              "      <td>21987692</td>\n",
              "    </tr>\n",
              "    <tr>\n",
              "      <th>1324</th>\n",
              "      <td>1/4/2015</td>\n",
              "      <td>$1,880,749,432.00</td>\n",
              "      <td>17326812</td>\n",
              "    </tr>\n",
              "    <tr>\n",
              "      <th>1325</th>\n",
              "      <td>1/3/2015</td>\n",
              "      <td>$1,985,177,208.00</td>\n",
              "      <td>18952939</td>\n",
              "    </tr>\n",
              "    <tr>\n",
              "      <th>1326</th>\n",
              "      <td>1/2/2015</td>\n",
              "      <td>$3,005,824,417.00</td>\n",
              "      <td>22178651</td>\n",
              "    </tr>\n",
              "    <tr>\n",
              "      <th>1327</th>\n",
              "      <td>1/1/2015</td>\n",
              "      <td>$1,549,971,610.00</td>\n",
              "      <td>14700525</td>\n",
              "    </tr>\n",
              "  </tbody>\n",
              "</table>\n",
              "</div>"
            ],
            "text/plain": [
              "          Date             Amount  Requests\n",
              "1323  1/5/2015  $3,607,383,937.00  21987692\n",
              "1324  1/4/2015  $1,880,749,432.00  17326812\n",
              "1325  1/3/2015  $1,985,177,208.00  18952939\n",
              "1326  1/2/2015  $3,005,824,417.00  22178651\n",
              "1327  1/1/2015  $1,549,971,610.00  14700525"
            ]
          },
          "metadata": {
            "tags": []
          },
          "execution_count": 58
        }
      ]
    },
    {
      "cell_type": "code",
      "metadata": {
        "id": "aaC4CgCx-6-9"
      },
      "source": [
        "df1=df1[::-1]"
      ],
      "execution_count": 59,
      "outputs": []
    },
    {
      "cell_type": "code",
      "metadata": {
        "id": "NeCl2RNN--gr",
        "outputId": "a648f255-e84c-4ade-d9e0-f8f651b2b77b",
        "colab": {
          "base_uri": "https://localhost:8080/",
          "height": 204
        }
      },
      "source": [
        "df1.head()"
      ],
      "execution_count": 60,
      "outputs": [
        {
          "output_type": "execute_result",
          "data": {
            "text/html": [
              "<div>\n",
              "<style scoped>\n",
              "    .dataframe tbody tr th:only-of-type {\n",
              "        vertical-align: middle;\n",
              "    }\n",
              "\n",
              "    .dataframe tbody tr th {\n",
              "        vertical-align: top;\n",
              "    }\n",
              "\n",
              "    .dataframe thead th {\n",
              "        text-align: right;\n",
              "    }\n",
              "</style>\n",
              "<table border=\"1\" class=\"dataframe\">\n",
              "  <thead>\n",
              "    <tr style=\"text-align: right;\">\n",
              "      <th></th>\n",
              "      <th>Date</th>\n",
              "      <th>Amount</th>\n",
              "      <th>Requests</th>\n",
              "    </tr>\n",
              "  </thead>\n",
              "  <tbody>\n",
              "    <tr>\n",
              "      <th>1327</th>\n",
              "      <td>1/1/2015</td>\n",
              "      <td>$1,549,971,610.00</td>\n",
              "      <td>14700525</td>\n",
              "    </tr>\n",
              "    <tr>\n",
              "      <th>1326</th>\n",
              "      <td>1/2/2015</td>\n",
              "      <td>$3,005,824,417.00</td>\n",
              "      <td>22178651</td>\n",
              "    </tr>\n",
              "    <tr>\n",
              "      <th>1325</th>\n",
              "      <td>1/3/2015</td>\n",
              "      <td>$1,985,177,208.00</td>\n",
              "      <td>18952939</td>\n",
              "    </tr>\n",
              "    <tr>\n",
              "      <th>1324</th>\n",
              "      <td>1/4/2015</td>\n",
              "      <td>$1,880,749,432.00</td>\n",
              "      <td>17326812</td>\n",
              "    </tr>\n",
              "    <tr>\n",
              "      <th>1323</th>\n",
              "      <td>1/5/2015</td>\n",
              "      <td>$3,607,383,937.00</td>\n",
              "      <td>21987692</td>\n",
              "    </tr>\n",
              "  </tbody>\n",
              "</table>\n",
              "</div>"
            ],
            "text/plain": [
              "          Date             Amount  Requests\n",
              "1327  1/1/2015  $1,549,971,610.00  14700525\n",
              "1326  1/2/2015  $3,005,824,417.00  22178651\n",
              "1325  1/3/2015  $1,985,177,208.00  18952939\n",
              "1324  1/4/2015  $1,880,749,432.00  17326812\n",
              "1323  1/5/2015  $3,607,383,937.00  21987692"
            ]
          },
          "metadata": {
            "tags": []
          },
          "execution_count": 60
        }
      ]
    },
    {
      "cell_type": "code",
      "metadata": {
        "id": "fyh9WjIb--b2",
        "outputId": "b6f26459-148f-477b-c5f5-05d0edde4edc",
        "colab": {
          "base_uri": "https://localhost:8080/",
          "height": 204
        }
      },
      "source": [
        "df1.tail()"
      ],
      "execution_count": 61,
      "outputs": [
        {
          "output_type": "execute_result",
          "data": {
            "text/html": [
              "<div>\n",
              "<style scoped>\n",
              "    .dataframe tbody tr th:only-of-type {\n",
              "        vertical-align: middle;\n",
              "    }\n",
              "\n",
              "    .dataframe tbody tr th {\n",
              "        vertical-align: top;\n",
              "    }\n",
              "\n",
              "    .dataframe thead th {\n",
              "        text-align: right;\n",
              "    }\n",
              "</style>\n",
              "<table border=\"1\" class=\"dataframe\">\n",
              "  <thead>\n",
              "    <tr style=\"text-align: right;\">\n",
              "      <th></th>\n",
              "      <th>Date</th>\n",
              "      <th>Amount</th>\n",
              "      <th>Requests</th>\n",
              "    </tr>\n",
              "  </thead>\n",
              "  <tbody>\n",
              "    <tr>\n",
              "      <th>4</th>\n",
              "      <td>8/27/2018</td>\n",
              "      <td>$3,916,557,671.00</td>\n",
              "      <td>25521502</td>\n",
              "    </tr>\n",
              "    <tr>\n",
              "      <th>3</th>\n",
              "      <td>8/28/2018</td>\n",
              "      <td>$3,809,151,761.00</td>\n",
              "      <td>25721457</td>\n",
              "    </tr>\n",
              "    <tr>\n",
              "      <th>2</th>\n",
              "      <td>8/29/2018</td>\n",
              "      <td>$3,792,906,317.00</td>\n",
              "      <td>25586892</td>\n",
              "    </tr>\n",
              "    <tr>\n",
              "      <th>1</th>\n",
              "      <td>8/30/2018</td>\n",
              "      <td>$3,976,825,461.00</td>\n",
              "      <td>26166131</td>\n",
              "    </tr>\n",
              "    <tr>\n",
              "      <th>0</th>\n",
              "      <td>8/31/2018</td>\n",
              "      <td>$4,024,445,818.00</td>\n",
              "      <td>27093468</td>\n",
              "    </tr>\n",
              "  </tbody>\n",
              "</table>\n",
              "</div>"
            ],
            "text/plain": [
              "        Date             Amount  Requests\n",
              "4  8/27/2018  $3,916,557,671.00  25521502\n",
              "3  8/28/2018  $3,809,151,761.00  25721457\n",
              "2  8/29/2018  $3,792,906,317.00  25586892\n",
              "1  8/30/2018  $3,976,825,461.00  26166131\n",
              "0  8/31/2018  $4,024,445,818.00  27093468"
            ]
          },
          "metadata": {
            "tags": []
          },
          "execution_count": 61
        }
      ]
    },
    {
      "cell_type": "code",
      "metadata": {
        "id": "9Kl_pL5x6MOw"
      },
      "source": [
        "df1=df1.reset_index()['Requests']"
      ],
      "execution_count": 63,
      "outputs": []
    },
    {
      "cell_type": "code",
      "metadata": {
        "id": "UhHsx7hF7JqR",
        "outputId": "d2b81cff-51b9-465c-cd87-9fce9c3876ba",
        "colab": {
          "base_uri": "https://localhost:8080/",
          "height": 293
        }
      },
      "source": [
        "import matplotlib.pyplot as plt\n",
        "plt.plot(df1)"
      ],
      "execution_count": 64,
      "outputs": [
        {
          "output_type": "execute_result",
          "data": {
            "text/plain": [
              "[<matplotlib.lines.Line2D at 0x7f015c5874a8>]"
            ]
          },
          "metadata": {
            "tags": []
          },
          "execution_count": 64
        },
        {
          "output_type": "display_data",
          "data": {
            "image/png": "[encoded data removed]",
            "text/plain": [
              "<Figure size 432x288 with 1 Axes>"
            ]
          },
          "metadata": {
            "tags": [],
            "needs_background": "light"
          }
        }
      ]
    },
    {
      "cell_type": "code",
      "metadata": {
        "id": "VuW6J5Mu7Jla",
        "outputId": "559cea1d-ae83-45f5-9f42-6c94a38dc214",
        "colab": {
          "base_uri": "https://localhost:8080/",
          "height": 119
        }
      },
      "source": [
        "df1.head()"
      ],
      "execution_count": 65,
      "outputs": [
        {
          "output_type": "execute_result",
          "data": {
            "text/plain": [
              "0    14700525\n",
              "1    22178651\n",
              "2    18952939\n",
              "3    17326812\n",
              "4    21987692\n",
              "Name: Requests, dtype: int64"
            ]
          },
          "metadata": {
            "tags": []
          },
          "execution_count": 65
        }
      ]
    },
    {
      "cell_type": "code",
      "metadata": {
        "id": "GiWZPCtz7JkT"
      },
      "source": [
        "from sklearn.preprocessing import MinMaxScaler\n",
        "scaler=MinMaxScaler(feature_range=(0,1))\n",
        "df1=scaler.fit_transform(np.array(df1).reshape(-1,1))"
      ],
      "execution_count": 66,
      "outputs": []
    },
    {
      "cell_type": "code",
      "metadata": {
        "id": "ErUV2kZa_u6a"
      },
      "source": [
        "##splitting dataset into train and test split\n",
        "training_size=int(len(df1)*0.65)\n",
        "test_size=len(df1)-training_size\n",
        "train_data,test_data=df1[0:training_size,:],df1[training_size:len(df1),:1]"
      ],
      "execution_count": 67,
      "outputs": []
    },
    {
      "cell_type": "code",
      "metadata": {
        "id": "TGEvpwOa_u1x",
        "outputId": "89279694-87cb-4d1c-eaf6-21863fc0b299",
        "colab": {
          "base_uri": "https://localhost:8080/",
          "height": 34
        }
      },
      "source": [
        "training_size,test_size"
      ],
      "execution_count": 68,
      "outputs": [
        {
          "output_type": "execute_result",
          "data": {
            "text/plain": [
              "(863, 465)"
            ]
          },
          "metadata": {
            "tags": []
          },
          "execution_count": 68
        }
      ]
    },
    {
      "cell_type": "code",
      "metadata": {
        "id": "Y-tSp-3h_u09"
      },
      "source": [
        "# convert an array of values into a dataset matrix\n",
        "import numpy\n",
        "def create_dataset(dataset, time_step=1):\n",
        "\tdataX, dataY = [], []\n",
        "\tfor i in range(len(dataset)-time_step-1):\n",
        "\t\ta = dataset[i:(i+time_step), 0]   ###i=0, 0,1,2,3-----99   100 \n",
        "\t\tdataX.append(a)\n",
        "\t\tdataY.append(dataset[i + time_step, 0])\n",
        "\treturn numpy.array(dataX), numpy.array(dataY)"
      ],
      "execution_count": 69,
      "outputs": []
    },
    {
      "cell_type": "code",
      "metadata": {
        "id": "19ZSPxxG_29d"
      },
      "source": [
        "time_step = 100\n",
        "X_train, y_train = create_dataset(train_data, time_step)\n",
        "X_test, ytest = create_dataset(test_data, time_step)"
      ],
      "execution_count": 70,
      "outputs": []
    },
    {
      "cell_type": "code",
      "metadata": {
        "id": "HGQVvb9l_24x",
        "outputId": "c5aaa35d-c20e-4f8b-bdbf-ed3a6a34ff96",
        "colab": {
          "base_uri": "https://localhost:8080/",
          "height": 68
        }
      },
      "source": [
        "print(X_train.shape), print(y_train.shape)"
      ],
      "execution_count": 71,
      "outputs": [
        {
          "output_type": "stream",
          "text": [
            "(762, 100)\n",
            "(762,)\n"
          ],
          "name": "stdout"
        },
        {
          "output_type": "execute_result",
          "data": {
            "text/plain": [
              "(None, None)"
            ]
          },
          "metadata": {
            "tags": []
          },
          "execution_count": 71
        }
      ]
    },
    {
      "cell_type": "code",
      "metadata": {
        "id": "zZuVN5nb_24G",
        "outputId": "ae573c61-4224-4549-8f5e-c932a9025420",
        "colab": {
          "base_uri": "https://localhost:8080/",
          "height": 68
        }
      },
      "source": [
        "print(X_test.shape), print(ytest.shape)"
      ],
      "execution_count": 72,
      "outputs": [
        {
          "output_type": "stream",
          "text": [
            "(364, 100)\n",
            "(364,)\n"
          ],
          "name": "stdout"
        },
        {
          "output_type": "execute_result",
          "data": {
            "text/plain": [
              "(None, None)"
            ]
          },
          "metadata": {
            "tags": []
          },
          "execution_count": 72
        }
      ]
    },
    {
      "cell_type": "code",
      "metadata": {
        "id": "VMkvDPyv_9p9"
      },
      "source": [
        "# reshape input to be [samples, time steps, features] which is required for LSTM\n",
        "X_train =X_train.reshape(X_train.shape[0],X_train.shape[1] , 1)\n",
        "X_test = X_test.reshape(X_test.shape[0],X_test.shape[1] , 1)"
      ],
      "execution_count": 73,
      "outputs": []
    },
    {
      "cell_type": "code",
      "metadata": {
        "id": "36jYO4NA_9lO"
      },
      "source": [
        "### Create the Stacked LSTM model\n",
        "from tensorflow.keras.models import Sequential\n",
        "from tensorflow.keras.layers import Dense\n",
        "from tensorflow.keras.layers import LSTM"
      ],
      "execution_count": 74,
      "outputs": []
    },
    {
      "cell_type": "code",
      "metadata": {
        "id": "p-wV4kkr_9ka"
      },
      "source": [
        "model=Sequential()\n",
        "model.add(LSTM(50,return_sequences=True,input_shape=(100,1)))\n",
        "model.add(LSTM(50,return_sequences=True))\n",
        "model.add(LSTM(50))\n",
        "model.add(Dense(1))\n",
        "model.compile(loss='mean_squared_error',optimizer='adam')"
      ],
      "execution_count": 75,
      "outputs": []
    },
    {
      "cell_type": "code",
      "metadata": {
        "id": "2enZsjD_ATiV",
        "outputId": "3be99757-caa3-4610-e8f1-ce800bee60b9",
        "colab": {
          "base_uri": "https://localhost:8080/",
          "height": 1000
        }
      },
      "source": [
        "model.fit(X_train,y_train,validation_data=(X_test,ytest),epochs=100,batch_size=64,verbose=1)"
      ],
      "execution_count": 76,
      "outputs": [
        {
          "output_type": "stream",
          "text": [
            "Epoch 1/100\n",
            "12/12 [==============================] - 4s 293ms/step - loss: 0.1100 - val_loss: 0.0260\n",
            "Epoch 2/100\n",
            "12/12 [==============================] - 2s 199ms/step - loss: 0.0182 - val_loss: 0.0143\n",
            "Epoch 3/100\n",
            "12/12 [==============================] - 2s 192ms/step - loss: 0.0136 - val_loss: 0.0169\n",
            "Epoch 4/100\n",
            "12/12 [==============================] - 2s 187ms/step - loss: 0.0122 - val_loss: 0.0132\n",
            "Epoch 5/100\n",
            "12/12 [==============================] - 2s 188ms/step - loss: 0.0119 - val_loss: 0.0127\n",
            "Epoch 6/100\n",
            "12/12 [==============================] - 2s 196ms/step - loss: 0.0119 - val_loss: 0.0137\n",
            "Epoch 7/100\n",
            "12/12 [==============================] - 2s 195ms/step - loss: 0.0119 - val_loss: 0.0126\n",
            "Epoch 8/100\n",
            "12/12 [==============================] - 2s 196ms/step - loss: 0.0120 - val_loss: 0.0131\n",
            "Epoch 9/100\n",
            "12/12 [==============================] - 2s 197ms/step - loss: 0.0120 - val_loss: 0.0125\n",
            "Epoch 10/100\n",
            "12/12 [==============================] - 2s 196ms/step - loss: 0.0119 - val_loss: 0.0131\n",
            "Epoch 11/100\n",
            "12/12 [==============================] - 2s 194ms/step - loss: 0.0121 - val_loss: 0.0129\n",
            "Epoch 12/100\n",
            "12/12 [==============================] - 2s 195ms/step - loss: 0.0118 - val_loss: 0.0138\n",
            "Epoch 13/100\n",
            "12/12 [==============================] - 2s 195ms/step - loss: 0.0119 - val_loss: 0.0141\n",
            "Epoch 14/100\n",
            "12/12 [==============================] - 2s 198ms/step - loss: 0.0120 - val_loss: 0.0153\n",
            "Epoch 15/100\n",
            "12/12 [==============================] - 2s 195ms/step - loss: 0.0122 - val_loss: 0.0152\n",
            "Epoch 16/100\n",
            "12/12 [==============================] - 2s 201ms/step - loss: 0.0122 - val_loss: 0.0135\n",
            "Epoch 17/100\n",
            "12/12 [==============================] - 2s 200ms/step - loss: 0.0119 - val_loss: 0.0141\n",
            "Epoch 18/100\n",
            "12/12 [==============================] - 2s 197ms/step - loss: 0.0121 - val_loss: 0.0143\n",
            "Epoch 19/100\n",
            "12/12 [==============================] - 2s 196ms/step - loss: 0.0127 - val_loss: 0.0151\n",
            "Epoch 20/100\n",
            "12/12 [==============================] - 2s 203ms/step - loss: 0.0123 - val_loss: 0.0138\n",
            "Epoch 21/100\n",
            "12/12 [==============================] - 2s 195ms/step - loss: 0.0117 - val_loss: 0.0139\n",
            "Epoch 22/100\n",
            "12/12 [==============================] - 2s 195ms/step - loss: 0.0122 - val_loss: 0.0172\n",
            "Epoch 23/100\n",
            "12/12 [==============================] - 2s 194ms/step - loss: 0.0120 - val_loss: 0.0139\n",
            "Epoch 24/100\n",
            "12/12 [==============================] - 2s 202ms/step - loss: 0.0119 - val_loss: 0.0123\n",
            "Epoch 25/100\n",
            "12/12 [==============================] - 2s 200ms/step - loss: 0.0118 - val_loss: 0.0122\n",
            "Epoch 26/100\n",
            "12/12 [==============================] - 2s 199ms/step - loss: 0.0120 - val_loss: 0.0123\n",
            "Epoch 27/100\n",
            "12/12 [==============================] - 2s 199ms/step - loss: 0.0122 - val_loss: 0.0121\n",
            "Epoch 28/100\n",
            "12/12 [==============================] - 2s 199ms/step - loss: 0.0118 - val_loss: 0.0130\n",
            "Epoch 29/100\n",
            "12/12 [==============================] - 2s 198ms/step - loss: 0.0118 - val_loss: 0.0132\n",
            "Epoch 30/100\n",
            "12/12 [==============================] - 2s 200ms/step - loss: 0.0117 - val_loss: 0.0146\n",
            "Epoch 31/100\n",
            "12/12 [==============================] - 2s 202ms/step - loss: 0.0122 - val_loss: 0.0145\n",
            "Epoch 32/100\n",
            "12/12 [==============================] - 2s 196ms/step - loss: 0.0118 - val_loss: 0.0132\n",
            "Epoch 33/100\n",
            "12/12 [==============================] - 2s 200ms/step - loss: 0.0118 - val_loss: 0.0138\n",
            "Epoch 34/100\n",
            "12/12 [==============================] - 2s 196ms/step - loss: 0.0119 - val_loss: 0.0126\n",
            "Epoch 35/100\n",
            "12/12 [==============================] - 2s 198ms/step - loss: 0.0118 - val_loss: 0.0133\n",
            "Epoch 36/100\n",
            "12/12 [==============================] - 2s 194ms/step - loss: 0.0120 - val_loss: 0.0137\n",
            "Epoch 37/100\n",
            "12/12 [==============================] - 2s 198ms/step - loss: 0.0119 - val_loss: 0.0127\n",
            "Epoch 38/100\n",
            "12/12 [==============================] - 2s 199ms/step - loss: 0.0119 - val_loss: 0.0120\n",
            "Epoch 39/100\n",
            "12/12 [==============================] - 2s 195ms/step - loss: 0.0122 - val_loss: 0.0122\n",
            "Epoch 40/100\n",
            "12/12 [==============================] - 2s 195ms/step - loss: 0.0117 - val_loss: 0.0122\n",
            "Epoch 41/100\n",
            "12/12 [==============================] - 2s 193ms/step - loss: 0.0118 - val_loss: 0.0123\n",
            "Epoch 42/100\n",
            "12/12 [==============================] - 2s 193ms/step - loss: 0.0121 - val_loss: 0.0124\n",
            "Epoch 43/100\n",
            "12/12 [==============================] - 2s 199ms/step - loss: 0.0118 - val_loss: 0.0125\n",
            "Epoch 44/100\n",
            "12/12 [==============================] - 2s 198ms/step - loss: 0.0117 - val_loss: 0.0123\n",
            "Epoch 45/100\n",
            "12/12 [==============================] - 2s 199ms/step - loss: 0.0118 - val_loss: 0.0125\n",
            "Epoch 46/100\n",
            "12/12 [==============================] - 2s 198ms/step - loss: 0.0117 - val_loss: 0.0121\n",
            "Epoch 47/100\n",
            "12/12 [==============================] - 2s 199ms/step - loss: 0.0120 - val_loss: 0.0120\n",
            "Epoch 48/100\n",
            "12/12 [==============================] - 2s 199ms/step - loss: 0.0119 - val_loss: 0.0123\n",
            "Epoch 49/100\n",
            "12/12 [==============================] - 2s 201ms/step - loss: 0.0117 - val_loss: 0.0120\n",
            "Epoch 50/100\n",
            "12/12 [==============================] - 2s 194ms/step - loss: 0.0117 - val_loss: 0.0122\n",
            "Epoch 51/100\n",
            "12/12 [==============================] - 2s 197ms/step - loss: 0.0122 - val_loss: 0.0120\n",
            "Epoch 52/100\n",
            "12/12 [==============================] - 2s 195ms/step - loss: 0.0117 - val_loss: 0.0135\n",
            "Epoch 53/100\n",
            "12/12 [==============================] - 2s 198ms/step - loss: 0.0118 - val_loss: 0.0139\n",
            "Epoch 54/100\n",
            "12/12 [==============================] - 2s 196ms/step - loss: 0.0118 - val_loss: 0.0121\n",
            "Epoch 55/100\n",
            "12/12 [==============================] - 2s 202ms/step - loss: 0.0117 - val_loss: 0.0121\n",
            "Epoch 56/100\n",
            "12/12 [==============================] - 2s 201ms/step - loss: 0.0118 - val_loss: 0.0140\n",
            "Epoch 57/100\n",
            "12/12 [==============================] - 2s 197ms/step - loss: 0.0119 - val_loss: 0.0134\n",
            "Epoch 58/100\n",
            "12/12 [==============================] - 2s 203ms/step - loss: 0.0122 - val_loss: 0.0142\n",
            "Epoch 59/100\n",
            "12/12 [==============================] - 2s 201ms/step - loss: 0.0118 - val_loss: 0.0150\n",
            "Epoch 60/100\n",
            "12/12 [==============================] - 2s 202ms/step - loss: 0.0118 - val_loss: 0.0142\n",
            "Epoch 61/100\n",
            "12/12 [==============================] - 2s 198ms/step - loss: 0.0119 - val_loss: 0.0131\n",
            "Epoch 62/100\n",
            "12/12 [==============================] - 2s 196ms/step - loss: 0.0117 - val_loss: 0.0144\n",
            "Epoch 63/100\n",
            "12/12 [==============================] - 2s 203ms/step - loss: 0.0118 - val_loss: 0.0128\n",
            "Epoch 64/100\n",
            "12/12 [==============================] - 2s 199ms/step - loss: 0.0118 - val_loss: 0.0127\n",
            "Epoch 65/100\n",
            "12/12 [==============================] - 2s 195ms/step - loss: 0.0118 - val_loss: 0.0123\n",
            "Epoch 66/100\n",
            "12/12 [==============================] - 2s 196ms/step - loss: 0.0116 - val_loss: 0.0129\n",
            "Epoch 67/100\n",
            "12/12 [==============================] - 2s 199ms/step - loss: 0.0118 - val_loss: 0.0120\n",
            "Epoch 68/100\n",
            "12/12 [==============================] - 2s 198ms/step - loss: 0.0118 - val_loss: 0.0119\n",
            "Epoch 69/100\n",
            "12/12 [==============================] - 2s 196ms/step - loss: 0.0121 - val_loss: 0.0120\n",
            "Epoch 70/100\n",
            "12/12 [==============================] - 3s 208ms/step - loss: 0.0117 - val_loss: 0.0123\n",
            "Epoch 71/100\n",
            "12/12 [==============================] - 3s 213ms/step - loss: 0.0117 - val_loss: 0.0127\n",
            "Epoch 72/100\n",
            "12/12 [==============================] - 2s 201ms/step - loss: 0.0118 - val_loss: 0.0119\n",
            "Epoch 73/100\n",
            "12/12 [==============================] - 2s 193ms/step - loss: 0.0118 - val_loss: 0.0122\n",
            "Epoch 74/100\n",
            "12/12 [==============================] - 2s 197ms/step - loss: 0.0116 - val_loss: 0.0125\n",
            "Epoch 75/100\n",
            "12/12 [==============================] - 2s 198ms/step - loss: 0.0116 - val_loss: 0.0123\n",
            "Epoch 76/100\n",
            "12/12 [==============================] - 2s 195ms/step - loss: 0.0116 - val_loss: 0.0129\n",
            "Epoch 77/100\n",
            "12/12 [==============================] - 2s 195ms/step - loss: 0.0118 - val_loss: 0.0132\n",
            "Epoch 78/100\n",
            "12/12 [==============================] - 2s 193ms/step - loss: 0.0123 - val_loss: 0.0119\n",
            "Epoch 79/100\n",
            "12/12 [==============================] - 2s 189ms/step - loss: 0.0134 - val_loss: 0.0119\n",
            "Epoch 80/100\n",
            "12/12 [==============================] - 2s 193ms/step - loss: 0.0129 - val_loss: 0.0169\n",
            "Epoch 81/100\n",
            "12/12 [==============================] - 2s 190ms/step - loss: 0.0124 - val_loss: 0.0143\n",
            "Epoch 82/100\n",
            "12/12 [==============================] - 2s 194ms/step - loss: 0.0118 - val_loss: 0.0122\n",
            "Epoch 83/100\n",
            "12/12 [==============================] - 2s 192ms/step - loss: 0.0115 - val_loss: 0.0120\n",
            "Epoch 84/100\n",
            "12/12 [==============================] - 2s 192ms/step - loss: 0.0118 - val_loss: 0.0126\n",
            "Epoch 85/100\n",
            "12/12 [==============================] - 2s 191ms/step - loss: 0.0117 - val_loss: 0.0183\n",
            "Epoch 86/100\n",
            "12/12 [==============================] - 2s 194ms/step - loss: 0.0126 - val_loss: 0.0166\n",
            "Epoch 87/100\n",
            "12/12 [==============================] - 2s 194ms/step - loss: 0.0121 - val_loss: 0.0128\n",
            "Epoch 88/100\n",
            "12/12 [==============================] - 2s 198ms/step - loss: 0.0119 - val_loss: 0.0123\n",
            "Epoch 89/100\n",
            "12/12 [==============================] - 2s 197ms/step - loss: 0.0116 - val_loss: 0.0148\n",
            "Epoch 90/100\n",
            "12/12 [==============================] - 2s 194ms/step - loss: 0.0118 - val_loss: 0.0125\n",
            "Epoch 91/100\n",
            "12/12 [==============================] - 2s 192ms/step - loss: 0.0116 - val_loss: 0.0119\n",
            "Epoch 92/100\n",
            "12/12 [==============================] - 2s 195ms/step - loss: 0.0118 - val_loss: 0.0119\n",
            "Epoch 93/100\n",
            "12/12 [==============================] - 2s 194ms/step - loss: 0.0116 - val_loss: 0.0121\n",
            "Epoch 94/100\n",
            "12/12 [==============================] - 2s 194ms/step - loss: 0.0118 - val_loss: 0.0119\n",
            "Epoch 95/100\n",
            "12/12 [==============================] - 2s 197ms/step - loss: 0.0122 - val_loss: 0.0120\n",
            "Epoch 96/100\n",
            "12/12 [==============================] - 2s 197ms/step - loss: 0.0117 - val_loss: 0.0121\n",
            "Epoch 97/100\n",
            "12/12 [==============================] - 2s 196ms/step - loss: 0.0116 - val_loss: 0.0127\n",
            "Epoch 98/100\n",
            "12/12 [==============================] - 2s 195ms/step - loss: 0.0124 - val_loss: 0.0119\n",
            "Epoch 99/100\n",
            "12/12 [==============================] - 2s 194ms/step - loss: 0.0123 - val_loss: 0.0120\n",
            "Epoch 100/100\n",
            "12/12 [==============================] - 2s 196ms/step - loss: 0.0116 - val_loss: 0.0121\n"
          ],
          "name": "stdout"
        },
        {
          "output_type": "execute_result",
          "data": {
            "text/plain": [
              "<tensorflow.python.keras.callbacks.History at 0x7f011bc737f0>"
            ]
          },
          "metadata": {
            "tags": []
          },
          "execution_count": 76
        }
      ]
    },
    {
      "cell_type": "code",
      "metadata": {
        "id": "KlnWjszOATeJ"
      },
      "source": [
        "### Lets Do the prediction and check performance metrics\n",
        "train_predict=model.predict(X_train)\n",
        "test_predict=model.predict(X_test)"
      ],
      "execution_count": 77,
      "outputs": []
    },
    {
      "cell_type": "code",
      "metadata": {
        "id": "0iU0aMb7ATci"
      },
      "source": [
        "##Transformback to original form\n",
        "train_predict=scaler.inverse_transform(train_predict)\n",
        "test_predict=scaler.inverse_transform(test_predict)"
      ],
      "execution_count": 78,
      "outputs": []
    },
    {
      "cell_type": "code",
      "metadata": {
        "id": "40QmTrR0BqhW",
        "outputId": "cd10b8be-a5f0-4689-cc8c-95681b52f3a1",
        "colab": {
          "base_uri": "https://localhost:8080/",
          "height": 34
        }
      },
      "source": [
        "### Calculate RMSE performance metrics\n",
        "import math\n",
        "from sklearn.metrics import mean_squared_error\n",
        "math.sqrt(mean_squared_error(y_train,train_predict))"
      ],
      "execution_count": 79,
      "outputs": [
        {
          "output_type": "execute_result",
          "data": {
            "text/plain": [
              "22899106.718848445"
            ]
          },
          "metadata": {
            "tags": []
          },
          "execution_count": 79
        }
      ]
    },
    {
      "cell_type": "code",
      "metadata": {
        "id": "Vcp8tQ-dBqnE",
        "outputId": "711a0134-6bf9-4503-8d0e-27cf975baefc",
        "colab": {
          "base_uri": "https://localhost:8080/",
          "height": 34
        }
      },
      "source": [
        "### Test Data RMSE\n",
        "math.sqrt(mean_squared_error(ytest,test_predict))"
      ],
      "execution_count": 80,
      "outputs": [
        {
          "output_type": "execute_result",
          "data": {
            "text/plain": [
              "23890447.48828756"
            ]
          },
          "metadata": {
            "tags": []
          },
          "execution_count": 80
        }
      ]
    },
    {
      "cell_type": "code",
      "metadata": {
        "id": "9_Ci1_khBqdc",
        "outputId": "da7988a4-b811-4566-fd6a-13716e77b5b0",
        "colab": {
          "base_uri": "https://localhost:8080/",
          "height": 276
        }
      },
      "source": [
        "### Plotting \n",
        "# shift train predictions for plotting\n",
        "look_back=100\n",
        "trainPredictPlot = numpy.empty_like(df1)\n",
        "trainPredictPlot[:, :] = np.nan\n",
        "trainPredictPlot[look_back:len(train_predict)+look_back, :] = train_predict\n",
        "# shift test predictions for plotting\n",
        "testPredictPlot = numpy.empty_like(df1)\n",
        "testPredictPlot[:, :] = numpy.nan\n",
        "testPredictPlot[len(train_predict)+(look_back*2)+1:len(df1)-1, :] = test_predict\n",
        "# plot baseline and predictions\n",
        "plt.plot(scaler.inverse_transform(df1))\n",
        "plt.plot(trainPredictPlot)\n",
        "plt.plot(testPredictPlot)\n",
        "plt.show()"
      ],
      "execution_count": 82,
      "outputs": [
        {
          "output_type": "display_data",
          "data": {
            "image/png": "[encoded data removed]",
            "text/plain": [
              "<Figure size 432x288 with 1 Axes>"
            ]
          },
          "metadata": {
            "tags": [],
            "needs_background": "light"
          }
        }
      ]
    },
    {
      "cell_type": "code",
      "metadata": {
        "id": "YTsB4u5eBqcG",
        "outputId": "5d797229-4a4c-4bbe-86b9-82a4e409bc7a",
        "colab": {
          "base_uri": "https://localhost:8080/",
          "height": 34
        }
      },
      "source": [
        "len(test_data)"
      ],
      "execution_count": 83,
      "outputs": [
        {
          "output_type": "execute_result",
          "data": {
            "text/plain": [
              "465"
            ]
          },
          "metadata": {
            "tags": []
          },
          "execution_count": 83
        }
      ]
    },
    {
      "cell_type": "code",
      "metadata": {
        "id": "G-CQ8YFNDodN",
        "outputId": "2932c97d-26d6-41cf-ce00-22b38c22d186",
        "colab": {
          "base_uri": "https://localhost:8080/",
          "height": 34
        }
      },
      "source": [
        "x_input=test_data[365:].reshape(1,-1)\n",
        "x_input.shape"
      ],
      "execution_count": 84,
      "outputs": [
        {
          "output_type": "execute_result",
          "data": {
            "text/plain": [
              "(1, 100)"
            ]
          },
          "metadata": {
            "tags": []
          },
          "execution_count": 84
        }
      ]
    },
    {
      "cell_type": "code",
      "metadata": {
        "id": "llVJYDXwDoZI"
      },
      "source": [
        "temp_input=list(x_input)\n",
        "temp_input=temp_input[0].tolist()"
      ],
      "execution_count": 85,
      "outputs": []
    },
    {
      "cell_type": "code",
      "metadata": {
        "id": "-u60dMIKDoYN",
        "outputId": "78bacf18-6078-43c5-bbb2-443beda5b6df",
        "colab": {
          "base_uri": "https://localhost:8080/",
          "height": 1000
        }
      },
      "source": [
        "# demonstrate prediction for next 8 Months\n",
        "from numpy import array\n",
        "\n",
        "lst_output=[]\n",
        "n_steps=100\n",
        "i=0\n",
        "while(i<30):\n",
        "    \n",
        "    if(len(temp_input)>100):\n",
        "        #print(temp_input)\n",
        "        x_input=np.array(temp_input[1:])\n",
        "        print(\"{} Day input {}\".format(i,x_input))\n",
        "        x_input=x_input.reshape(1,-1)\n",
        "        x_input = x_input.reshape((1, n_steps, 1))\n",
        "        #print(x_input)\n",
        "        yhat = model.predict(x_input, verbose=0)\n",
        "        print(\"{} Day output {}\".format(i,yhat))\n",
        "        temp_input.extend(yhat[0].tolist())\n",
        "        temp_input=temp_input[1:]\n",
        "        #print(temp_input)\n",
        "        lst_output.extend(yhat.tolist())\n",
        "        i=i+1\n",
        "    else:\n",
        "        x_input = x_input.reshape((1, n_steps,1))\n",
        "        yhat = model.predict(x_input, verbose=0)\n",
        "        print(yhat[0])\n",
        "        temp_input.extend(yhat[0].tolist())\n",
        "        print(len(temp_input))\n",
        "        lst_output.extend(yhat.tolist())\n",
        "        i=i+1\n",
        "    \n",
        "\n",
        "print(lst_output)"
      ],
      "execution_count": 87,
      "outputs": [
        {
          "output_type": "stream",
          "text": [
            "0 Day input [0.83548905 0.6728573  0.55517453 0.79901111 0.78867157 0.79984508\n",
            " 0.83566209 0.85071834 0.52414715 0.74471399 0.88441507 0.81528719\n",
            " 0.52847821 0.74441455 0.7615396  0.62336544 0.56927577 0.80957657\n",
            " 0.7879251  0.7795816  0.8084783  0.82451031 0.65457453 0.57047125\n",
            " 0.86038036 0.85398888 0.7963912  0.79842648 0.8492844  0.66094358\n",
            " 0.77921561 0.77153572 0.78862237 0.81702343 0.83655434 0.67552819\n",
            " 0.53936027 0.76597251 0.7906296  0.91546231 0.85998568 0.83361936\n",
            " 0.66669684 0.580406   0.78536361 0.76990779 0.82924665 0.80732788\n",
            " 0.83962863 0.66377843 0.55513731 0.78043333 0.77599905 0.80639589\n",
            " 0.80873673 0.8264963  0.66214892 0.55901792 0.77749673 0.76299297\n",
            " 0.77827756 0.7954     0.83048281 0.67505142 0.5616088  0.77686635\n",
            " 0.7867238  0.78008997 0.80864548 0.85436163 0.71878326 0.7225771\n",
            " 0.72620219 0.72894132 0.73043275 0.73060244 0.72957397 0.7275787\n",
            " 0.72488737 0.72175997 0.71841967 0.71503937 0.7117421  0.70860595\n",
            " 0.70567471 0.70296603 0.700481   0.69821066 0.6961413  0.69425684\n",
            " 0.69254243 0.69098383 0.68956763 0.68828261 0.68711746 0.68606174\n",
            " 0.68510622 0.68424064 0.68345618 0.68274337]\n",
            "0 Day output [[0.6820936]]\n",
            "1 Day input [0.6728573  0.55517453 0.79901111 0.78867157 0.79984508 0.83566209\n",
            " 0.85071834 0.52414715 0.74471399 0.88441507 0.81528719 0.52847821\n",
            " 0.74441455 0.7615396  0.62336544 0.56927577 0.80957657 0.7879251\n",
            " 0.7795816  0.8084783  0.82451031 0.65457453 0.57047125 0.86038036\n",
            " 0.85398888 0.7963912  0.79842648 0.8492844  0.66094358 0.77921561\n",
            " 0.77153572 0.78862237 0.81702343 0.83655434 0.67552819 0.53936027\n",
            " 0.76597251 0.7906296  0.91546231 0.85998568 0.83361936 0.66669684\n",
            " 0.580406   0.78536361 0.76990779 0.82924665 0.80732788 0.83962863\n",
            " 0.66377843 0.55513731 0.78043333 0.77599905 0.80639589 0.80873673\n",
            " 0.8264963  0.66214892 0.55901792 0.77749673 0.76299297 0.77827756\n",
            " 0.7954     0.83048281 0.67505142 0.5616088  0.77686635 0.7867238\n",
            " 0.78008997 0.80864548 0.85436163 0.71878326 0.7225771  0.72620219\n",
            " 0.72894132 0.73043275 0.73060244 0.72957397 0.7275787  0.72488737\n",
            " 0.72175997 0.71841967 0.71503937 0.7117421  0.70860595 0.70567471\n",
            " 0.70296603 0.700481   0.69821066 0.6961413  0.69425684 0.69254243\n",
            " 0.69098383 0.68956763 0.68828261 0.68711746 0.68606174 0.68510622\n",
            " 0.68424064 0.68345618 0.68274337 0.68209362]\n",
            "1 Day output [[0.68149865]]\n",
            "2 Day input [0.55517453 0.79901111 0.78867157 0.79984508 0.83566209 0.85071834\n",
            " 0.52414715 0.74471399 0.88441507 0.81528719 0.52847821 0.74441455\n",
            " 0.7615396  0.62336544 0.56927577 0.80957657 0.7879251  0.7795816\n",
            " 0.8084783  0.82451031 0.65457453 0.57047125 0.86038036 0.85398888\n",
            " 0.7963912  0.79842648 0.8492844  0.66094358 0.77921561 0.77153572\n",
            " 0.78862237 0.81702343 0.83655434 0.67552819 0.53936027 0.76597251\n",
            " 0.7906296  0.91546231 0.85998568 0.83361936 0.66669684 0.580406\n",
            " 0.78536361 0.76990779 0.82924665 0.80732788 0.83962863 0.66377843\n",
            " 0.55513731 0.78043333 0.77599905 0.80639589 0.80873673 0.8264963\n",
            " 0.66214892 0.55901792 0.77749673 0.76299297 0.77827756 0.7954\n",
            " 0.83048281 0.67505142 0.5616088  0.77686635 0.7867238  0.78008997\n",
            " 0.80864548 0.85436163 0.71878326 0.7225771  0.72620219 0.72894132\n",
            " 0.73043275 0.73060244 0.72957397 0.7275787  0.72488737 0.72175997\n",
            " 0.71841967 0.71503937 0.7117421  0.70860595 0.70567471 0.70296603\n",
            " 0.700481   0.69821066 0.6961413  0.69425684 0.69254243 0.69098383\n",
            " 0.68956763 0.68828261 0.68711746 0.68606174 0.68510622 0.68424064\n",
            " 0.68345618 0.68274337 0.68209362 0.68149865]\n",
            "2 Day output [[0.68095106]]\n",
            "3 Day input [0.79901111 0.78867157 0.79984508 0.83566209 0.85071834 0.52414715\n",
            " 0.74471399 0.88441507 0.81528719 0.52847821 0.74441455 0.7615396\n",
            " 0.62336544 0.56927577 0.80957657 0.7879251  0.7795816  0.8084783\n",
            " 0.82451031 0.65457453 0.57047125 0.86038036 0.85398888 0.7963912\n",
            " 0.79842648 0.8492844  0.66094358 0.77921561 0.77153572 0.78862237\n",
            " 0.81702343 0.83655434 0.67552819 0.53936027 0.76597251 0.7906296\n",
            " 0.91546231 0.85998568 0.83361936 0.66669684 0.580406   0.78536361\n",
            " 0.76990779 0.82924665 0.80732788 0.83962863 0.66377843 0.55513731\n",
            " 0.78043333 0.77599905 0.80639589 0.80873673 0.8264963  0.66214892\n",
            " 0.55901792 0.77749673 0.76299297 0.77827756 0.7954     0.83048281\n",
            " 0.67505142 0.5616088  0.77686635 0.7867238  0.78008997 0.80864548\n",
            " 0.85436163 0.71878326 0.7225771  0.72620219 0.72894132 0.73043275\n",
            " 0.73060244 0.72957397 0.7275787  0.72488737 0.72175997 0.71841967\n",
            " 0.71503937 0.7117421  0.70860595 0.70567471 0.70296603 0.700481\n",
            " 0.69821066 0.6961413  0.69425684 0.69254243 0.69098383 0.68956763\n",
            " 0.68828261 0.68711746 0.68606174 0.68510622 0.68424064 0.68345618\n",
            " 0.68274337 0.68209362 0.68149865 0.68095106]\n",
            "3 Day output [[0.68044335]]\n",
            "4 Day input [0.78867157 0.79984508 0.83566209 0.85071834 0.52414715 0.74471399\n",
            " 0.88441507 0.81528719 0.52847821 0.74441455 0.7615396  0.62336544\n",
            " 0.56927577 0.80957657 0.7879251  0.7795816  0.8084783  0.82451031\n",
            " 0.65457453 0.57047125 0.86038036 0.85398888 0.7963912  0.79842648\n",
            " 0.8492844  0.66094358 0.77921561 0.77153572 0.78862237 0.81702343\n",
            " 0.83655434 0.67552819 0.53936027 0.76597251 0.7906296  0.91546231\n",
            " 0.85998568 0.83361936 0.66669684 0.580406   0.78536361 0.76990779\n",
            " 0.82924665 0.80732788 0.83962863 0.66377843 0.55513731 0.78043333\n",
            " 0.77599905 0.80639589 0.80873673 0.8264963  0.66214892 0.55901792\n",
            " 0.77749673 0.76299297 0.77827756 0.7954     0.83048281 0.67505142\n",
            " 0.5616088  0.77686635 0.7867238  0.78008997 0.80864548 0.85436163\n",
            " 0.71878326 0.7225771  0.72620219 0.72894132 0.73043275 0.73060244\n",
            " 0.72957397 0.7275787  0.72488737 0.72175997 0.71841967 0.71503937\n",
            " 0.7117421  0.70860595 0.70567471 0.70296603 0.700481   0.69821066\n",
            " 0.6961413  0.69425684 0.69254243 0.69098383 0.68956763 0.68828261\n",
            " 0.68711746 0.68606174 0.68510622 0.68424064 0.68345618 0.68274337\n",
            " 0.68209362 0.68149865 0.68095106 0.68044335]\n",
            "4 Day output [[0.67996913]]\n",
            "5 Day input [0.79984508 0.83566209 0.85071834 0.52414715 0.74471399 0.88441507\n",
            " 0.81528719 0.52847821 0.74441455 0.7615396  0.62336544 0.56927577\n",
            " 0.80957657 0.7879251  0.7795816  0.8084783  0.82451031 0.65457453\n",
            " 0.57047125 0.86038036 0.85398888 0.7963912  0.79842648 0.8492844\n",
            " 0.66094358 0.77921561 0.77153572 0.78862237 0.81702343 0.83655434\n",
            " 0.67552819 0.53936027 0.76597251 0.7906296  0.91546231 0.85998568\n",
            " 0.83361936 0.66669684 0.580406   0.78536361 0.76990779 0.82924665\n",
            " 0.80732788 0.83962863 0.66377843 0.55513731 0.78043333 0.77599905\n",
            " 0.80639589 0.80873673 0.8264963  0.66214892 0.55901792 0.77749673\n",
            " 0.76299297 0.77827756 0.7954     0.83048281 0.67505142 0.5616088\n",
            " 0.77686635 0.7867238  0.78008997 0.80864548 0.85436163 0.71878326\n",
            " 0.7225771  0.72620219 0.72894132 0.73043275 0.73060244 0.72957397\n",
            " 0.7275787  0.72488737 0.72175997 0.71841967 0.71503937 0.7117421\n",
            " 0.70860595 0.70567471 0.70296603 0.700481   0.69821066 0.6961413\n",
            " 0.69425684 0.69254243 0.69098383 0.68956763 0.68828261 0.68711746\n",
            " 0.68606174 0.68510622 0.68424064 0.68345618 0.68274337 0.68209362\n",
            " 0.68149865 0.68095106 0.68044335 0.67996913]\n",
            "5 Day output [[0.67952293]]\n",
            "6 Day input [0.83566209 0.85071834 0.52414715 0.74471399 0.88441507 0.81528719\n",
            " 0.52847821 0.74441455 0.7615396  0.62336544 0.56927577 0.80957657\n",
            " 0.7879251  0.7795816  0.8084783  0.82451031 0.65457453 0.57047125\n",
            " 0.86038036 0.85398888 0.7963912  0.79842648 0.8492844  0.66094358\n",
            " 0.77921561 0.77153572 0.78862237 0.81702343 0.83655434 0.67552819\n",
            " 0.53936027 0.76597251 0.7906296  0.91546231 0.85998568 0.83361936\n",
            " 0.66669684 0.580406   0.78536361 0.76990779 0.82924665 0.80732788\n",
            " 0.83962863 0.66377843 0.55513731 0.78043333 0.77599905 0.80639589\n",
            " 0.80873673 0.8264963  0.66214892 0.55901792 0.77749673 0.76299297\n",
            " 0.77827756 0.7954     0.83048281 0.67505142 0.5616088  0.77686635\n",
            " 0.7867238  0.78008997 0.80864548 0.85436163 0.71878326 0.7225771\n",
            " 0.72620219 0.72894132 0.73043275 0.73060244 0.72957397 0.7275787\n",
            " 0.72488737 0.72175997 0.71841967 0.71503937 0.7117421  0.70860595\n",
            " 0.70567471 0.70296603 0.700481   0.69821066 0.6961413  0.69425684\n",
            " 0.69254243 0.69098383 0.68956763 0.68828261 0.68711746 0.68606174\n",
            " 0.68510622 0.68424064 0.68345618 0.68274337 0.68209362 0.68149865\n",
            " 0.68095106 0.68044335 0.67996913 0.67952293]\n",
            "6 Day output [[0.6790995]]\n",
            "7 Day input [0.85071834 0.52414715 0.74471399 0.88441507 0.81528719 0.52847821\n",
            " 0.74441455 0.7615396  0.62336544 0.56927577 0.80957657 0.7879251\n",
            " 0.7795816  0.8084783  0.82451031 0.65457453 0.57047125 0.86038036\n",
            " 0.85398888 0.7963912  0.79842648 0.8492844  0.66094358 0.77921561\n",
            " 0.77153572 0.78862237 0.81702343 0.83655434 0.67552819 0.53936027\n",
            " 0.76597251 0.7906296  0.91546231 0.85998568 0.83361936 0.66669684\n",
            " 0.580406   0.78536361 0.76990779 0.82924665 0.80732788 0.83962863\n",
            " 0.66377843 0.55513731 0.78043333 0.77599905 0.80639589 0.80873673\n",
            " 0.8264963  0.66214892 0.55901792 0.77749673 0.76299297 0.77827756\n",
            " 0.7954     0.83048281 0.67505142 0.5616088  0.77686635 0.7867238\n",
            " 0.78008997 0.80864548 0.85436163 0.71878326 0.7225771  0.72620219\n",
            " 0.72894132 0.73043275 0.73060244 0.72957397 0.7275787  0.72488737\n",
            " 0.72175997 0.71841967 0.71503937 0.7117421  0.70860595 0.70567471\n",
            " 0.70296603 0.700481   0.69821066 0.6961413  0.69425684 0.69254243\n",
            " 0.69098383 0.68956763 0.68828261 0.68711746 0.68606174 0.68510622\n",
            " 0.68424064 0.68345618 0.68274337 0.68209362 0.68149865 0.68095106\n",
            " 0.68044335 0.67996913 0.67952293 0.6790995 ]\n",
            "7 Day output [[0.6786945]]\n",
            "8 Day input [0.52414715 0.74471399 0.88441507 0.81528719 0.52847821 0.74441455\n",
            " 0.7615396  0.62336544 0.56927577 0.80957657 0.7879251  0.7795816\n",
            " 0.8084783  0.82451031 0.65457453 0.57047125 0.86038036 0.85398888\n",
            " 0.7963912  0.79842648 0.8492844  0.66094358 0.77921561 0.77153572\n",
            " 0.78862237 0.81702343 0.83655434 0.67552819 0.53936027 0.76597251\n",
            " 0.7906296  0.91546231 0.85998568 0.83361936 0.66669684 0.580406\n",
            " 0.78536361 0.76990779 0.82924665 0.80732788 0.83962863 0.66377843\n",
            " 0.55513731 0.78043333 0.77599905 0.80639589 0.80873673 0.8264963\n",
            " 0.66214892 0.55901792 0.77749673 0.76299297 0.77827756 0.7954\n",
            " 0.83048281 0.67505142 0.5616088  0.77686635 0.7867238  0.78008997\n",
            " 0.80864548 0.85436163 0.71878326 0.7225771  0.72620219 0.72894132\n",
            " 0.73043275 0.73060244 0.72957397 0.7275787  0.72488737 0.72175997\n",
            " 0.71841967 0.71503937 0.7117421  0.70860595 0.70567471 0.70296603\n",
            " 0.700481   0.69821066 0.6961413  0.69425684 0.69254243 0.69098383\n",
            " 0.68956763 0.68828261 0.68711746 0.68606174 0.68510622 0.68424064\n",
            " 0.68345618 0.68274337 0.68209362 0.68149865 0.68095106 0.68044335\n",
            " 0.67996913 0.67952293 0.6790995  0.67869449]\n",
            "8 Day output [[0.67830455]]\n",
            "9 Day input [0.74471399 0.88441507 0.81528719 0.52847821 0.74441455 0.7615396\n",
            " 0.62336544 0.56927577 0.80957657 0.7879251  0.7795816  0.8084783\n",
            " 0.82451031 0.65457453 0.57047125 0.86038036 0.85398888 0.7963912\n",
            " 0.79842648 0.8492844  0.66094358 0.77921561 0.77153572 0.78862237\n",
            " 0.81702343 0.83655434 0.67552819 0.53936027 0.76597251 0.7906296\n",
            " 0.91546231 0.85998568 0.83361936 0.66669684 0.580406   0.78536361\n",
            " 0.76990779 0.82924665 0.80732788 0.83962863 0.66377843 0.55513731\n",
            " 0.78043333 0.77599905 0.80639589 0.80873673 0.8264963  0.66214892\n",
            " 0.55901792 0.77749673 0.76299297 0.77827756 0.7954     0.83048281\n",
            " 0.67505142 0.5616088  0.77686635 0.7867238  0.78008997 0.80864548\n",
            " 0.85436163 0.71878326 0.7225771  0.72620219 0.72894132 0.73043275\n",
            " 0.73060244 0.72957397 0.7275787  0.72488737 0.72175997 0.71841967\n",
            " 0.71503937 0.7117421  0.70860595 0.70567471 0.70296603 0.700481\n",
            " 0.69821066 0.6961413  0.69425684 0.69254243 0.69098383 0.68956763\n",
            " 0.68828261 0.68711746 0.68606174 0.68510622 0.68424064 0.68345618\n",
            " 0.68274337 0.68209362 0.68149865 0.68095106 0.68044335 0.67996913\n",
            " 0.67952293 0.6790995  0.67869449 0.67830455]\n",
            "9 Day output [[0.6779269]]\n",
            "10 Day input [0.88441507 0.81528719 0.52847821 0.74441455 0.7615396  0.62336544\n",
            " 0.56927577 0.80957657 0.7879251  0.7795816  0.8084783  0.82451031\n",
            " 0.65457453 0.57047125 0.86038036 0.85398888 0.7963912  0.79842648\n",
            " 0.8492844  0.66094358 0.77921561 0.77153572 0.78862237 0.81702343\n",
            " 0.83655434 0.67552819 0.53936027 0.76597251 0.7906296  0.91546231\n",
            " 0.85998568 0.83361936 0.66669684 0.580406   0.78536361 0.76990779\n",
            " 0.82924665 0.80732788 0.83962863 0.66377843 0.55513731 0.78043333\n",
            " 0.77599905 0.80639589 0.80873673 0.8264963  0.66214892 0.55901792\n",
            " 0.77749673 0.76299297 0.77827756 0.7954     0.83048281 0.67505142\n",
            " 0.5616088  0.77686635 0.7867238  0.78008997 0.80864548 0.85436163\n",
            " 0.71878326 0.7225771  0.72620219 0.72894132 0.73043275 0.73060244\n",
            " 0.72957397 0.7275787  0.72488737 0.72175997 0.71841967 0.71503937\n",
            " 0.7117421  0.70860595 0.70567471 0.70296603 0.700481   0.69821066\n",
            " 0.6961413  0.69425684 0.69254243 0.69098383 0.68956763 0.68828261\n",
            " 0.68711746 0.68606174 0.68510622 0.68424064 0.68345618 0.68274337\n",
            " 0.68209362 0.68149865 0.68095106 0.68044335 0.67996913 0.67952293\n",
            " 0.6790995  0.67869449 0.67830455 0.6779269 ]\n",
            "10 Day output [[0.6775585]]\n",
            "11 Day input [0.81528719 0.52847821 0.74441455 0.7615396  0.62336544 0.56927577\n",
            " 0.80957657 0.7879251  0.7795816  0.8084783  0.82451031 0.65457453\n",
            " 0.57047125 0.86038036 0.85398888 0.7963912  0.79842648 0.8492844\n",
            " 0.66094358 0.77921561 0.77153572 0.78862237 0.81702343 0.83655434\n",
            " 0.67552819 0.53936027 0.76597251 0.7906296  0.91546231 0.85998568\n",
            " 0.83361936 0.66669684 0.580406   0.78536361 0.76990779 0.82924665\n",
            " 0.80732788 0.83962863 0.66377843 0.55513731 0.78043333 0.77599905\n",
            " 0.80639589 0.80873673 0.8264963  0.66214892 0.55901792 0.77749673\n",
            " 0.76299297 0.77827756 0.7954     0.83048281 0.67505142 0.5616088\n",
            " 0.77686635 0.7867238  0.78008997 0.80864548 0.85436163 0.71878326\n",
            " 0.7225771  0.72620219 0.72894132 0.73043275 0.73060244 0.72957397\n",
            " 0.7275787  0.72488737 0.72175997 0.71841967 0.71503937 0.7117421\n",
            " 0.70860595 0.70567471 0.70296603 0.700481   0.69821066 0.6961413\n",
            " 0.69425684 0.69254243 0.69098383 0.68956763 0.68828261 0.68711746\n",
            " 0.68606174 0.68510622 0.68424064 0.68345618 0.68274337 0.68209362\n",
            " 0.68149865 0.68095106 0.68044335 0.67996913 0.67952293 0.6790995\n",
            " 0.67869449 0.67830455 0.6779269  0.67755848]\n",
            "11 Day output [[0.6771983]]\n",
            "12 Day input [0.52847821 0.74441455 0.7615396  0.62336544 0.56927577 0.80957657\n",
            " 0.7879251  0.7795816  0.8084783  0.82451031 0.65457453 0.57047125\n",
            " 0.86038036 0.85398888 0.7963912  0.79842648 0.8492844  0.66094358\n",
            " 0.77921561 0.77153572 0.78862237 0.81702343 0.83655434 0.67552819\n",
            " 0.53936027 0.76597251 0.7906296  0.91546231 0.85998568 0.83361936\n",
            " 0.66669684 0.580406   0.78536361 0.76990779 0.82924665 0.80732788\n",
            " 0.83962863 0.66377843 0.55513731 0.78043333 0.77599905 0.80639589\n",
            " 0.80873673 0.8264963  0.66214892 0.55901792 0.77749673 0.76299297\n",
            " 0.77827756 0.7954     0.83048281 0.67505142 0.5616088  0.77686635\n",
            " 0.7867238  0.78008997 0.80864548 0.85436163 0.71878326 0.7225771\n",
            " 0.72620219 0.72894132 0.73043275 0.73060244 0.72957397 0.7275787\n",
            " 0.72488737 0.72175997 0.71841967 0.71503937 0.7117421  0.70860595\n",
            " 0.70567471 0.70296603 0.700481   0.69821066 0.6961413  0.69425684\n",
            " 0.69254243 0.69098383 0.68956763 0.68828261 0.68711746 0.68606174\n",
            " 0.68510622 0.68424064 0.68345618 0.68274337 0.68209362 0.68149865\n",
            " 0.68095106 0.68044335 0.67996913 0.67952293 0.6790995  0.67869449\n",
            " 0.67830455 0.6779269  0.67755848 0.67719829]\n",
            "12 Day output [[0.67684454]]\n",
            "13 Day input [0.74441455 0.7615396  0.62336544 0.56927577 0.80957657 0.7879251\n",
            " 0.7795816  0.8084783  0.82451031 0.65457453 0.57047125 0.86038036\n",
            " 0.85398888 0.7963912  0.79842648 0.8492844  0.66094358 0.77921561\n",
            " 0.77153572 0.78862237 0.81702343 0.83655434 0.67552819 0.53936027\n",
            " 0.76597251 0.7906296  0.91546231 0.85998568 0.83361936 0.66669684\n",
            " 0.580406   0.78536361 0.76990779 0.82924665 0.80732788 0.83962863\n",
            " 0.66377843 0.55513731 0.78043333 0.77599905 0.80639589 0.80873673\n",
            " 0.8264963  0.66214892 0.55901792 0.77749673 0.76299297 0.77827756\n",
            " 0.7954     0.83048281 0.67505142 0.5616088  0.77686635 0.7867238\n",
            " 0.78008997 0.80864548 0.85436163 0.71878326 0.7225771  0.72620219\n",
            " 0.72894132 0.73043275 0.73060244 0.72957397 0.7275787  0.72488737\n",
            " 0.72175997 0.71841967 0.71503937 0.7117421  0.70860595 0.70567471\n",
            " 0.70296603 0.700481   0.69821066 0.6961413  0.69425684 0.69254243\n",
            " 0.69098383 0.68956763 0.68828261 0.68711746 0.68606174 0.68510622\n",
            " 0.68424064 0.68345618 0.68274337 0.68209362 0.68149865 0.68095106\n",
            " 0.68044335 0.67996913 0.67952293 0.6790995  0.67869449 0.67830455\n",
            " 0.6779269  0.67755848 0.67719829 0.67684454]\n",
            "13 Day output [[0.6764964]]\n",
            "14 Day input [0.7615396  0.62336544 0.56927577 0.80957657 0.7879251  0.7795816\n",
            " 0.8084783  0.82451031 0.65457453 0.57047125 0.86038036 0.85398888\n",
            " 0.7963912  0.79842648 0.8492844  0.66094358 0.77921561 0.77153572\n",
            " 0.78862237 0.81702343 0.83655434 0.67552819 0.53936027 0.76597251\n",
            " 0.7906296  0.91546231 0.85998568 0.83361936 0.66669684 0.580406\n",
            " 0.78536361 0.76990779 0.82924665 0.80732788 0.83962863 0.66377843\n",
            " 0.55513731 0.78043333 0.77599905 0.80639589 0.80873673 0.8264963\n",
            " 0.66214892 0.55901792 0.77749673 0.76299297 0.77827756 0.7954\n",
            " 0.83048281 0.67505142 0.5616088  0.77686635 0.7867238  0.78008997\n",
            " 0.80864548 0.85436163 0.71878326 0.7225771  0.72620219 0.72894132\n",
            " 0.73043275 0.73060244 0.72957397 0.7275787  0.72488737 0.72175997\n",
            " 0.71841967 0.71503937 0.7117421  0.70860595 0.70567471 0.70296603\n",
            " 0.700481   0.69821066 0.6961413  0.69425684 0.69254243 0.69098383\n",
            " 0.68956763 0.68828261 0.68711746 0.68606174 0.68510622 0.68424064\n",
            " 0.68345618 0.68274337 0.68209362 0.68149865 0.68095106 0.68044335\n",
            " 0.67996913 0.67952293 0.6790995  0.67869449 0.67830455 0.6779269\n",
            " 0.67755848 0.67719829 0.67684454 0.67649639]\n",
            "14 Day output [[0.6761537]]\n",
            "15 Day input [0.62336544 0.56927577 0.80957657 0.7879251  0.7795816  0.8084783\n",
            " 0.82451031 0.65457453 0.57047125 0.86038036 0.85398888 0.7963912\n",
            " 0.79842648 0.8492844  0.66094358 0.77921561 0.77153572 0.78862237\n",
            " 0.81702343 0.83655434 0.67552819 0.53936027 0.76597251 0.7906296\n",
            " 0.91546231 0.85998568 0.83361936 0.66669684 0.580406   0.78536361\n",
            " 0.76990779 0.82924665 0.80732788 0.83962863 0.66377843 0.55513731\n",
            " 0.78043333 0.77599905 0.80639589 0.80873673 0.8264963  0.66214892\n",
            " 0.55901792 0.77749673 0.76299297 0.77827756 0.7954     0.83048281\n",
            " 0.67505142 0.5616088  0.77686635 0.7867238  0.78008997 0.80864548\n",
            " 0.85436163 0.71878326 0.7225771  0.72620219 0.72894132 0.73043275\n",
            " 0.73060244 0.72957397 0.7275787  0.72488737 0.72175997 0.71841967\n",
            " 0.71503937 0.7117421  0.70860595 0.70567471 0.70296603 0.700481\n",
            " 0.69821066 0.6961413  0.69425684 0.69254243 0.69098383 0.68956763\n",
            " 0.68828261 0.68711746 0.68606174 0.68510622 0.68424064 0.68345618\n",
            " 0.68274337 0.68209362 0.68149865 0.68095106 0.68044335 0.67996913\n",
            " 0.67952293 0.6790995  0.67869449 0.67830455 0.6779269  0.67755848\n",
            " 0.67719829 0.67684454 0.67649639 0.67615372]\n",
            "15 Day output [[0.6758156]]\n",
            "16 Day input [0.56927577 0.80957657 0.7879251  0.7795816  0.8084783  0.82451031\n",
            " 0.65457453 0.57047125 0.86038036 0.85398888 0.7963912  0.79842648\n",
            " 0.8492844  0.66094358 0.77921561 0.77153572 0.78862237 0.81702343\n",
            " 0.83655434 0.67552819 0.53936027 0.76597251 0.7906296  0.91546231\n",
            " 0.85998568 0.83361936 0.66669684 0.580406   0.78536361 0.76990779\n",
            " 0.82924665 0.80732788 0.83962863 0.66377843 0.55513731 0.78043333\n",
            " 0.77599905 0.80639589 0.80873673 0.8264963  0.66214892 0.55901792\n",
            " 0.77749673 0.76299297 0.77827756 0.7954     0.83048281 0.67505142\n",
            " 0.5616088  0.77686635 0.7867238  0.78008997 0.80864548 0.85436163\n",
            " 0.71878326 0.7225771  0.72620219 0.72894132 0.73043275 0.73060244\n",
            " 0.72957397 0.7275787  0.72488737 0.72175997 0.71841967 0.71503937\n",
            " 0.7117421  0.70860595 0.70567471 0.70296603 0.700481   0.69821066\n",
            " 0.6961413  0.69425684 0.69254243 0.69098383 0.68956763 0.68828261\n",
            " 0.68711746 0.68606174 0.68510622 0.68424064 0.68345618 0.68274337\n",
            " 0.68209362 0.68149865 0.68095106 0.68044335 0.67996913 0.67952293\n",
            " 0.6790995  0.67869449 0.67830455 0.6779269  0.67755848 0.67719829\n",
            " 0.67684454 0.67649639 0.67615372 0.67581558]\n",
            "16 Day output [[0.67548233]]\n",
            "17 Day input [0.80957657 0.7879251  0.7795816  0.8084783  0.82451031 0.65457453\n",
            " 0.57047125 0.86038036 0.85398888 0.7963912  0.79842648 0.8492844\n",
            " 0.66094358 0.77921561 0.77153572 0.78862237 0.81702343 0.83655434\n",
            " 0.67552819 0.53936027 0.76597251 0.7906296  0.91546231 0.85998568\n",
            " 0.83361936 0.66669684 0.580406   0.78536361 0.76990779 0.82924665\n",
            " 0.80732788 0.83962863 0.66377843 0.55513731 0.78043333 0.77599905\n",
            " 0.80639589 0.80873673 0.8264963  0.66214892 0.55901792 0.77749673\n",
            " 0.76299297 0.77827756 0.7954     0.83048281 0.67505142 0.5616088\n",
            " 0.77686635 0.7867238  0.78008997 0.80864548 0.85436163 0.71878326\n",
            " 0.7225771  0.72620219 0.72894132 0.73043275 0.73060244 0.72957397\n",
            " 0.7275787  0.72488737 0.72175997 0.71841967 0.71503937 0.7117421\n",
            " 0.70860595 0.70567471 0.70296603 0.700481   0.69821066 0.6961413\n",
            " 0.69425684 0.69254243 0.69098383 0.68956763 0.68828261 0.68711746\n",
            " 0.68606174 0.68510622 0.68424064 0.68345618 0.68274337 0.68209362\n",
            " 0.68149865 0.68095106 0.68044335 0.67996913 0.67952293 0.6790995\n",
            " 0.67869449 0.67830455 0.6779269  0.67755848 0.67719829 0.67684454\n",
            " 0.67649639 0.67615372 0.67581558 0.67548233]\n",
            "17 Day output [[0.6751544]]\n",
            "18 Day input [0.7879251  0.7795816  0.8084783  0.82451031 0.65457453 0.57047125\n",
            " 0.86038036 0.85398888 0.7963912  0.79842648 0.8492844  0.66094358\n",
            " 0.77921561 0.77153572 0.78862237 0.81702343 0.83655434 0.67552819\n",
            " 0.53936027 0.76597251 0.7906296  0.91546231 0.85998568 0.83361936\n",
            " 0.66669684 0.580406   0.78536361 0.76990779 0.82924665 0.80732788\n",
            " 0.83962863 0.66377843 0.55513731 0.78043333 0.77599905 0.80639589\n",
            " 0.80873673 0.8264963  0.66214892 0.55901792 0.77749673 0.76299297\n",
            " 0.77827756 0.7954     0.83048281 0.67505142 0.5616088  0.77686635\n",
            " 0.7867238  0.78008997 0.80864548 0.85436163 0.71878326 0.7225771\n",
            " 0.72620219 0.72894132 0.73043275 0.73060244 0.72957397 0.7275787\n",
            " 0.72488737 0.72175997 0.71841967 0.71503937 0.7117421  0.70860595\n",
            " 0.70567471 0.70296603 0.700481   0.69821066 0.6961413  0.69425684\n",
            " 0.69254243 0.69098383 0.68956763 0.68828261 0.68711746 0.68606174\n",
            " 0.68510622 0.68424064 0.68345618 0.68274337 0.68209362 0.68149865\n",
            " 0.68095106 0.68044335 0.67996913 0.67952293 0.6790995  0.67869449\n",
            " 0.67830455 0.6779269  0.67755848 0.67719829 0.67684454 0.67649639\n",
            " 0.67615372 0.67581558 0.67548233 0.67515439]\n",
            "18 Day output [[0.6748317]]\n",
            "19 Day input [0.7795816  0.8084783  0.82451031 0.65457453 0.57047125 0.86038036\n",
            " 0.85398888 0.7963912  0.79842648 0.8492844  0.66094358 0.77921561\n",
            " 0.77153572 0.78862237 0.81702343 0.83655434 0.67552819 0.53936027\n",
            " 0.76597251 0.7906296  0.91546231 0.85998568 0.83361936 0.66669684\n",
            " 0.580406   0.78536361 0.76990779 0.82924665 0.80732788 0.83962863\n",
            " 0.66377843 0.55513731 0.78043333 0.77599905 0.80639589 0.80873673\n",
            " 0.8264963  0.66214892 0.55901792 0.77749673 0.76299297 0.77827756\n",
            " 0.7954     0.83048281 0.67505142 0.5616088  0.77686635 0.7867238\n",
            " 0.78008997 0.80864548 0.85436163 0.71878326 0.7225771  0.72620219\n",
            " 0.72894132 0.73043275 0.73060244 0.72957397 0.7275787  0.72488737\n",
            " 0.72175997 0.71841967 0.71503937 0.7117421  0.70860595 0.70567471\n",
            " 0.70296603 0.700481   0.69821066 0.6961413  0.69425684 0.69254243\n",
            " 0.69098383 0.68956763 0.68828261 0.68711746 0.68606174 0.68510622\n",
            " 0.68424064 0.68345618 0.68274337 0.68209362 0.68149865 0.68095106\n",
            " 0.68044335 0.67996913 0.67952293 0.6790995  0.67869449 0.67830455\n",
            " 0.6779269  0.67755848 0.67719829 0.67684454 0.67649639 0.67615372\n",
            " 0.67581558 0.67548233 0.67515439 0.67483169]\n",
            "19 Day output [[0.674515]]\n",
            "20 Day input [0.8084783  0.82451031 0.65457453 0.57047125 0.86038036 0.85398888\n",
            " 0.7963912  0.79842648 0.8492844  0.66094358 0.77921561 0.77153572\n",
            " 0.78862237 0.81702343 0.83655434 0.67552819 0.53936027 0.76597251\n",
            " 0.7906296  0.91546231 0.85998568 0.83361936 0.66669684 0.580406\n",
            " 0.78536361 0.76990779 0.82924665 0.80732788 0.83962863 0.66377843\n",
            " 0.55513731 0.78043333 0.77599905 0.80639589 0.80873673 0.8264963\n",
            " 0.66214892 0.55901792 0.77749673 0.76299297 0.77827756 0.7954\n",
            " 0.83048281 0.67505142 0.5616088  0.77686635 0.7867238  0.78008997\n",
            " 0.80864548 0.85436163 0.71878326 0.7225771  0.72620219 0.72894132\n",
            " 0.73043275 0.73060244 0.72957397 0.7275787  0.72488737 0.72175997\n",
            " 0.71841967 0.71503937 0.7117421  0.70860595 0.70567471 0.70296603\n",
            " 0.700481   0.69821066 0.6961413  0.69425684 0.69254243 0.69098383\n",
            " 0.68956763 0.68828261 0.68711746 0.68606174 0.68510622 0.68424064\n",
            " 0.68345618 0.68274337 0.68209362 0.68149865 0.68095106 0.68044335\n",
            " 0.67996913 0.67952293 0.6790995  0.67869449 0.67830455 0.6779269\n",
            " 0.67755848 0.67719829 0.67684454 0.67649639 0.67615372 0.67581558\n",
            " 0.67548233 0.67515439 0.67483169 0.67451501]\n",
            "20 Day output [[0.67420447]]\n",
            "21 Day input [0.82451031 0.65457453 0.57047125 0.86038036 0.85398888 0.7963912\n",
            " 0.79842648 0.8492844  0.66094358 0.77921561 0.77153572 0.78862237\n",
            " 0.81702343 0.83655434 0.67552819 0.53936027 0.76597251 0.7906296\n",
            " 0.91546231 0.85998568 0.83361936 0.66669684 0.580406   0.78536361\n",
            " 0.76990779 0.82924665 0.80732788 0.83962863 0.66377843 0.55513731\n",
            " 0.78043333 0.77599905 0.80639589 0.80873673 0.8264963  0.66214892\n",
            " 0.55901792 0.77749673 0.76299297 0.77827756 0.7954     0.83048281\n",
            " 0.67505142 0.5616088  0.77686635 0.7867238  0.78008997 0.80864548\n",
            " 0.85436163 0.71878326 0.7225771  0.72620219 0.72894132 0.73043275\n",
            " 0.73060244 0.72957397 0.7275787  0.72488737 0.72175997 0.71841967\n",
            " 0.71503937 0.7117421  0.70860595 0.70567471 0.70296603 0.700481\n",
            " 0.69821066 0.6961413  0.69425684 0.69254243 0.69098383 0.68956763\n",
            " 0.68828261 0.68711746 0.68606174 0.68510622 0.68424064 0.68345618\n",
            " 0.68274337 0.68209362 0.68149865 0.68095106 0.68044335 0.67996913\n",
            " 0.67952293 0.6790995  0.67869449 0.67830455 0.6779269  0.67755848\n",
            " 0.67719829 0.67684454 0.67649639 0.67615372 0.67581558 0.67548233\n",
            " 0.67515439 0.67483169 0.67451501 0.67420447]\n",
            "21 Day output [[0.6739009]]\n",
            "22 Day input [0.65457453 0.57047125 0.86038036 0.85398888 0.7963912  0.79842648\n",
            " 0.8492844  0.66094358 0.77921561 0.77153572 0.78862237 0.81702343\n",
            " 0.83655434 0.67552819 0.53936027 0.76597251 0.7906296  0.91546231\n",
            " 0.85998568 0.83361936 0.66669684 0.580406   0.78536361 0.76990779\n",
            " 0.82924665 0.80732788 0.83962863 0.66377843 0.55513731 0.78043333\n",
            " 0.77599905 0.80639589 0.80873673 0.8264963  0.66214892 0.55901792\n",
            " 0.77749673 0.76299297 0.77827756 0.7954     0.83048281 0.67505142\n",
            " 0.5616088  0.77686635 0.7867238  0.78008997 0.80864548 0.85436163\n",
            " 0.71878326 0.7225771  0.72620219 0.72894132 0.73043275 0.73060244\n",
            " 0.72957397 0.7275787  0.72488737 0.72175997 0.71841967 0.71503937\n",
            " 0.7117421  0.70860595 0.70567471 0.70296603 0.700481   0.69821066\n",
            " 0.6961413  0.69425684 0.69254243 0.69098383 0.68956763 0.68828261\n",
            " 0.68711746 0.68606174 0.68510622 0.68424064 0.68345618 0.68274337\n",
            " 0.68209362 0.68149865 0.68095106 0.68044335 0.67996913 0.67952293\n",
            " 0.6790995  0.67869449 0.67830455 0.6779269  0.67755848 0.67719829\n",
            " 0.67684454 0.67649639 0.67615372 0.67581558 0.67548233 0.67515439\n",
            " 0.67483169 0.67451501 0.67420447 0.6739009 ]\n",
            "22 Day output [[0.6736047]]\n",
            "23 Day input [0.57047125 0.86038036 0.85398888 0.7963912  0.79842648 0.8492844\n",
            " 0.66094358 0.77921561 0.77153572 0.78862237 0.81702343 0.83655434\n",
            " 0.67552819 0.53936027 0.76597251 0.7906296  0.91546231 0.85998568\n",
            " 0.83361936 0.66669684 0.580406   0.78536361 0.76990779 0.82924665\n",
            " 0.80732788 0.83962863 0.66377843 0.55513731 0.78043333 0.77599905\n",
            " 0.80639589 0.80873673 0.8264963  0.66214892 0.55901792 0.77749673\n",
            " 0.76299297 0.77827756 0.7954     0.83048281 0.67505142 0.5616088\n",
            " 0.77686635 0.7867238  0.78008997 0.80864548 0.85436163 0.71878326\n",
            " 0.7225771  0.72620219 0.72894132 0.73043275 0.73060244 0.72957397\n",
            " 0.7275787  0.72488737 0.72175997 0.71841967 0.71503937 0.7117421\n",
            " 0.70860595 0.70567471 0.70296603 0.700481   0.69821066 0.6961413\n",
            " 0.69425684 0.69254243 0.69098383 0.68956763 0.68828261 0.68711746\n",
            " 0.68606174 0.68510622 0.68424064 0.68345618 0.68274337 0.68209362\n",
            " 0.68149865 0.68095106 0.68044335 0.67996913 0.67952293 0.6790995\n",
            " 0.67869449 0.67830455 0.6779269  0.67755848 0.67719829 0.67684454\n",
            " 0.67649639 0.67615372 0.67581558 0.67548233 0.67515439 0.67483169\n",
            " 0.67451501 0.67420447 0.6739009  0.67360473]\n",
            "23 Day output [[0.67331654]]\n",
            "24 Day input [0.86038036 0.85398888 0.7963912  0.79842648 0.8492844  0.66094358\n",
            " 0.77921561 0.77153572 0.78862237 0.81702343 0.83655434 0.67552819\n",
            " 0.53936027 0.76597251 0.7906296  0.91546231 0.85998568 0.83361936\n",
            " 0.66669684 0.580406   0.78536361 0.76990779 0.82924665 0.80732788\n",
            " 0.83962863 0.66377843 0.55513731 0.78043333 0.77599905 0.80639589\n",
            " 0.80873673 0.8264963  0.66214892 0.55901792 0.77749673 0.76299297\n",
            " 0.77827756 0.7954     0.83048281 0.67505142 0.5616088  0.77686635\n",
            " 0.7867238  0.78008997 0.80864548 0.85436163 0.71878326 0.7225771\n",
            " 0.72620219 0.72894132 0.73043275 0.73060244 0.72957397 0.7275787\n",
            " 0.72488737 0.72175997 0.71841967 0.71503937 0.7117421  0.70860595\n",
            " 0.70567471 0.70296603 0.700481   0.69821066 0.6961413  0.69425684\n",
            " 0.69254243 0.69098383 0.68956763 0.68828261 0.68711746 0.68606174\n",
            " 0.68510622 0.68424064 0.68345618 0.68274337 0.68209362 0.68149865\n",
            " 0.68095106 0.68044335 0.67996913 0.67952293 0.6790995  0.67869449\n",
            " 0.67830455 0.6779269  0.67755848 0.67719829 0.67684454 0.67649639\n",
            " 0.67615372 0.67581558 0.67548233 0.67515439 0.67483169 0.67451501\n",
            " 0.67420447 0.6739009  0.67360473 0.67331654]\n",
            "24 Day output [[0.673037]]\n",
            "25 Day input [0.85398888 0.7963912  0.79842648 0.8492844  0.66094358 0.77921561\n",
            " 0.77153572 0.78862237 0.81702343 0.83655434 0.67552819 0.53936027\n",
            " 0.76597251 0.7906296  0.91546231 0.85998568 0.83361936 0.66669684\n",
            " 0.580406   0.78536361 0.76990779 0.82924665 0.80732788 0.83962863\n",
            " 0.66377843 0.55513731 0.78043333 0.77599905 0.80639589 0.80873673\n",
            " 0.8264963  0.66214892 0.55901792 0.77749673 0.76299297 0.77827756\n",
            " 0.7954     0.83048281 0.67505142 0.5616088  0.77686635 0.7867238\n",
            " 0.78008997 0.80864548 0.85436163 0.71878326 0.7225771  0.72620219\n",
            " 0.72894132 0.73043275 0.73060244 0.72957397 0.7275787  0.72488737\n",
            " 0.72175997 0.71841967 0.71503937 0.7117421  0.70860595 0.70567471\n",
            " 0.70296603 0.700481   0.69821066 0.6961413  0.69425684 0.69254243\n",
            " 0.69098383 0.68956763 0.68828261 0.68711746 0.68606174 0.68510622\n",
            " 0.68424064 0.68345618 0.68274337 0.68209362 0.68149865 0.68095106\n",
            " 0.68044335 0.67996913 0.67952293 0.6790995  0.67869449 0.67830455\n",
            " 0.6779269  0.67755848 0.67719829 0.67684454 0.67649639 0.67615372\n",
            " 0.67581558 0.67548233 0.67515439 0.67483169 0.67451501 0.67420447\n",
            " 0.6739009  0.67360473 0.67331654 0.67303699]\n",
            "25 Day output [[0.67276615]]\n",
            "26 Day input [0.7963912  0.79842648 0.8492844  0.66094358 0.77921561 0.77153572\n",
            " 0.78862237 0.81702343 0.83655434 0.67552819 0.53936027 0.76597251\n",
            " 0.7906296  0.91546231 0.85998568 0.83361936 0.66669684 0.580406\n",
            " 0.78536361 0.76990779 0.82924665 0.80732788 0.83962863 0.66377843\n",
            " 0.55513731 0.78043333 0.77599905 0.80639589 0.80873673 0.8264963\n",
            " 0.66214892 0.55901792 0.77749673 0.76299297 0.77827756 0.7954\n",
            " 0.83048281 0.67505142 0.5616088  0.77686635 0.7867238  0.78008997\n",
            " 0.80864548 0.85436163 0.71878326 0.7225771  0.72620219 0.72894132\n",
            " 0.73043275 0.73060244 0.72957397 0.7275787  0.72488737 0.72175997\n",
            " 0.71841967 0.71503937 0.7117421  0.70860595 0.70567471 0.70296603\n",
            " 0.700481   0.69821066 0.6961413  0.69425684 0.69254243 0.69098383\n",
            " 0.68956763 0.68828261 0.68711746 0.68606174 0.68510622 0.68424064\n",
            " 0.68345618 0.68274337 0.68209362 0.68149865 0.68095106 0.68044335\n",
            " 0.67996913 0.67952293 0.6790995  0.67869449 0.67830455 0.6779269\n",
            " 0.67755848 0.67719829 0.67684454 0.67649639 0.67615372 0.67581558\n",
            " 0.67548233 0.67515439 0.67483169 0.67451501 0.67420447 0.6739009\n",
            " 0.67360473 0.67331654 0.67303699 0.67276615]\n",
            "26 Day output [[0.6725045]]\n",
            "27 Day input [0.79842648 0.8492844  0.66094358 0.77921561 0.77153572 0.78862237\n",
            " 0.81702343 0.83655434 0.67552819 0.53936027 0.76597251 0.7906296\n",
            " 0.91546231 0.85998568 0.83361936 0.66669684 0.580406   0.78536361\n",
            " 0.76990779 0.82924665 0.80732788 0.83962863 0.66377843 0.55513731\n",
            " 0.78043333 0.77599905 0.80639589 0.80873673 0.8264963  0.66214892\n",
            " 0.55901792 0.77749673 0.76299297 0.77827756 0.7954     0.83048281\n",
            " 0.67505142 0.5616088  0.77686635 0.7867238  0.78008997 0.80864548\n",
            " 0.85436163 0.71878326 0.7225771  0.72620219 0.72894132 0.73043275\n",
            " 0.73060244 0.72957397 0.7275787  0.72488737 0.72175997 0.71841967\n",
            " 0.71503937 0.7117421  0.70860595 0.70567471 0.70296603 0.700481\n",
            " 0.69821066 0.6961413  0.69425684 0.69254243 0.69098383 0.68956763\n",
            " 0.68828261 0.68711746 0.68606174 0.68510622 0.68424064 0.68345618\n",
            " 0.68274337 0.68209362 0.68149865 0.68095106 0.68044335 0.67996913\n",
            " 0.67952293 0.6790995  0.67869449 0.67830455 0.6779269  0.67755848\n",
            " 0.67719829 0.67684454 0.67649639 0.67615372 0.67581558 0.67548233\n",
            " 0.67515439 0.67483169 0.67451501 0.67420447 0.6739009  0.67360473\n",
            " 0.67331654 0.67303699 0.67276615 0.67250448]\n",
            "27 Day output [[0.6722524]]\n",
            "28 Day input [0.8492844  0.66094358 0.77921561 0.77153572 0.78862237 0.81702343\n",
            " 0.83655434 0.67552819 0.53936027 0.76597251 0.7906296  0.91546231\n",
            " 0.85998568 0.83361936 0.66669684 0.580406   0.78536361 0.76990779\n",
            " 0.82924665 0.80732788 0.83962863 0.66377843 0.55513731 0.78043333\n",
            " 0.77599905 0.80639589 0.80873673 0.8264963  0.66214892 0.55901792\n",
            " 0.77749673 0.76299297 0.77827756 0.7954     0.83048281 0.67505142\n",
            " 0.5616088  0.77686635 0.7867238  0.78008997 0.80864548 0.85436163\n",
            " 0.71878326 0.7225771  0.72620219 0.72894132 0.73043275 0.73060244\n",
            " 0.72957397 0.7275787  0.72488737 0.72175997 0.71841967 0.71503937\n",
            " 0.7117421  0.70860595 0.70567471 0.70296603 0.700481   0.69821066\n",
            " 0.6961413  0.69425684 0.69254243 0.69098383 0.68956763 0.68828261\n",
            " 0.68711746 0.68606174 0.68510622 0.68424064 0.68345618 0.68274337\n",
            " 0.68209362 0.68149865 0.68095106 0.68044335 0.67996913 0.67952293\n",
            " 0.6790995  0.67869449 0.67830455 0.6779269  0.67755848 0.67719829\n",
            " 0.67684454 0.67649639 0.67615372 0.67581558 0.67548233 0.67515439\n",
            " 0.67483169 0.67451501 0.67420447 0.6739009  0.67360473 0.67331654\n",
            " 0.67303699 0.67276615 0.67250448 0.67225242]\n",
            "28 Day output [[0.6720103]]\n",
            "29 Day input [0.66094358 0.77921561 0.77153572 0.78862237 0.81702343 0.83655434\n",
            " 0.67552819 0.53936027 0.76597251 0.7906296  0.91546231 0.85998568\n",
            " 0.83361936 0.66669684 0.580406   0.78536361 0.76990779 0.82924665\n",
            " 0.80732788 0.83962863 0.66377843 0.55513731 0.78043333 0.77599905\n",
            " 0.80639589 0.80873673 0.8264963  0.66214892 0.55901792 0.77749673\n",
            " 0.76299297 0.77827756 0.7954     0.83048281 0.67505142 0.5616088\n",
            " 0.77686635 0.7867238  0.78008997 0.80864548 0.85436163 0.71878326\n",
            " 0.7225771  0.72620219 0.72894132 0.73043275 0.73060244 0.72957397\n",
            " 0.7275787  0.72488737 0.72175997 0.71841967 0.71503937 0.7117421\n",
            " 0.70860595 0.70567471 0.70296603 0.700481   0.69821066 0.6961413\n",
            " 0.69425684 0.69254243 0.69098383 0.68956763 0.68828261 0.68711746\n",
            " 0.68606174 0.68510622 0.68424064 0.68345618 0.68274337 0.68209362\n",
            " 0.68149865 0.68095106 0.68044335 0.67996913 0.67952293 0.6790995\n",
            " 0.67869449 0.67830455 0.6779269  0.67755848 0.67719829 0.67684454\n",
            " 0.67649639 0.67615372 0.67581558 0.67548233 0.67515439 0.67483169\n",
            " 0.67451501 0.67420447 0.6739009  0.67360473 0.67331654 0.67303699\n",
            " 0.67276615 0.67250448 0.67225242 0.6720103 ]\n",
            "29 Day output [[0.67177796]]\n",
            "[[0.682093620300293], [0.681498646736145], [0.6809510588645935], [0.6804433465003967], [0.6799691319465637], [0.6795229315757751], [0.6790995001792908], [0.678694486618042], [0.6783045530319214], [0.6779268980026245], [0.6775584816932678], [0.6771982908248901], [0.6768445372581482], [0.6764963865280151], [0.6761537194252014], [0.6758155822753906], [0.6754823327064514], [0.6751543879508972], [0.6748316884040833], [0.6745150089263916], [0.6742044687271118], [0.6739009022712708], [0.6736047267913818], [0.6733165383338928], [0.6730369925498962], [0.6727661490440369], [0.6725044846534729], [0.6722524166107178], [0.6720103025436401], [0.6717779636383057]]\n"
          ],
          "name": "stdout"
        }
      ]
    },
    {
      "cell_type": "code",
      "metadata": {
        "id": "d08fLnxODy4h",
        "outputId": "76282f76-bda9-445b-f7ab-7b5a64da0440",
        "colab": {
          "base_uri": "https://localhost:8080/",
          "height": 34
        }
      },
      "source": [
        "len(df1)"
      ],
      "execution_count": 88,
      "outputs": [
        {
          "output_type": "execute_result",
          "data": {
            "text/plain": [
              "1328"
            ]
          },
          "metadata": {
            "tags": []
          },
          "execution_count": 88
        }
      ]
    },
    {
      "cell_type": "code",
      "metadata": {
        "id": "9YYqIx-HFjOF"
      },
      "source": [
        "day_new=np.arange(1,101)\n",
        "day_pred=np.arange(101,131)"
      ],
      "execution_count": 90,
      "outputs": []
    },
    {
      "cell_type": "code",
      "metadata": {
        "id": "XkWMg8M3Gdvy",
        "outputId": "9bc2144f-449f-4893-d305-1c187c4679ef",
        "colab": {
          "base_uri": "https://localhost:8080/",
          "height": 527
        }
      },
      "source": [
        "scaler.inverse_transform(lst_output)"
      ],
      "execution_count": 94,
      "outputs": [
        {
          "output_type": "execute_result",
          "data": {
            "text/plain": [
              "array([[23599068.6327095 ],\n",
              "       [23586999.79149199],\n",
              "       [23575892.15331674],\n",
              "       [23565593.37656951],\n",
              "       [23555974.09178424],\n",
              "       [23546923.06540132],\n",
              "       [23538333.90010285],\n",
              "       [23530118.33447742],\n",
              "       [23522208.66114092],\n",
              "       [23514548.0542531 ],\n",
              "       [23507074.85173202],\n",
              "       [23499768.49955034],\n",
              "       [23492592.72589517],\n",
              "       [23485530.60392046],\n",
              "       [23478579.71550536],\n",
              "       [23471720.71568298],\n",
              "       [23464960.85881591],\n",
              "       [23458308.60832715],\n",
              "       [23451762.75515628],\n",
              "       [23445339.01708889],\n",
              "       [23439039.81224585],\n",
              "       [23432882.06747317],\n",
              "       [23426874.24619389],\n",
              "       [23421028.43901229],\n",
              "       [23415357.94559312],\n",
              "       [23409863.97499681],\n",
              "       [23404556.19970679],\n",
              "       [23399443.0831461 ],\n",
              "       [23394531.8796773 ],\n",
              "       [23389818.9621191 ]])"
            ]
          },
          "metadata": {
            "tags": []
          },
          "execution_count": 94
        }
      ]
    },
    {
      "cell_type": "code",
      "metadata": {
        "id": "gmnNqeyFHCuh",
        "outputId": "5b72d755-5b33-4306-b3f5-3f0b312f961a",
        "colab": {
          "base_uri": "https://localhost:8080/",
          "height": 1000
        }
      },
      "source": [
        "scaler.inverse_transform(df1[1228:])"
      ],
      "execution_count": 95,
      "outputs": [
        {
          "output_type": "execute_result",
          "data": {
            "text/plain": [
              "array([[25577099.],\n",
              "       [25965672.],\n",
              "       [26716377.],\n",
              "       [23036545.],\n",
              "       [20455313.],\n",
              "       [21947145.],\n",
              "       [24784903.],\n",
              "       [25060052.],\n",
              "       [26038239.],\n",
              "       [29293802.],\n",
              "       [23698669.],\n",
              "       [21612732.],\n",
              "       [25918613.],\n",
              "       [25707727.],\n",
              "       [25910597.],\n",
              "       [26186278.],\n",
              "       [26597468.],\n",
              "       [23309053.],\n",
              "       [22005024.],\n",
              "       [26010553.],\n",
              "       [25762962.],\n",
              "       [26288623.],\n",
              "       [26607297.],\n",
              "       [27676497.],\n",
              "       [23597895.],\n",
              "       [20554266.],\n",
              "       [25761838.],\n",
              "       [25372249.],\n",
              "       [26153427.],\n",
              "       [26229998.],\n",
              "       [26710644.],\n",
              "       [23411713.],\n",
              "       [21024557.],\n",
              "       [25970701.],\n",
              "       [25760967.],\n",
              "       [25987618.],\n",
              "       [26714154.],\n",
              "       [27019565.],\n",
              "       [20395177.],\n",
              "       [24869302.],\n",
              "       [27703092.],\n",
              "       [26300856.],\n",
              "       [20483031.],\n",
              "       [24863228.],\n",
              "       [25210604.],\n",
              "       [22407787.],\n",
              "       [21310596.],\n",
              "       [26185018.],\n",
              "       [25745825.],\n",
              "       [25576580.],\n",
              "       [26162740.],\n",
              "       [26487944.],\n",
              "       [23040853.],\n",
              "       [21334846.],\n",
              "       [27215556.],\n",
              "       [27085907.],\n",
              "       [25917557.],\n",
              "       [25958842.],\n",
              "       [26990478.],\n",
              "       [23170047.],\n",
              "       [25569156.],\n",
              "       [25413372.],\n",
              "       [25759969.],\n",
              "       [26336075.],\n",
              "       [26732253.],\n",
              "       [23465891.],\n",
              "       [20703770.],\n",
              "       [25300524.],\n",
              "       [25800685.],\n",
              "       [28332875.],\n",
              "       [27207550.],\n",
              "       [26672718.],\n",
              "       [23286750.],\n",
              "       [21536369.],\n",
              "       [25693866.],\n",
              "       [25380350.],\n",
              "       [26584019.],\n",
              "       [26139404.],\n",
              "       [26794614.],\n",
              "       [23227551.],\n",
              "       [21023802.],\n",
              "       [25593857.],\n",
              "       [25503909.],\n",
              "       [26120499.],\n",
              "       [26167982.],\n",
              "       [26528229.],\n",
              "       [23194497.],\n",
              "       [21102519.],\n",
              "       [25534289.],\n",
              "       [25240085.],\n",
              "       [25550128.],\n",
              "       [25897451.],\n",
              "       [26609094.],\n",
              "       [23456220.],\n",
              "       [21155074.],\n",
              "       [25521502.],\n",
              "       [25721457.],\n",
              "       [25586892.],\n",
              "       [26166131.],\n",
              "       [27093468.]])"
            ]
          },
          "metadata": {
            "tags": []
          },
          "execution_count": 95
        }
      ]
    },
    {
      "cell_type": "code",
      "metadata": {
        "id": "ggG8frNbDy0j",
        "outputId": "291f45ae-015c-49a2-933b-f55d7042a163",
        "colab": {
          "base_uri": "https://localhost:8080/",
          "height": 293
        }
      },
      "source": [
        "plt.plot(day_new,scaler.inverse_transform(df1[1228:]))\n",
        "plt.plot(day_pred,scaler.inverse_transform(lst_output))"
      ],
      "execution_count": 91,
      "outputs": [
        {
          "output_type": "execute_result",
          "data": {
            "text/plain": [
              "[<matplotlib.lines.Line2D at 0x7f011bc3ecc0>]"
            ]
          },
          "metadata": {
            "tags": []
          },
          "execution_count": 91
        },
        {
          "output_type": "display_data",
          "data": {
            "image/png": "[encoded data removed]",
            "text/plain": [
              "<Figure size 432x288 with 1 Axes>"
            ]
          },
          "metadata": {
            "tags": [],
            "needs_background": "light"
          }
        }
      ]
    },
    {
      "cell_type": "code",
      "metadata": {
        "id": "UDG8GnEYDyzt"
      },
      "source": [
        "df3=df1.tolist()\n",
        "df3.extend(lst_output)"
      ],
      "execution_count": 92,
      "outputs": []
    },
    {
      "cell_type": "code",
      "metadata": {
        "id": "P8o8V6EwH1kd",
        "outputId": "b2472908-6420-4f0f-9841-a8e3f2c3d4ee",
        "colab": {
          "base_uri": "https://localhost:8080/",
          "height": 34
        }
      },
      "source": [
        "len(df3)"
      ],
      "execution_count": 101,
      "outputs": [
        {
          "output_type": "execute_result",
          "data": {
            "text/plain": [
              "1358"
            ]
          },
          "metadata": {
            "tags": []
          },
          "execution_count": 101
        }
      ]
    },
    {
      "cell_type": "code",
      "metadata": {
        "id": "YPiPZATUGQCq",
        "outputId": "18c79f3b-4b69-4904-ce17-e9bc8392ea3a",
        "colab": {
          "base_uri": "https://localhost:8080/",
          "height": 282
        }
      },
      "source": [
        "plt.plot(df3[1258:1358])"
      ],
      "execution_count": 103,
      "outputs": [
        {
          "output_type": "execute_result",
          "data": {
            "text/plain": [
              "[<matplotlib.lines.Line2D at 0x7f0116f54a20>]"
            ]
          },
          "metadata": {
            "tags": []
          },
          "execution_count": 103
        },
        {
          "output_type": "display_data",
          "data": {
            "image/png": "[encoded data removed]",
            "text/plain": [
              "<Figure size 432x288 with 1 Axes>"
            ]
          },
          "metadata": {
            "tags": [],
            "needs_background": "light"
          }
        }
      ]
    }
  ]
}