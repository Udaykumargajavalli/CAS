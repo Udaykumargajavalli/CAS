{
  "nbformat": 4,
  "nbformat_minor": 0,
  "metadata": {
    "colab": {
      "name": "CAS_LSTM_FULL.ipynb",
      "provenance": []
    },
    "kernelspec": {
      "name": "python3",
      "display_name": "Python 3"
    },
    "accelerator": "GPU"
  },
  "cells": [
    {
      "cell_type": "markdown",
      "metadata": {
        "id": "sKzGf0h618O6"
      },
      "source": [
        "1. CAS Requests Dataset\n",
        "2. Test Setup & Persistence Model Forecast\n",
        "4. LSTM Data Preparation\n",
        "5. LSTM Model Development\n",
        "6. LSTM Forecast\n",
        "7. Complete LSTM Example\n",
        "8. Develop a Robust Result"
      ]
    },
    {
      "cell_type": "markdown",
      "metadata": {
        "id": "XcfgqDk78b23"
      },
      "source": [
        "# CAS Requests Dataset"
      ]
    },
    {
      "cell_type": "code",
      "metadata": {
        "id": "eK6K2KB214U-"
      },
      "source": [
        "# import libraries\n",
        "\n",
        "import pandas as pd\n",
        "import numpy as np\n",
        "import matplotlib.pyplot as plt\n",
        "import math\n",
        "from sklearn.metrics import mean_squared_error"
      ],
      "execution_count": 47,
      "outputs": []
    },
    {
      "cell_type": "code",
      "metadata": {
        "id": "K1uy82d625sX",
        "outputId": "a7168002-b4e8-4f3e-b3fe-193d7c36af2f",
        "colab": {
          "base_uri": "https://localhost:8080/",
          "height": 235
        }
      },
      "source": [
        "# load the dataset \n",
        "\n",
        "df = pd.read_csv(\"Data_final.csv\",parse_dates=[0],index_col=0)\n",
        "# first few rows\n",
        "\n",
        "df.head()"
      ],
      "execution_count": 48,
      "outputs": [
        {
          "output_type": "execute_result",
          "data": {
            "text/html": [
              "<div>\n",
              "<style scoped>\n",
              "    .dataframe tbody tr th:only-of-type {\n",
              "        vertical-align: middle;\n",
              "    }\n",
              "\n",
              "    .dataframe tbody tr th {\n",
              "        vertical-align: top;\n",
              "    }\n",
              "\n",
              "    .dataframe thead th {\n",
              "        text-align: right;\n",
              "    }\n",
              "</style>\n",
              "<table border=\"1\" class=\"dataframe\">\n",
              "  <thead>\n",
              "    <tr style=\"text-align: right;\">\n",
              "      <th></th>\n",
              "      <th>Requests</th>\n",
              "    </tr>\n",
              "    <tr>\n",
              "      <th>Date</th>\n",
              "      <th></th>\n",
              "    </tr>\n",
              "  </thead>\n",
              "  <tbody>\n",
              "    <tr>\n",
              "      <th>1998-01-01</th>\n",
              "      <td>137317594</td>\n",
              "    </tr>\n",
              "    <tr>\n",
              "      <th>1998-02-01</th>\n",
              "      <td>133211380</td>\n",
              "    </tr>\n",
              "    <tr>\n",
              "      <th>1998-03-01</th>\n",
              "      <td>149453070</td>\n",
              "    </tr>\n",
              "    <tr>\n",
              "      <th>1998-04-01</th>\n",
              "      <td>148053372</td>\n",
              "    </tr>\n",
              "    <tr>\n",
              "      <th>1998-05-01</th>\n",
              "      <td>153271739</td>\n",
              "    </tr>\n",
              "  </tbody>\n",
              "</table>\n",
              "</div>"
            ],
            "text/plain": [
              "             Requests\n",
              "Date                 \n",
              "1998-01-01  137317594\n",
              "1998-02-01  133211380\n",
              "1998-03-01  149453070\n",
              "1998-04-01  148053372\n",
              "1998-05-01  153271739"
            ]
          },
          "metadata": {
            "tags": []
          },
          "execution_count": 48
        }
      ]
    },
    {
      "cell_type": "code",
      "metadata": {
        "id": "h8okCSdN91-9",
        "outputId": "2a5d24ed-dbbf-4816-91ce-848f97fb1ffd",
        "colab": {
          "base_uri": "https://localhost:8080/",
          "height": 328
        }
      },
      "source": [
        "df.tail(8)"
      ],
      "execution_count": 49,
      "outputs": [
        {
          "output_type": "execute_result",
          "data": {
            "text/html": [
              "<div>\n",
              "<style scoped>\n",
              "    .dataframe tbody tr th:only-of-type {\n",
              "        vertical-align: middle;\n",
              "    }\n",
              "\n",
              "    .dataframe tbody tr th {\n",
              "        vertical-align: top;\n",
              "    }\n",
              "\n",
              "    .dataframe thead th {\n",
              "        text-align: right;\n",
              "    }\n",
              "</style>\n",
              "<table border=\"1\" class=\"dataframe\">\n",
              "  <thead>\n",
              "    <tr style=\"text-align: right;\">\n",
              "      <th></th>\n",
              "      <th>Requests</th>\n",
              "    </tr>\n",
              "    <tr>\n",
              "      <th>Date</th>\n",
              "      <th></th>\n",
              "    </tr>\n",
              "  </thead>\n",
              "  <tbody>\n",
              "    <tr>\n",
              "      <th>2018-01-01</th>\n",
              "      <td>701676279</td>\n",
              "    </tr>\n",
              "    <tr>\n",
              "      <th>2018-02-01</th>\n",
              "      <td>674027650</td>\n",
              "    </tr>\n",
              "    <tr>\n",
              "      <th>2018-03-01</th>\n",
              "      <td>758219563</td>\n",
              "    </tr>\n",
              "    <tr>\n",
              "      <th>2018-04-01</th>\n",
              "      <td>729014682</td>\n",
              "    </tr>\n",
              "    <tr>\n",
              "      <th>2018-05-01</th>\n",
              "      <td>771300508</td>\n",
              "    </tr>\n",
              "    <tr>\n",
              "      <th>2018-06-01</th>\n",
              "      <td>753250664</td>\n",
              "    </tr>\n",
              "    <tr>\n",
              "      <th>2018-07-01</th>\n",
              "      <td>749102384</td>\n",
              "    </tr>\n",
              "    <tr>\n",
              "      <th>2018-08-01</th>\n",
              "      <td>779623151</td>\n",
              "    </tr>\n",
              "  </tbody>\n",
              "</table>\n",
              "</div>"
            ],
            "text/plain": [
              "             Requests\n",
              "Date                 \n",
              "2018-01-01  701676279\n",
              "2018-02-01  674027650\n",
              "2018-03-01  758219563\n",
              "2018-04-01  729014682\n",
              "2018-05-01  771300508\n",
              "2018-06-01  753250664\n",
              "2018-07-01  749102384\n",
              "2018-08-01  779623151"
            ]
          },
          "metadata": {
            "tags": []
          },
          "execution_count": 49
        }
      ]
    },
    {
      "cell_type": "code",
      "metadata": {
        "id": "DnyBU13f-NKg",
        "outputId": "37e6a6dc-5df7-4b17-fcda-71f4f98e691c",
        "colab": {
          "base_uri": "https://localhost:8080/",
          "height": 34
        }
      },
      "source": [
        "df.shape"
      ],
      "execution_count": 50,
      "outputs": [
        {
          "output_type": "execute_result",
          "data": {
            "text/plain": [
              "(248, 1)"
            ]
          },
          "metadata": {
            "tags": []
          },
          "execution_count": 50
        }
      ]
    },
    {
      "cell_type": "markdown",
      "metadata": {
        "id": "9LkauO7H-AZh"
      },
      "source": [
        "We have total 248 observations and 19 years starting from 1998 and 2017 years."
      ]
    },
    {
      "cell_type": "code",
      "metadata": {
        "id": "caivw5Ft3LEt",
        "outputId": "62fa6909-295e-4935-80c9-27bd1524f4bb",
        "colab": {
          "base_uri": "https://localhost:8080/",
          "height": 290
        }
      },
      "source": [
        "df.plot()\n",
        "plt.show()"
      ],
      "execution_count": 51,
      "outputs": [
        {
          "output_type": "display_data",
          "data": {
            "image/png": "[encoded data removed]",
            "text/plain": [
              "<Figure size 432x288 with 1 Axes>"
            ]
          },
          "metadata": {
            "tags": [],
            "needs_background": "light"
          }
        }
      ]
    },
    {
      "cell_type": "markdown",
      "metadata": {
        "id": "NXcI1RS73SV5"
      },
      "source": [
        "A line plot of the series is then created showing a clear increasing trend."
      ]
    },
    {
      "cell_type": "markdown",
      "metadata": {
        "id": "ku9HFGo58gUn"
      },
      "source": [
        "# Test Setup & Persistence model"
      ]
    },
    {
      "cell_type": "code",
      "metadata": {
        "id": "HjWcF0xJBPCN"
      },
      "source": [
        "# split data into train and test\n",
        "X = df.values\n",
        "train, test = X[0:-48], X[-48:]"
      ],
      "execution_count": 52,
      "outputs": []
    },
    {
      "cell_type": "code",
      "metadata": {
        "id": "Tk8A6XUqgOAL",
        "outputId": "d65c1571-9006-4bd7-8ea4-af60c705f1b7",
        "colab": {
          "base_uri": "https://localhost:8080/",
          "height": 34
        }
      },
      "source": [
        "train.shape"
      ],
      "execution_count": 53,
      "outputs": [
        {
          "output_type": "execute_result",
          "data": {
            "text/plain": [
              "(200, 1)"
            ]
          },
          "metadata": {
            "tags": []
          },
          "execution_count": 53
        }
      ]
    },
    {
      "cell_type": "code",
      "metadata": {
        "id": "WRPCM68-gOKg",
        "outputId": "23ad00eb-b44c-4fb4-f276-02d1125d1d55",
        "colab": {
          "base_uri": "https://localhost:8080/",
          "height": 34
        }
      },
      "source": [
        "test.shape"
      ],
      "execution_count": 54,
      "outputs": [
        {
          "output_type": "execute_result",
          "data": {
            "text/plain": [
              "(48, 1)"
            ]
          },
          "metadata": {
            "tags": []
          },
          "execution_count": 54
        }
      ]
    },
    {
      "cell_type": "code",
      "metadata": {
        "id": "QuLRBU32gOQR"
      },
      "source": [
        "history = [x for x in train]\n",
        "predictions = list()"
      ],
      "execution_count": 55,
      "outputs": []
    },
    {
      "cell_type": "code",
      "metadata": {
        "id": "xAlEOS_tgOFn",
        "outputId": "99ab7322-385c-4b15-e5b7-b8f277ea9ee7",
        "colab": {
          "base_uri": "https://localhost:8080/",
          "height": 34
        }
      },
      "source": [
        "len(history)"
      ],
      "execution_count": 56,
      "outputs": [
        {
          "output_type": "execute_result",
          "data": {
            "text/plain": [
              "200"
            ]
          },
          "metadata": {
            "tags": []
          },
          "execution_count": 56
        }
      ]
    },
    {
      "cell_type": "code",
      "metadata": {
        "id": "eblfc5eLgOE9"
      },
      "source": [
        "for i in range(len(test)):\n",
        "  predictions.append(history[-1])\n",
        "  history.append(test[i]) "
      ],
      "execution_count": 57,
      "outputs": []
    },
    {
      "cell_type": "code",
      "metadata": {
        "id": "A-7heuHxgN8W",
        "outputId": "f8bd2c01-6120-4dee-af59-8a968db6f37d",
        "colab": {
          "base_uri": "https://localhost:8080/",
          "height": 34
        }
      },
      "source": [
        "from sklearn.metrics import mean_squared_error\n",
        "rmse = math.sqrt(mean_squared_error(test, predictions))\n",
        "print('RMSE: %.3f' % rmse)"
      ],
      "execution_count": 58,
      "outputs": [
        {
          "output_type": "stream",
          "text": [
            "RMSE: 39166981.527\n"
          ],
          "name": "stdout"
        }
      ]
    },
    {
      "cell_type": "code",
      "metadata": {
        "id": "DL_1ZmQMgN7H",
        "outputId": "81c49bd0-e037-4d54-f925-e3513160fb70",
        "colab": {
          "base_uri": "https://localhost:8080/",
          "height": 276
        }
      },
      "source": [
        "# line plot of observed vs predicted\n",
        "plt.plot(test)\n",
        "plt.plot(predictions)\n",
        "plt.show()"
      ],
      "execution_count": 59,
      "outputs": [
        {
          "output_type": "display_data",
          "data": {
            "image/png": "[encoded data removed]",
            "text/plain": [
              "<Figure size 432x288 with 1 Axes>"
            ]
          },
          "metadata": {
            "tags": [],
            "needs_background": "light"
          }
        }
      ]
    },
    {
      "cell_type": "markdown",
      "metadata": {
        "id": "P_VSItOOkyCu"
      },
      "source": [
        "Now that we have a baseline of performance on the dataset, we can get started developing an LSTM model for the data."
      ]
    },
    {
      "cell_type": "markdown",
      "metadata": {
        "id": "KaAQcN1Ck4CU"
      },
      "source": [
        "# LSTM Data Preparation"
      ]
    },
    {
      "cell_type": "markdown",
      "metadata": {
        "id": "-HyL1jTclJjG"
      },
      "source": [
        "### Transform Time Series to Supervised Learning"
      ]
    },
    {
      "cell_type": "code",
      "metadata": {
        "id": "O45qNK1chdRL"
      },
      "source": [
        "# frame a sequence as a supervised learning problem\n",
        "def timeseries_to_supervised(data, lag=1):\n",
        "\tdf = pd.DataFrame(data)\n",
        "\tcolumns = [df.shift(i) for i in range(1, lag+1)]\n",
        "\tcolumns.append(df)\n",
        "\tdf = pd.concat(columns, axis=1)\n",
        "\tdf.fillna(0, inplace=True)\n",
        "\treturn df"
      ],
      "execution_count": 68,
      "outputs": []
    },
    {
      "cell_type": "code",
      "metadata": {
        "id": "4ULOT1q_hdcX",
        "outputId": "e6b628d0-ff77-40f4-8c56-31d5a021d6ba",
        "colab": {
          "base_uri": "https://localhost:8080/",
          "height": 119
        }
      },
      "source": [
        "supervised = timeseries_to_supervised(X, 1)\n",
        "print(supervised.head())"
      ],
      "execution_count": 69,
      "outputs": [
        {
          "output_type": "stream",
          "text": [
            "             0          0\n",
            "0          0.0  137317594\n",
            "1  137317594.0  133211380\n",
            "2  133211380.0  149453070\n",
            "3  149453070.0  148053372\n",
            "4  148053372.0  153271739\n"
          ],
          "name": "stdout"
        }
      ]
    },
    {
      "cell_type": "markdown",
      "metadata": {
        "id": "eXjchHIVmK9C"
      },
      "source": [
        "### Transform Time Series to Stationary"
      ]
    },
    {
      "cell_type": "code",
      "metadata": {
        "id": "tVvylOeShdWn"
      },
      "source": [
        "# create a differenced series\n",
        "def difference(dataset, interval=1):\n",
        "\tdiff = list()\n",
        "\tfor i in range(interval, len(dataset)):\n",
        "\t\tvalue = dataset[i] - dataset[i - interval]\n",
        "\t\tdiff.append(value)\n",
        "\treturn pd.Series(diff)"
      ],
      "execution_count": 72,
      "outputs": []
    },
    {
      "cell_type": "code",
      "metadata": {
        "id": "iypZ754GnE8b"
      },
      "source": [
        "# invert differenced value\n",
        "def inverse_difference(history, yhat, interval=1):\n",
        "\treturn yhat + history[-interval]"
      ],
      "execution_count": 74,
      "outputs": []
    },
    {
      "cell_type": "code",
      "metadata": {
        "id": "7B4KuGPPhdM1",
        "outputId": "86b2e786-29f2-4c39-c765-b64db78a1720",
        "colab": {
          "base_uri": "https://localhost:8080/",
          "height": 221
        }
      },
      "source": [
        "# transform to be stationary\n",
        "differenced = difference(X, 1)\n",
        "print(differenced.head())\n",
        "# invert transform\n",
        "inverted = list()\n",
        "for i in range(len(differenced)):\n",
        "\tvalue = inverse_difference(X, differenced[i], len(X)-i)\n",
        "\tinverted.append(value)\n",
        "inverted = pd.Series(inverted)\n",
        "print(inverted.head())"
      ],
      "execution_count": 75,
      "outputs": [
        {
          "output_type": "stream",
          "text": [
            "0    [-4106214]\n",
            "1    [16241690]\n",
            "2    [-1399698]\n",
            "3     [5218367]\n",
            "4    [-2941252]\n",
            "dtype: object\n",
            "0    [133211380]\n",
            "1    [149453070]\n",
            "2    [148053372]\n",
            "3    [153271739]\n",
            "4    [150330487]\n",
            "dtype: object\n"
          ],
          "name": "stdout"
        }
      ]
    },
    {
      "cell_type": "markdown",
      "metadata": {
        "id": "eJS5aIRxnSfr"
      },
      "source": [
        "### Transform Time Series to Scale"
      ]
    },
    {
      "cell_type": "code",
      "metadata": {
        "id": "epNNJFQShdLw"
      },
      "source": [
        "from sklearn.preprocessing import MinMaxScaler"
      ],
      "execution_count": 76,
      "outputs": []
    },
    {
      "cell_type": "code",
      "metadata": {
        "id": "GQdRGK13nUYp",
        "outputId": "d2b87bb9-cd75-4486-f0af-33da4728803c",
        "colab": {
          "base_uri": "https://localhost:8080/",
          "height": 221
        }
      },
      "source": [
        "X = X.reshape(len(X), 1)\n",
        "scaler = MinMaxScaler(feature_range=(-1, 1))\n",
        "scaler = scaler.fit(X)\n",
        "scaled_X = scaler.transform(X)\n",
        "scaled_series = pd.Series(scaled_X[:, 0])\n",
        "print(scaled_series.head())\n",
        "# invert transform\n",
        "inverted_X = scaler.inverse_transform(scaled_X)\n",
        "inverted_series = pd.Series(inverted_X[:, 0])\n",
        "print(inverted_series.head())"
      ],
      "execution_count": 79,
      "outputs": [
        {
          "output_type": "stream",
          "text": [
            "0   -0.987319\n",
            "1   -1.000000\n",
            "2   -0.949843\n",
            "3   -0.954166\n",
            "4   -0.938051\n",
            "dtype: float64\n",
            "0    137317594.0\n",
            "1    133211380.0\n",
            "2    149453070.0\n",
            "3    148053372.0\n",
            "4    153271739.0\n",
            "dtype: float64\n"
          ],
          "name": "stdout"
        }
      ]
    },
    {
      "cell_type": "markdown",
      "metadata": {
        "id": "JHJW73HLnxGk"
      },
      "source": [
        "# LSTM Model Development"
      ]
    },
    {
      "cell_type": "code",
      "metadata": {
        "id": "4fQy6vsqsSyz"
      },
      "source": [
        "from pandas import DataFrame\n",
        "from pandas import Series\n",
        "from pandas import concat\n",
        "from pandas import read_csv\n",
        "from pandas import datetime\n",
        "from sklearn.metrics import mean_squared_error\n",
        "from sklearn.preprocessing import MinMaxScaler\n",
        "from keras.models import Sequential\n",
        "from keras.layers import Dense\n",
        "from keras.layers import LSTM\n",
        "from math import sqrt\n",
        "from matplotlib import pyplot\n",
        "import numpy"
      ],
      "execution_count": 1,
      "outputs": []
    },
    {
      "cell_type": "code",
      "metadata": {
        "id": "SqCtjIh_nUer"
      },
      "source": [
        "# frame a sequence as a supervised learning problem\n",
        "def timeseries_to_supervised(data, lag=1):\n",
        "\tdf = DataFrame(data)\n",
        "\tcolumns = [df.shift(i) for i in range(1, lag+1)]\n",
        "\tcolumns.append(df)\n",
        "\tdf = concat(columns, axis=1)\n",
        "\tdf.fillna(0, inplace=True)\n",
        "\treturn df"
      ],
      "execution_count": 2,
      "outputs": []
    },
    {
      "cell_type": "code",
      "metadata": {
        "id": "2VGbriNanUd0"
      },
      "source": [
        "# create a differenced series\n",
        "def difference(dataset, interval=1):\n",
        "\tdiff = list()\n",
        "\tfor i in range(interval, len(dataset)):\n",
        "\t\tvalue = dataset[i] - dataset[i - interval]\n",
        "\t\tdiff.append(value)\n",
        "\treturn Series(diff)"
      ],
      "execution_count": 3,
      "outputs": []
    },
    {
      "cell_type": "code",
      "metadata": {
        "id": "wUMHeGj9nUTw"
      },
      "source": [
        "# scale train and test data to [-1, 1]\n",
        "def scale(train, test):\n",
        "\t# fit scaler\n",
        "\tscaler = MinMaxScaler(feature_range=(-1, 1))\n",
        "\tscaler = scaler.fit(train)\n",
        "\t# transform train\n",
        "\ttrain = train.reshape(train.shape[0], train.shape[1])\n",
        "\ttrain_scaled = scaler.transform(train)\n",
        "\t# transform test\n",
        "\ttest = test.reshape(test.shape[0], test.shape[1])\n",
        "\ttest_scaled = scaler.transform(test)\n",
        "\treturn scaler, train_scaled, test_scaled"
      ],
      "execution_count": 4,
      "outputs": []
    },
    {
      "cell_type": "code",
      "metadata": {
        "id": "EIkvJGuOnUTH"
      },
      "source": [
        "# invert differenced value\n",
        "def inverse_difference(history, yhat, interval=1):\n",
        "\treturn yhat + history[-interval]"
      ],
      "execution_count": 5,
      "outputs": []
    },
    {
      "cell_type": "code",
      "metadata": {
        "id": "k4CtmKg-r-TF"
      },
      "source": [
        "# inverse scaling for a forecasted value\n",
        "def invert_scale(scaler, X, value):\n",
        "\tnew_row = [x for x in X] + [value]\n",
        "\tarray = numpy.array(new_row)\n",
        "\tarray = array.reshape(1, len(array))\n",
        "\tinverted = scaler.inverse_transform(array)\n",
        "\treturn inverted[0, -1]"
      ],
      "execution_count": 6,
      "outputs": []
    },
    {
      "cell_type": "code",
      "metadata": {
        "id": "kSDl4HzPr-Ph"
      },
      "source": [
        "# fit an LSTM network to training data\n",
        "def fit_lstm(train, batch_size, nb_epoch, neurons):\n",
        "\tX, y = train[:, 0:-1], train[:, -1]\n",
        "\tX = X.reshape(X.shape[0], 1, X.shape[1])\n",
        "\tmodel = Sequential()\n",
        "\tmodel.add(LSTM(neurons, batch_input_shape=(batch_size, X.shape[1], X.shape[2]), stateful=True))\n",
        "\tmodel.add(Dense(1))\n",
        "\tmodel.compile(loss='mean_squared_error', optimizer='adam')\n",
        "\tfor i in range(nb_epoch):\n",
        "\t\tmodel.fit(X, y, epochs=1, batch_size=batch_size, verbose=0, shuffle=False)\n",
        "\t\tmodel.reset_states()\n",
        "\treturn model"
      ],
      "execution_count": 7,
      "outputs": []
    },
    {
      "cell_type": "code",
      "metadata": {
        "id": "GW4Zdl-lr-OO"
      },
      "source": [
        "# make a one-step forecast\n",
        "def forecast_lstm(model, batch_size, X):\n",
        "\tX = X.reshape(1, 1, len(X))\n",
        "\tyhat = model.predict(X, batch_size=batch_size)\n",
        "\treturn yhat[0,0]"
      ],
      "execution_count": 8,
      "outputs": []
    },
    {
      "cell_type": "code",
      "metadata": {
        "id": "5bhGxIapr_Ge"
      },
      "source": [
        "# load dataset\n",
        "series = read_csv('Data_final.csv', header=0, parse_dates=[0], index_col=0)"
      ],
      "execution_count": 9,
      "outputs": []
    },
    {
      "cell_type": "code",
      "metadata": {
        "id": "GZnxZB0_r_B_"
      },
      "source": [
        "# transform data to be stationary\n",
        "raw_values = series.values\n",
        "diff_values = difference(raw_values, 1)"
      ],
      "execution_count": 10,
      "outputs": []
    },
    {
      "cell_type": "code",
      "metadata": {
        "id": "vLYwQMUpr_BL"
      },
      "source": [
        "# transform data to be supervised learning\n",
        "supervised = timeseries_to_supervised(diff_values, 1)\n",
        "supervised_values = supervised.values"
      ],
      "execution_count": 11,
      "outputs": []
    },
    {
      "cell_type": "code",
      "metadata": {
        "id": "NGWfPkwTsgkl"
      },
      "source": [
        "# split data into train and test-sets\n",
        "train, test = supervised_values[0:-48], supervised_values[-48:]"
      ],
      "execution_count": 12,
      "outputs": []
    },
    {
      "cell_type": "code",
      "metadata": {
        "id": "WAzOga6csg17"
      },
      "source": [
        "# transform the scale of the data\n",
        "scaler, train_scaled, test_scaled = scale(train, test)"
      ],
      "execution_count": 13,
      "outputs": []
    },
    {
      "cell_type": "code",
      "metadata": {
        "id": "b3e4Sz4Wsg7_",
        "outputId": "9e47e12c-31c5-4026-c72a-b7d33a328506",
        "colab": {
          "base_uri": "https://localhost:8080/",
          "height": 1000
        }
      },
      "source": [
        "# fit the model\n",
        "lstm_model = fit_lstm(train_scaled, 1, 100,1)\n",
        "# forecast the entire training dataset to build up state for forecasting\n",
        "train_reshaped = train_scaled[:, 0].reshape(len(train_scaled), 1, 1)\n",
        "lstm_model.predict(train_reshaped, batch_size=1)"
      ],
      "execution_count": 14,
      "outputs": [
        {
          "output_type": "execute_result",
          "data": {
            "text/plain": [
              "array([[-0.29780954],\n",
              "       [-0.23030382],\n",
              "       [-0.22034031],\n",
              "       [-0.1481851 ],\n",
              "       [-0.12500362],\n",
              "       [-0.06807205],\n",
              "       [-0.07816666],\n",
              "       [-0.04471135],\n",
              "       [ 0.01832959],\n",
              "       [-0.04260278],\n",
              "       [ 0.01897204],\n",
              "       [-0.10483691],\n",
              "       [ 0.09849924],\n",
              "       [ 0.04744831],\n",
              "       [-0.07304341],\n",
              "       [-0.00523809],\n",
              "       [-0.03716874],\n",
              "       [-0.03157255],\n",
              "       [-0.03150505],\n",
              "       [-0.06139195],\n",
              "       [ 0.02287197],\n",
              "       [-0.05479306],\n",
              "       [ 0.02201644],\n",
              "       [-0.12324034],\n",
              "       [ 0.11370364],\n",
              "       [-0.02299339],\n",
              "       [-0.08279029],\n",
              "       [ 0.00286803],\n",
              "       [-0.07501021],\n",
              "       [-0.01219931],\n",
              "       [ 0.00834441],\n",
              "       [-0.03094551],\n",
              "       [ 0.04749924],\n",
              "       [-0.01702508],\n",
              "       [ 0.01441598],\n",
              "       [-0.11636168],\n",
              "       [ 0.09953588],\n",
              "       [ 0.10442451],\n",
              "       [-0.10730833],\n",
              "       [ 0.02580386],\n",
              "       [-0.09118539],\n",
              "       [-0.01267546],\n",
              "       [-0.00586987],\n",
              "       [-0.02455086],\n",
              "       [ 0.16345304],\n",
              "       [-0.02566677],\n",
              "       [-0.04233879],\n",
              "       [-0.1339671 ],\n",
              "       [ 0.08459526],\n",
              "       [ 0.0748145 ],\n",
              "       [-0.09135169],\n",
              "       [-0.02234402],\n",
              "       [-0.06256962],\n",
              "       [ 0.01690328],\n",
              "       [-0.0325124 ],\n",
              "       [ 0.02705783],\n",
              "       [ 0.05041048],\n",
              "       [-0.0558224 ],\n",
              "       [ 0.00851598],\n",
              "       [-0.14664704],\n",
              "       [ 0.08608887],\n",
              "       [ 0.09052485],\n",
              "       [-0.10275218],\n",
              "       [ 0.00080162],\n",
              "       [-0.10103974],\n",
              "       [-0.01796034],\n",
              "       [-0.03753507],\n",
              "       [-0.01562214],\n",
              "       [ 0.04653558],\n",
              "       [-0.06053478],\n",
              "       [ 0.02632374],\n",
              "       [-0.17370544],\n",
              "       [ 0.07087478],\n",
              "       [-0.02258047],\n",
              "       [-0.1003736 ],\n",
              "       [-0.0160104 ],\n",
              "       [-0.06727144],\n",
              "       [-0.01755592],\n",
              "       [-0.02642965],\n",
              "       [-0.0077107 ],\n",
              "       [ 0.05973452],\n",
              "       [-0.04976994],\n",
              "       [-0.00216278],\n",
              "       [-0.19361079],\n",
              "       [ 0.05923834],\n",
              "       [ 0.04386067],\n",
              "       [-0.16983594],\n",
              "       [-0.06358323],\n",
              "       [-0.10022652],\n",
              "       [-0.05094743],\n",
              "       [-0.03002474],\n",
              "       [-0.06308654],\n",
              "       [ 0.04474214],\n",
              "       [-0.04433975],\n",
              "       [-0.01613322],\n",
              "       [-0.19729193],\n",
              "       [ 0.05415931],\n",
              "       [ 0.07153872],\n",
              "       [-0.18870024],\n",
              "       [-0.05588859],\n",
              "       [-0.14038832],\n",
              "       [-0.05230385],\n",
              "       [-0.03290492],\n",
              "       [-0.07011992],\n",
              "       [ 0.04747143],\n",
              "       [-0.08686769],\n",
              "       [-0.01498282],\n",
              "       [-0.20956936],\n",
              "       [ 0.03548095],\n",
              "       [ 0.07126132],\n",
              "       [-0.21684204],\n",
              "       [-0.06539613],\n",
              "       [-0.18139541],\n",
              "       [-0.07242167],\n",
              "       [-0.07503462],\n",
              "       [-0.08785003],\n",
              "       [ 0.05685472],\n",
              "       [-0.12171373],\n",
              "       [-0.04035476],\n",
              "       [-0.20454864],\n",
              "       [ 0.03951919],\n",
              "       [ 0.13624552],\n",
              "       [-0.18442027],\n",
              "       [-0.09483197],\n",
              "       [-0.00078037],\n",
              "       [-0.10637465],\n",
              "       [-0.08682692],\n",
              "       [-0.03467748],\n",
              "       [-0.00720689],\n",
              "       [-0.06090122],\n",
              "       [ 0.06660369],\n",
              "       [-0.1981491 ],\n",
              "       [ 0.05994642],\n",
              "       [-0.02190262],\n",
              "       [-0.21617623],\n",
              "       [-0.10372457],\n",
              "       [-0.1422498 ],\n",
              "       [-0.06841272],\n",
              "       [-0.08193034],\n",
              "       [-0.03079948],\n",
              "       [ 0.05539989],\n",
              "       [-0.08505008],\n",
              "       [ 0.23921478],\n",
              "       [-0.3459587 ],\n",
              "       [-0.4109237 ],\n",
              "       [-0.44909257],\n",
              "       [-0.35256734],\n",
              "       [-0.359333  ],\n",
              "       [-0.3033689 ],\n",
              "       [-0.22880475],\n",
              "       [-0.20118979],\n",
              "       [-0.1509199 ],\n",
              "       [-0.05319071],\n",
              "       [-0.16084193],\n",
              "       [ 0.0192351 ],\n",
              "       [-0.2748017 ],\n",
              "       [-0.08630076],\n",
              "       [-0.01452777],\n",
              "       [-0.22531433],\n",
              "       [-0.16732337],\n",
              "       [-0.14423393],\n",
              "       [-0.05726957],\n",
              "       [-0.14314285],\n",
              "       [-0.08772248],\n",
              "       [ 0.02555883],\n",
              "       [-0.00169042],\n",
              "       [-0.09967032],\n",
              "       [-0.25079238],\n",
              "       [-0.04794571],\n",
              "       [ 0.09566677],\n",
              "       [-0.28372192],\n",
              "       [-0.26686603],\n",
              "       [-0.25752816],\n",
              "       [-0.1474216 ],\n",
              "       [-0.12878636],\n",
              "       [-0.12642656],\n",
              "       [ 0.02542499],\n",
              "       [-0.14434494],\n",
              "       [-0.07972682],\n",
              "       [-0.22556676],\n",
              "       [-0.00225371],\n",
              "       [ 0.08583185],\n",
              "       [-0.25900194],\n",
              "       [-0.12971301],\n",
              "       [-0.21145359],\n",
              "       [-0.07690603],\n",
              "       [-0.11864804],\n",
              "       [-0.09723839],\n",
              "       [ 0.05500358],\n",
              "       [-0.15301026],\n",
              "       [-0.04320401],\n",
              "       [-0.2539762 ],\n",
              "       [-0.06173706],\n",
              "       [ 0.02657431],\n",
              "       [-0.29951844],\n",
              "       [-0.16697456],\n",
              "       [-0.23564368],\n",
              "       [-0.11021954],\n",
              "       [-0.13717021]], dtype=float32)"
            ]
          },
          "metadata": {
            "tags": []
          },
          "execution_count": 14
        }
      ]
    },
    {
      "cell_type": "code",
      "metadata": {
        "id": "OKXClmVwsgrQ",
        "outputId": "e9fb6dae-3b9d-4494-c230-68d43db7339f",
        "colab": {
          "base_uri": "https://localhost:8080/",
          "height": 833
        }
      },
      "source": [
        "# walk-forward validation on the test data\n",
        "predictions = list()\n",
        "for i in range(len(test_scaled)):\n",
        "\t# make one-step forecast\n",
        "\tX, y = test_scaled[i, 0:-1], test_scaled[i, -1]\n",
        "\tyhat = forecast_lstm(lstm_model, 1, X)\n",
        "\t# invert scaling\n",
        "\tyhat = invert_scale(scaler, X, yhat)\n",
        "\t# invert differencing\n",
        "\tyhat = inverse_difference(raw_values, yhat, len(test_scaled)+1-i)\n",
        "\t# store forecast\n",
        "\tpredictions.append(yhat)\n",
        "\texpected = raw_values[len(train) + i + 1]\n",
        "\tprint('Month=%d, Predicted=%f, Expected=%f' % (i+1, yhat, expected))"
      ],
      "execution_count": 15,
      "outputs": [
        {
          "output_type": "stream",
          "text": [
            "Month=1, Predicted=659956045.668223, Expected=640821924.000000\n",
            "Month=2, Predicted=655782157.851693, Expected=673482961.000000\n",
            "Month=3, Predicted=667610524.668429, Expected=664210069.000000\n",
            "Month=4, Predicted=672592297.990292, Expected=729341188.000000\n",
            "Month=5, Predicted=709660845.099384, Expected=642349544.000000\n",
            "Month=6, Predicted=640135430.453838, Expected=600791593.000000\n",
            "Month=7, Predicted=609421628.435714, Expected=676741732.000000\n",
            "Month=8, Predicted=653178590.496278, Expected=667388171.000000\n",
            "Month=9, Predicted=658437088.248811, Expected=697729874.000000\n",
            "Month=10, Predicted=682892446.194813, Expected=689745068.000000\n",
            "Month=11, Predicted=687378552.686322, Expected=706532899.000000\n",
            "Month=12, Predicted=700559627.570398, Expected=705389917.000000\n",
            "Month=13, Predicted=707594288.626840, Expected=687697347.000000\n",
            "Month=14, Predicted=702630384.107700, Expected=659993840.000000\n",
            "Month=15, Predicted=688676650.859678, Expected=720272108.000000\n",
            "Month=16, Predicted=705903764.206555, Expected=780851382.000000\n",
            "Month=17, Predicted=759489023.163234, Expected=691421018.000000\n",
            "Month=18, Predicted=682022060.411619, Expected=675457425.000000\n",
            "Month=19, Predicted=671530720.163083, Expected=730820830.000000\n",
            "Month=20, Predicted=710028617.061351, Expected=716571951.000000\n",
            "Month=21, Predicted=711038498.957022, Expected=705796376.000000\n",
            "Month=22, Predicted=708505546.338505, Expected=709485658.000000\n",
            "Month=23, Predicted=712605443.815001, Expected=662939157.000000\n",
            "Month=24, Predicted=691244892.057881, Expected=663466355.000000\n",
            "Month=25, Predicted=680644046.712043, Expected=646785002.000000\n",
            "Month=26, Predicted=673941034.438218, Expected=666421177.000000\n",
            "Month=27, Predicted=674364040.180357, Expected=669172024.000000\n",
            "Month=28, Predicted=681256178.067103, Expected=688571945.000000\n",
            "Month=29, Predicted=691346298.237337, Expected=636723897.000000\n",
            "Month=30, Predicted=670908310.951540, Expected=611262616.000000\n",
            "Month=31, Predicted=648244869.543005, Expected=597520784.000000\n",
            "Month=32, Predicted=632071066.480501, Expected=665218174.000000\n",
            "Month=33, Predicted=650877434.098126, Expected=703098469.000000\n",
            "Month=34, Predicted=688731234.147987, Expected=693552699.000000\n",
            "Month=35, Predicted=694061986.681987, Expected=699180962.000000\n",
            "Month=36, Predicted=700194966.249843, Expected=708718723.000000\n",
            "Month=37, Predicted=709816103.216815, Expected=686939308.000000\n",
            "Month=38, Predicted=704567890.655644, Expected=721874264.000000\n",
            "Month=39, Predicted=715739812.129641, Expected=728094596.000000\n",
            "Month=40, Predicted=729209551.420648, Expected=762851219.000000\n",
            "Month=41, Predicted=752445987.241115, Expected=701676279.000000\n",
            "Month=42, Predicted=719028572.737032, Expected=674027650.000000\n",
            "Month=43, Predicted=698778218.825997, Expected=758219563.000000\n",
            "Month=44, Predicted=735934447.032768, Expected=729014682.000000\n",
            "Month=45, Predicted=727234737.774934, Expected=771300508.000000\n",
            "Month=46, Predicted=754359736.157924, Expected=753250664.000000\n",
            "Month=47, Predicted=752573986.141756, Expected=749102384.000000\n",
            "Month=48, Predicted=752773286.920998, Expected=779623151.000000\n"
          ],
          "name": "stdout"
        }
      ]
    },
    {
      "cell_type": "code",
      "metadata": {
        "id": "WjCYcJyLsgqV",
        "outputId": "691c3790-7a46-46e7-aca9-7854b4b1c897",
        "colab": {
          "base_uri": "https://localhost:8080/",
          "height": 293
        }
      },
      "source": [
        "# report performance\n",
        "rmse = sqrt(mean_squared_error(raw_values[-48:], predictions))\n",
        "print('Test RMSE: %.3f' % rmse)\n",
        "# line plot of observed vs predicted\n",
        "pyplot.plot(raw_values[-48:])\n",
        "pyplot.plot(predictions)\n",
        "pyplot.show()"
      ],
      "execution_count": 18,
      "outputs": [
        {
          "output_type": "stream",
          "text": [
            "Test RMSE: 36614038.636\n"
          ],
          "name": "stdout"
        },
        {
          "output_type": "display_data",
          "data": {
            "image/png": "[encoded data removed]",
            "text/plain": [
              "<Figure size 432x288 with 1 Axes>"
            ]
          },
          "metadata": {
            "tags": [],
            "needs_background": "light"
          }
        }
      ]
    },
    {
      "cell_type": "code",
      "metadata": {
        "id": "RKIE2Co3sgD9"
      },
      "source": [
        ""
      ],
      "execution_count": null,
      "outputs": []
    },
    {
      "cell_type": "code",
      "metadata": {
        "id": "ZFDfPHDOsf_C"
      },
      "source": [
        ""
      ],
      "execution_count": null,
      "outputs": []
    },
    {
      "cell_type": "code",
      "metadata": {
        "id": "ljIvTSNasf-N"
      },
      "source": [
        ""
      ],
      "execution_count": null,
      "outputs": []
    },
    {
      "cell_type": "markdown",
      "metadata": {
        "id": "CgZokMdQ1qCT"
      },
      "source": [
        ""
      ]
    }
  ]
}