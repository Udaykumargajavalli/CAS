{
  "nbformat": 4,
  "nbformat_minor": 0,
  "metadata": {
    "colab": {
      "name": "CAS_LSTM Network for Regression.ipynb",
      "provenance": []
    },
    "kernelspec": {
      "name": "python3",
      "display_name": "Python 3"
    }
  },
  "cells": [
    {
      "cell_type": "code",
      "metadata": {
        "id": "3DUqKuXEafck"
      },
      "source": [
        "import numpy as np\n",
        "import matplotlib.pyplot as plt\n",
        "import pandas as pd\n",
        "import math\n",
        "from keras.models import Sequential\n",
        "from keras.layers import Dense\n",
        "from keras.layers import LSTM\n",
        "from sklearn.preprocessing import MinMaxScaler\n",
        "from sklearn.metrics import mean_squared_error"
      ],
      "execution_count": 7,
      "outputs": []
    },
    {
      "cell_type": "code",
      "metadata": {
        "id": "xPkohgtVb9wA",
        "outputId": "d5a8fd7e-bfdf-4537-8375-c0c7e84bd922",
        "colab": {
          "base_uri": "https://localhost:8080/",
          "height": 204
        }
      },
      "source": [
        "# load the dataset\n",
        "df = pd.read_csv('Data_final.csv',usecols=[1])\n",
        "df.head()"
      ],
      "execution_count": 18,
      "outputs": [
        {
          "output_type": "execute_result",
          "data": {
            "text/html": [
              "<div>\n",
              "<style scoped>\n",
              "    .dataframe tbody tr th:only-of-type {\n",
              "        vertical-align: middle;\n",
              "    }\n",
              "\n",
              "    .dataframe tbody tr th {\n",
              "        vertical-align: top;\n",
              "    }\n",
              "\n",
              "    .dataframe thead th {\n",
              "        text-align: right;\n",
              "    }\n",
              "</style>\n",
              "<table border=\"1\" class=\"dataframe\">\n",
              "  <thead>\n",
              "    <tr style=\"text-align: right;\">\n",
              "      <th></th>\n",
              "      <th>Requests</th>\n",
              "    </tr>\n",
              "  </thead>\n",
              "  <tbody>\n",
              "    <tr>\n",
              "      <th>0</th>\n",
              "      <td>137317594</td>\n",
              "    </tr>\n",
              "    <tr>\n",
              "      <th>1</th>\n",
              "      <td>133211380</td>\n",
              "    </tr>\n",
              "    <tr>\n",
              "      <th>2</th>\n",
              "      <td>149453070</td>\n",
              "    </tr>\n",
              "    <tr>\n",
              "      <th>3</th>\n",
              "      <td>148053372</td>\n",
              "    </tr>\n",
              "    <tr>\n",
              "      <th>4</th>\n",
              "      <td>153271739</td>\n",
              "    </tr>\n",
              "  </tbody>\n",
              "</table>\n",
              "</div>"
            ],
            "text/plain": [
              "    Requests\n",
              "0  137317594\n",
              "1  133211380\n",
              "2  149453070\n",
              "3  148053372\n",
              "4  153271739"
            ]
          },
          "metadata": {
            "tags": []
          },
          "execution_count": 18
        }
      ]
    },
    {
      "cell_type": "code",
      "metadata": {
        "id": "bXnFGBbkb9ui",
        "outputId": "74c5ddc3-a66b-4420-d5c3-3be5c832915e",
        "colab": {
          "base_uri": "https://localhost:8080/",
          "height": 153
        }
      },
      "source": [
        "df.info()"
      ],
      "execution_count": 19,
      "outputs": [
        {
          "output_type": "stream",
          "text": [
            "<class 'pandas.core.frame.DataFrame'>\n",
            "RangeIndex: 248 entries, 0 to 247\n",
            "Data columns (total 1 columns):\n",
            " #   Column    Non-Null Count  Dtype\n",
            "---  ------    --------------  -----\n",
            " 0   Requests  248 non-null    int64\n",
            "dtypes: int64(1)\n",
            "memory usage: 2.1 KB\n"
          ],
          "name": "stdout"
        }
      ]
    },
    {
      "cell_type": "code",
      "metadata": {
        "id": "SrhEyvVTb9sd",
        "outputId": "171fa61d-9d92-48c2-dd02-b39475c7086f",
        "colab": {
          "base_uri": "https://localhost:8080/",
          "height": 297
        }
      },
      "source": [
        "df.describe()"
      ],
      "execution_count": 20,
      "outputs": [
        {
          "output_type": "execute_result",
          "data": {
            "text/html": [
              "<div>\n",
              "<style scoped>\n",
              "    .dataframe tbody tr th:only-of-type {\n",
              "        vertical-align: middle;\n",
              "    }\n",
              "\n",
              "    .dataframe tbody tr th {\n",
              "        vertical-align: top;\n",
              "    }\n",
              "\n",
              "    .dataframe thead th {\n",
              "        text-align: right;\n",
              "    }\n",
              "</style>\n",
              "<table border=\"1\" class=\"dataframe\">\n",
              "  <thead>\n",
              "    <tr style=\"text-align: right;\">\n",
              "      <th></th>\n",
              "      <th>Requests</th>\n",
              "    </tr>\n",
              "  </thead>\n",
              "  <tbody>\n",
              "    <tr>\n",
              "      <th>count</th>\n",
              "      <td>2.480000e+02</td>\n",
              "    </tr>\n",
              "    <tr>\n",
              "      <th>mean</th>\n",
              "      <td>4.253206e+08</td>\n",
              "    </tr>\n",
              "    <tr>\n",
              "      <th>std</th>\n",
              "      <td>1.852987e+08</td>\n",
              "    </tr>\n",
              "    <tr>\n",
              "      <th>min</th>\n",
              "      <td>1.332114e+08</td>\n",
              "    </tr>\n",
              "    <tr>\n",
              "      <th>25%</th>\n",
              "      <td>2.538966e+08</td>\n",
              "    </tr>\n",
              "    <tr>\n",
              "      <th>50%</th>\n",
              "      <td>4.109500e+08</td>\n",
              "    </tr>\n",
              "    <tr>\n",
              "      <th>75%</th>\n",
              "      <td>5.942540e+08</td>\n",
              "    </tr>\n",
              "    <tr>\n",
              "      <th>max</th>\n",
              "      <td>7.808514e+08</td>\n",
              "    </tr>\n",
              "  </tbody>\n",
              "</table>\n",
              "</div>"
            ],
            "text/plain": [
              "           Requests\n",
              "count  2.480000e+02\n",
              "mean   4.253206e+08\n",
              "std    1.852987e+08\n",
              "min    1.332114e+08\n",
              "25%    2.538966e+08\n",
              "50%    4.109500e+08\n",
              "75%    5.942540e+08\n",
              "max    7.808514e+08"
            ]
          },
          "metadata": {
            "tags": []
          },
          "execution_count": 20
        }
      ]
    },
    {
      "cell_type": "code",
      "metadata": {
        "id": "yyToq31qb9qG",
        "outputId": "d4ea944d-610c-4225-8883-b664b866a65d",
        "colab": {
          "base_uri": "https://localhost:8080/",
          "height": 293
        }
      },
      "source": [
        "df.plot()"
      ],
      "execution_count": 21,
      "outputs": [
        {
          "output_type": "execute_result",
          "data": {
            "text/plain": [
              "<matplotlib.axes._subplots.AxesSubplot at 0x7f3db6a8b128>"
            ]
          },
          "metadata": {
            "tags": []
          },
          "execution_count": 21
        },
        {
          "output_type": "display_data",
          "data": {
            "image/png": "[encoded data removed]",
            "text/plain": [
              "<Figure size 432x288 with 1 Axes>"
            ]
          },
          "metadata": {
            "tags": [],
            "needs_background": "light"
          }
        }
      ]
    },
    {
      "cell_type": "code",
      "metadata": {
        "id": "Xvp3pKMmeQF7"
      },
      "source": [
        "# normalize the dataset\n",
        "scaler = MinMaxScaler(feature_range=(0, 1))\n",
        "df = scaler.fit_transform(df)"
      ],
      "execution_count": 22,
      "outputs": []
    },
    {
      "cell_type": "code",
      "metadata": {
        "id": "JnDpdwkXeQSp",
        "outputId": "af4640b1-5d6f-4a33-c10f-0f19a2ccf84a",
        "colab": {
          "base_uri": "https://localhost:8080/",
          "height": 1000
        }
      },
      "source": [
        "# After normalization of data\n",
        "df"
      ],
      "execution_count": 26,
      "outputs": [
        {
          "output_type": "execute_result",
          "data": {
            "text/plain": [
              "array([[0.00634027],\n",
              "       [0.        ],\n",
              "       [0.02507827],\n",
              "       [0.02291704],\n",
              "       [0.03097455],\n",
              "       [0.02643306],\n",
              "       [0.0379377 ],\n",
              "       [0.03979098],\n",
              "       [0.02713994],\n",
              "       [0.04333359],\n",
              "       [0.03500856],\n",
              "       [0.07192771],\n",
              "       [0.02181532],\n",
              "       [0.01823284],\n",
              "       [0.04993546],\n",
              "       [0.04636453],\n",
              "       [0.05922923],\n",
              "       [0.06734099],\n",
              "       [0.0756811 ],\n",
              "       [0.093364  ],\n",
              "       [0.07979551],\n",
              "       [0.10060193],\n",
              "       [0.08955341],\n",
              "       [0.13242617],\n",
              "       [0.06739136],\n",
              "       [0.0833704 ],\n",
              "       [0.10980722],\n",
              "       [0.09961484],\n",
              "       [0.1239209 ],\n",
              "       [0.11965403],\n",
              "       [0.11673619],\n",
              "       [0.12989825],\n",
              "       [0.11497534],\n",
              "       [0.12869608],\n",
              "       [0.12722703],\n",
              "       [0.1687771 ],\n",
              "       [0.11495231],\n",
              "       [0.09433438],\n",
              "       [0.14149919],\n",
              "       [0.12166148],\n",
              "       [0.15312442],\n",
              "       [0.14643325],\n",
              "       [0.14720094],\n",
              "       [0.15648725],\n",
              "       [0.10288993],\n",
              "       [0.12888126],\n",
              "       [0.14493328],\n",
              "       [0.1867009 ],\n",
              "       [0.12993472],\n",
              "       [0.11434619],\n",
              "       [0.15316368],\n",
              "       [0.15191567],\n",
              "       [0.16985706],\n",
              "       [0.1577564 ],\n",
              "       [0.17108451],\n",
              "       [0.16196309],\n",
              "       [0.15356504],\n",
              "       [0.18035077],\n",
              "       [0.17538772],\n",
              "       [0.22558166],\n",
              "       [0.16308455],\n",
              "       [0.14186983],\n",
              "       [0.18528178],\n",
              "       [0.17416629],\n",
              "       [0.20637065],\n",
              "       [0.1990209 ],\n",
              "       [0.20826765],\n",
              "       [0.21014827],\n",
              "       [0.19614559],\n",
              "       [0.22249499],\n",
              "       [0.21026166],\n",
              "       [0.27145639],\n",
              "       [0.20047327],\n",
              "       [0.2084169 ],\n",
              "       [0.23863545],\n",
              "       [0.2304931 ],\n",
              "       [0.24924597],\n",
              "       [0.24713666],\n",
              "       [0.2542148 ],\n",
              "       [0.25571384],\n",
              "       [0.23945817],\n",
              "       [0.26432435],\n",
              "       [0.2634072 ],\n",
              "       [0.33048852],\n",
              "       [0.24691164],\n",
              "       [0.23030907],\n",
              "       [0.29007437],\n",
              "       [0.28433274],\n",
              "       [0.30487071],\n",
              "       [0.30554369],\n",
              "       [0.30683487],\n",
              "       [0.32329421],\n",
              "       [0.3012402 ],\n",
              "       [0.32074403],\n",
              "       [0.32374296],\n",
              "       [0.39081576],\n",
              "       [0.30492906],\n",
              "       [0.27783827],\n",
              "       [0.34669153],\n",
              "       [0.33246846],\n",
              "       [0.36679506],\n",
              "       [0.3593391 ],\n",
              "       [0.35911992],\n",
              "       [0.37667862],\n",
              "       [0.35174135],\n",
              "       [0.38391869],\n",
              "       [0.37925271],\n",
              "       [0.45008301],\n",
              "       [0.359779  ],\n",
              "       [0.32723671],\n",
              "       [0.40667986],\n",
              "       [0.38532743],\n",
              "       [0.43195503],\n",
              "       [0.42021036],\n",
              "       [0.42821931],\n",
              "       [0.44439757],\n",
              "       [0.4091959 ],\n",
              "       [0.45169616],\n",
              "       [0.44816738],\n",
              "       [0.5127967 ],\n",
              "       [0.41465668],\n",
              "       [0.35662836],\n",
              "       [0.42674586],\n",
              "       [0.4294752 ],\n",
              "       [0.40928645],\n",
              "       [0.44022656],\n",
              "       [0.45433554],\n",
              "       [0.45196742],\n",
              "       [0.44895049],\n",
              "       [0.46818157],\n",
              "       [0.44028338],\n",
              "       [0.51351352],\n",
              "       [0.37393649],\n",
              "       [0.37129547],\n",
              "       [0.44211375],\n",
              "       [0.43684892],\n",
              "       [0.46360677],\n",
              "       [0.45931908],\n",
              "       [0.47238647],\n",
              "       [0.46900267],\n",
              "       [0.44637616],\n",
              "       [0.47949908],\n",
              "       [0.34499895],\n",
              "       [0.55097007],\n",
              "       [0.38686322],\n",
              "       [0.29636645],\n",
              "       [0.32043066],\n",
              "       [0.49184638],\n",
              "       [0.52326055],\n",
              "       [0.51970387],\n",
              "       [0.53493989],\n",
              "       [0.54000917],\n",
              "       [0.51848935],\n",
              "       [0.55865553],\n",
              "       [0.51273885],\n",
              "       [0.61449097],\n",
              "       [0.52615537],\n",
              "       [0.48742035],\n",
              "       [0.55716376],\n",
              "       [0.57560662],\n",
              "       [0.59187555],\n",
              "       [0.57926842],\n",
              "       [0.61411038],\n",
              "       [0.619262  ],\n",
              "       [0.59212364],\n",
              "       [0.59390974],\n",
              "       [0.62709536],\n",
              "       [0.71179157],\n",
              "       [0.58973579],\n",
              "       [0.461549  ],\n",
              "       [0.56767681],\n",
              "       [0.62449055],\n",
              "       [0.67374793],\n",
              "       [0.65698316],\n",
              "       [0.66332802],\n",
              "       [0.67946454],\n",
              "       [0.63930003],\n",
              "       [0.68347343],\n",
              "       [0.68734343],\n",
              "       [0.75609255],\n",
              "       [0.65267281],\n",
              "       [0.59924651],\n",
              "       [0.69788386],\n",
              "       [0.68812411],\n",
              "       [0.73712719],\n",
              "       [0.71214944],\n",
              "       [0.73143363],\n",
              "       [0.74264231],\n",
              "       [0.70213185],\n",
              "       [0.75381736],\n",
              "       [0.74325246],\n",
              "       [0.83010753],\n",
              "       [0.7081405 ],\n",
              "       [0.65223613],\n",
              "       [0.77087031],\n",
              "       [0.75458124],\n",
              "       [0.80574304],\n",
              "       [0.78278506],\n",
              "       [0.8016154 ],\n",
              "       [0.81322957],\n",
              "       [0.78378504],\n",
              "       [0.83421589],\n",
              "       [0.81989792],\n",
              "       [0.92046477],\n",
              "       [0.78614379],\n",
              "       [0.7219755 ],\n",
              "       [0.83924765],\n",
              "       [0.82480512],\n",
              "       [0.87165477],\n",
              "       [0.85932568],\n",
              "       [0.88524723],\n",
              "       [0.88348239],\n",
              "       [0.85616386],\n",
              "       [0.81338777],\n",
              "       [0.9064615 ],\n",
              "       [1.        ],\n",
              "       [0.86191346],\n",
              "       [0.8372646 ],\n",
              "       [0.92274944],\n",
              "       [0.90074821],\n",
              "       [0.88410999],\n",
              "       [0.88980649],\n",
              "       [0.81793554],\n",
              "       [0.81874957],\n",
              "       [0.79299243],\n",
              "       [0.82331202],\n",
              "       [0.82755951],\n",
              "       [0.8575143 ],\n",
              "       [0.77745741],\n",
              "       [0.73814347],\n",
              "       [0.71692515],\n",
              "       [0.8214545 ],\n",
              "       [0.87994424],\n",
              "       [0.86520492],\n",
              "       [0.87389534],\n",
              "       [0.88862229],\n",
              "       [0.8549934 ],\n",
              "       [0.90893534],\n",
              "       [0.91853995],\n",
              "       [0.97220653],\n",
              "       [0.87774828],\n",
              "       [0.83505693],\n",
              "       [0.96505494],\n",
              "       [0.91996063],\n",
              "       [0.9852528 ],\n",
              "       [0.95738262],\n",
              "       [0.9509774 ],\n",
              "       [0.99810353]])"
            ]
          },
          "metadata": {
            "tags": []
          },
          "execution_count": 26
        }
      ]
    },
    {
      "cell_type": "code",
      "metadata": {
        "id": "MyBGMZWzeQRA",
        "outputId": "ef5cc81c-4d60-41d1-b459-97652bb9a1b7",
        "colab": {
          "base_uri": "https://localhost:8080/",
          "height": 265
        }
      },
      "source": [
        "plt.plot(df)\n",
        "plt.show()"
      ],
      "execution_count": 28,
      "outputs": [
        {
          "output_type": "display_data",
          "data": {
            "image/png": "[encoded data removed]",
            "text/plain": [
              "<Figure size 432x288 with 1 Axes>"
            ]
          },
          "metadata": {
            "tags": [],
            "needs_background": "light"
          }
        }
      ]
    },
    {
      "cell_type": "code",
      "metadata": {
        "id": "c5dyRsbAeQNQ",
        "outputId": "920c835b-ec87-44aa-aad4-647dfc14f053",
        "colab": {
          "base_uri": "https://localhost:8080/",
          "height": 34
        }
      },
      "source": [
        "df.shape"
      ],
      "execution_count": 30,
      "outputs": [
        {
          "output_type": "execute_result",
          "data": {
            "text/plain": [
              "(248, 1)"
            ]
          },
          "metadata": {
            "tags": []
          },
          "execution_count": 30
        }
      ]
    },
    {
      "cell_type": "code",
      "metadata": {
        "id": "TOunxYVmeQPU",
        "outputId": "742f0d85-38a4-4aa0-fd0a-33b75da4fc76",
        "colab": {
          "base_uri": "https://localhost:8080/",
          "height": 34
        }
      },
      "source": [
        "# split into train and test sets\n",
        "train_size = int(len(df) * 0.67)\n",
        "test_size = len(df) - train_size\n",
        "train, test = df[0:train_size,:], df[train_size:len(df),:]\n",
        "print(len(train), len(test))"
      ],
      "execution_count": 39,
      "outputs": [
        {
          "output_type": "stream",
          "text": [
            "166 82\n"
          ],
          "name": "stdout"
        }
      ]
    },
    {
      "cell_type": "code",
      "metadata": {
        "id": "hvxjbSsoeP8J"
      },
      "source": [
        "# convert an array of values into a dataset matrix\n",
        "def create_dataset(df, look_back=1):\n",
        "\tdataX, dataY = [], []\n",
        "\tfor i in range(len(df)-look_back-1):\n",
        "\t\ta = df[i:(i+look_back), 0]\n",
        "\t\tdataX.append(a)\n",
        "\t\tdataY.append(df[i + look_back, 0])\n",
        "\treturn numpy.array(dataX), numpy.array(dataY)\n",
        "\n",
        "# reshape into X=t and Y=t+1\n",
        "look_back = 1\n",
        "trainX, trainY = create_dataset(train, look_back)\n",
        "testX, testY = create_dataset(test, look_back)"
      ],
      "execution_count": 41,
      "outputs": []
    },
    {
      "cell_type": "code",
      "metadata": {
        "id": "Idd-ekg6gMyG",
        "outputId": "6741cd82-39da-4532-d5af-def19b192241",
        "colab": {
          "base_uri": "https://localhost:8080/",
          "height": 85
        }
      },
      "source": [
        "print(trainX.shape)\n",
        "print(trainY.shape)\n",
        "print(testX.shape)\n",
        "print(testY.shape)"
      ],
      "execution_count": 52,
      "outputs": [
        {
          "output_type": "stream",
          "text": [
            "(164, 1)\n",
            "(164,)\n",
            "(80, 1)\n",
            "(80,)\n"
          ],
          "name": "stdout"
        }
      ]
    },
    {
      "cell_type": "code",
      "metadata": {
        "id": "xKDjOxHWgM3W"
      },
      "source": [
        "# reshape input to be [samples, time steps, features]\n",
        "trainX = numpy.reshape(trainX, (trainX.shape[0], 1, trainX.shape[1]))\n",
        "testX = numpy.reshape(testX, (testX.shape[0], 1, testX.shape[1]))"
      ],
      "execution_count": 53,
      "outputs": []
    },
    {
      "cell_type": "code",
      "metadata": {
        "id": "HyjCSOy4gMss",
        "outputId": "b0d050b3-45e8-4503-cb12-89e4df8aef23",
        "colab": {
          "base_uri": "https://localhost:8080/",
          "height": 1000
        }
      },
      "source": [
        "# create and fit the LSTM network\n",
        "model = Sequential()\n",
        "model.add(LSTM(4, input_shape=(1, look_back)))\n",
        "model.add(Dense(1))\n",
        "model.compile(loss='mean_squared_error', optimizer='adam')\n",
        "model.fit(trainX, trainY, epochs=100, batch_size=1, verbose=2)"
      ],
      "execution_count": 54,
      "outputs": [
        {
          "output_type": "stream",
          "text": [
            "Epoch 1/100\n",
            "164/164 - 0s - loss: 0.0832\n",
            "Epoch 2/100\n",
            "164/164 - 0s - loss: 0.0300\n",
            "Epoch 3/100\n",
            "164/164 - 0s - loss: 0.0216\n",
            "Epoch 4/100\n",
            "164/164 - 0s - loss: 0.0190\n",
            "Epoch 5/100\n",
            "164/164 - 0s - loss: 0.0163\n",
            "Epoch 6/100\n",
            "164/164 - 0s - loss: 0.0136\n",
            "Epoch 7/100\n",
            "164/164 - 0s - loss: 0.0112\n",
            "Epoch 8/100\n",
            "164/164 - 0s - loss: 0.0091\n",
            "Epoch 9/100\n",
            "164/164 - 0s - loss: 0.0073\n",
            "Epoch 10/100\n",
            "164/164 - 0s - loss: 0.0056\n",
            "Epoch 11/100\n",
            "164/164 - 0s - loss: 0.0044\n",
            "Epoch 12/100\n",
            "164/164 - 0s - loss: 0.0035\n",
            "Epoch 13/100\n",
            "164/164 - 0s - loss: 0.0030\n",
            "Epoch 14/100\n",
            "164/164 - 0s - loss: 0.0026\n",
            "Epoch 15/100\n",
            "164/164 - 0s - loss: 0.0024\n",
            "Epoch 16/100\n",
            "164/164 - 0s - loss: 0.0023\n",
            "Epoch 17/100\n",
            "164/164 - 0s - loss: 0.0022\n",
            "Epoch 18/100\n",
            "164/164 - 0s - loss: 0.0022\n",
            "Epoch 19/100\n",
            "164/164 - 0s - loss: 0.0022\n",
            "Epoch 20/100\n",
            "164/164 - 0s - loss: 0.0022\n",
            "Epoch 21/100\n",
            "164/164 - 0s - loss: 0.0022\n",
            "Epoch 22/100\n",
            "164/164 - 0s - loss: 0.0022\n",
            "Epoch 23/100\n",
            "164/164 - 0s - loss: 0.0022\n",
            "Epoch 24/100\n",
            "164/164 - 0s - loss: 0.0022\n",
            "Epoch 25/100\n",
            "164/164 - 0s - loss: 0.0022\n",
            "Epoch 26/100\n",
            "164/164 - 0s - loss: 0.0022\n",
            "Epoch 27/100\n",
            "164/164 - 0s - loss: 0.0022\n",
            "Epoch 28/100\n",
            "164/164 - 0s - loss: 0.0022\n",
            "Epoch 29/100\n",
            "164/164 - 0s - loss: 0.0021\n",
            "Epoch 30/100\n",
            "164/164 - 0s - loss: 0.0021\n",
            "Epoch 31/100\n",
            "164/164 - 0s - loss: 0.0022\n",
            "Epoch 32/100\n",
            "164/164 - 0s - loss: 0.0022\n",
            "Epoch 33/100\n",
            "164/164 - 0s - loss: 0.0022\n",
            "Epoch 34/100\n",
            "164/164 - 0s - loss: 0.0022\n",
            "Epoch 35/100\n",
            "164/164 - 0s - loss: 0.0022\n",
            "Epoch 36/100\n",
            "164/164 - 0s - loss: 0.0022\n",
            "Epoch 37/100\n",
            "164/164 - 0s - loss: 0.0022\n",
            "Epoch 38/100\n",
            "164/164 - 0s - loss: 0.0022\n",
            "Epoch 39/100\n",
            "164/164 - 0s - loss: 0.0022\n",
            "Epoch 40/100\n",
            "164/164 - 0s - loss: 0.0021\n",
            "Epoch 41/100\n",
            "164/164 - 0s - loss: 0.0022\n",
            "Epoch 42/100\n",
            "164/164 - 0s - loss: 0.0021\n",
            "Epoch 43/100\n",
            "164/164 - 0s - loss: 0.0022\n",
            "Epoch 44/100\n",
            "164/164 - 0s - loss: 0.0022\n",
            "Epoch 45/100\n",
            "164/164 - 0s - loss: 0.0021\n",
            "Epoch 46/100\n",
            "164/164 - 0s - loss: 0.0021\n",
            "Epoch 47/100\n",
            "164/164 - 0s - loss: 0.0022\n",
            "Epoch 48/100\n",
            "164/164 - 0s - loss: 0.0022\n",
            "Epoch 49/100\n",
            "164/164 - 0s - loss: 0.0022\n",
            "Epoch 50/100\n",
            "164/164 - 0s - loss: 0.0022\n",
            "Epoch 51/100\n",
            "164/164 - 0s - loss: 0.0021\n",
            "Epoch 52/100\n",
            "164/164 - 0s - loss: 0.0021\n",
            "Epoch 53/100\n",
            "164/164 - 0s - loss: 0.0021\n",
            "Epoch 54/100\n",
            "164/164 - 0s - loss: 0.0021\n",
            "Epoch 55/100\n",
            "164/164 - 0s - loss: 0.0021\n",
            "Epoch 56/100\n",
            "164/164 - 0s - loss: 0.0022\n",
            "Epoch 57/100\n",
            "164/164 - 0s - loss: 0.0021\n",
            "Epoch 58/100\n",
            "164/164 - 0s - loss: 0.0022\n",
            "Epoch 59/100\n",
            "164/164 - 0s - loss: 0.0021\n",
            "Epoch 60/100\n",
            "164/164 - 0s - loss: 0.0021\n",
            "Epoch 61/100\n",
            "164/164 - 0s - loss: 0.0022\n",
            "Epoch 62/100\n",
            "164/164 - 0s - loss: 0.0021\n",
            "Epoch 63/100\n",
            "164/164 - 0s - loss: 0.0021\n",
            "Epoch 64/100\n",
            "164/164 - 0s - loss: 0.0022\n",
            "Epoch 65/100\n",
            "164/164 - 0s - loss: 0.0022\n",
            "Epoch 66/100\n",
            "164/164 - 0s - loss: 0.0022\n",
            "Epoch 67/100\n",
            "164/164 - 0s - loss: 0.0021\n",
            "Epoch 68/100\n",
            "164/164 - 0s - loss: 0.0021\n",
            "Epoch 69/100\n",
            "164/164 - 0s - loss: 0.0021\n",
            "Epoch 70/100\n",
            "164/164 - 0s - loss: 0.0021\n",
            "Epoch 71/100\n",
            "164/164 - 0s - loss: 0.0022\n",
            "Epoch 72/100\n",
            "164/164 - 0s - loss: 0.0021\n",
            "Epoch 73/100\n",
            "164/164 - 0s - loss: 0.0021\n",
            "Epoch 74/100\n",
            "164/164 - 0s - loss: 0.0021\n",
            "Epoch 75/100\n",
            "164/164 - 0s - loss: 0.0021\n",
            "Epoch 76/100\n",
            "164/164 - 0s - loss: 0.0021\n",
            "Epoch 77/100\n",
            "164/164 - 0s - loss: 0.0022\n",
            "Epoch 78/100\n",
            "164/164 - 0s - loss: 0.0021\n",
            "Epoch 79/100\n",
            "164/164 - 0s - loss: 0.0021\n",
            "Epoch 80/100\n",
            "164/164 - 0s - loss: 0.0021\n",
            "Epoch 81/100\n",
            "164/164 - 0s - loss: 0.0021\n",
            "Epoch 82/100\n",
            "164/164 - 0s - loss: 0.0021\n",
            "Epoch 83/100\n",
            "164/164 - 0s - loss: 0.0021\n",
            "Epoch 84/100\n",
            "164/164 - 0s - loss: 0.0021\n",
            "Epoch 85/100\n",
            "164/164 - 0s - loss: 0.0021\n",
            "Epoch 86/100\n",
            "164/164 - 0s - loss: 0.0021\n",
            "Epoch 87/100\n",
            "164/164 - 0s - loss: 0.0021\n",
            "Epoch 88/100\n",
            "164/164 - 0s - loss: 0.0021\n",
            "Epoch 89/100\n",
            "164/164 - 0s - loss: 0.0021\n",
            "Epoch 90/100\n",
            "164/164 - 0s - loss: 0.0021\n",
            "Epoch 91/100\n",
            "164/164 - 0s - loss: 0.0021\n",
            "Epoch 92/100\n",
            "164/164 - 0s - loss: 0.0021\n",
            "Epoch 93/100\n",
            "164/164 - 0s - loss: 0.0021\n",
            "Epoch 94/100\n",
            "164/164 - 0s - loss: 0.0021\n",
            "Epoch 95/100\n",
            "164/164 - 0s - loss: 0.0021\n",
            "Epoch 96/100\n",
            "164/164 - 0s - loss: 0.0020\n",
            "Epoch 97/100\n",
            "164/164 - 0s - loss: 0.0021\n",
            "Epoch 98/100\n",
            "164/164 - 0s - loss: 0.0021\n",
            "Epoch 99/100\n",
            "164/164 - 0s - loss: 0.0021\n",
            "Epoch 100/100\n",
            "164/164 - 0s - loss: 0.0021\n"
          ],
          "name": "stdout"
        },
        {
          "output_type": "execute_result",
          "data": {
            "text/plain": [
              "<tensorflow.python.keras.callbacks.History at 0x7f3db00f6f98>"
            ]
          },
          "metadata": {
            "tags": []
          },
          "execution_count": 54
        }
      ]
    },
    {
      "cell_type": "code",
      "metadata": {
        "id": "dUi-qWclgMqv",
        "outputId": "91fba2a0-e01a-48cd-e140-6723e63538c6",
        "colab": {
          "base_uri": "https://localhost:8080/",
          "height": 51
        }
      },
      "source": [
        "# make predictions\n",
        "trainPredict = model.predict(trainX)\n",
        "testPredict = model.predict(testX)\n",
        "# invert predictions\n",
        "trainPredict = scaler.inverse_transform(trainPredict)\n",
        "trainY = scaler.inverse_transform([trainY])\n",
        "testPredict = scaler.inverse_transform(testPredict)\n",
        "testY = scaler.inverse_transform([testY])\n",
        "# calculate root mean squared error\n",
        "trainScore = math.sqrt(mean_squared_error(trainY[0], trainPredict[:,0]))\n",
        "print('Train Score: %.2f RMSE' % (trainScore))\n",
        "testScore = math.sqrt(mean_squared_error(testY[0], testPredict[:,0]))\n",
        "print('Test Score: %.2f RMSE' % (testScore))"
      ],
      "execution_count": 55,
      "outputs": [
        {
          "output_type": "stream",
          "text": [
            "Train Score: 29023391.42 RMSE\n",
            "Test Score: 54827260.81 RMSE\n"
          ],
          "name": "stdout"
        }
      ]
    },
    {
      "cell_type": "code",
      "metadata": {
        "id": "0aZQE8VfgMok",
        "outputId": "b310ea3d-a6e9-48d3-f17a-182d4b469571",
        "colab": {
          "base_uri": "https://localhost:8080/",
          "height": 276
        }
      },
      "source": [
        "# shift train predictions for plotting\n",
        "trainPredictPlot = numpy.empty_like(df)\n",
        "trainPredictPlot[:, :] = numpy.nan\n",
        "trainPredictPlot[look_back:len(trainPredict)+look_back, :] = trainPredict\n",
        "# shift test predictions for plotting\n",
        "testPredictPlot = numpy.empty_like(df)\n",
        "testPredictPlot[:, :] = numpy.nan\n",
        "testPredictPlot[len(trainPredict)+(look_back*2)+1:len(df)-1, :] = testPredict\n",
        "# plot baseline and predictions\n",
        "plt.plot(scaler.inverse_transform(df))\n",
        "plt.plot(trainPredictPlot)\n",
        "plt.plot(testPredictPlot)\n",
        "plt.show()"
      ],
      "execution_count": 58,
      "outputs": [
        {
          "output_type": "display_data",
          "data": {
            "image/png": "[encoded data removed]",
            "text/plain": [
              "<Figure size 432x288 with 1 Axes>"
            ]
          },
          "metadata": {
            "tags": [],
            "needs_background": "light"
          }
        }
      ]
    },
    {
      "cell_type": "markdown",
      "metadata": {
        "id": "2iLhE5KAiumL"
      },
      "source": [
        "The data is plotted, showing the original dataset in blue, the predictions for the training dataset in Orange, and the predictions on the unseen test dataset in green."
      ]
    },
    {
      "cell_type": "code",
      "metadata": {
        "id": "08giKHemgMlQ"
      },
      "source": [
        ""
      ],
      "execution_count": null,
      "outputs": []
    }
  ]
}