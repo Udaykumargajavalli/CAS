{
  "nbformat": 4,
  "nbformat_minor": 0,
  "metadata": {
    "colab": {
      "name": "Untitled",
      "provenance": []
    },
    "kernelspec": {
      "name": "python3",
      "display_name": "Python 3"
    }
  },
  "cells": [
    {
      "cell_type": "markdown",
      "metadata": {
        "id": "BnPLQUxR_cGv"
      },
      "source": [
        "1. Data Collection\n",
        "2. Process data-Train and test split\n",
        "3. Create an stacked LSTM model\n",
        "4. Predict the test data and plot the output\n",
        "5. Predict the future 30 Observations and plot the output"
      ]
    },
    {
      "cell_type": "code",
      "metadata": {
        "id": "iRqjuaxi_ZlD"
      },
      "source": [
        "import pandas as pd\n",
        "import numpy as np"
      ],
      "execution_count": 9,
      "outputs": []
    },
    {
      "cell_type": "code",
      "metadata": {
        "id": "IcVCZSvz_Zja"
      },
      "source": [
        "df = pd.read_csv(\"Data_only.csv\")"
      ],
      "execution_count": 2,
      "outputs": []
    },
    {
      "cell_type": "code",
      "metadata": {
        "id": "yL8_xP58955L",
        "outputId": "f58fb307-8583-463e-f0c8-d2f3589a919f",
        "colab": {
          "base_uri": "https://localhost:8080/",
          "height": 204
        }
      },
      "source": [
        "df.head()"
      ],
      "execution_count": 3,
      "outputs": [
        {
          "output_type": "execute_result",
          "data": {
            "text/html": [
              "<div>\n",
              "<style scoped>\n",
              "    .dataframe tbody tr th:only-of-type {\n",
              "        vertical-align: middle;\n",
              "    }\n",
              "\n",
              "    .dataframe tbody tr th {\n",
              "        vertical-align: top;\n",
              "    }\n",
              "\n",
              "    .dataframe thead th {\n",
              "        text-align: right;\n",
              "    }\n",
              "</style>\n",
              "<table border=\"1\" class=\"dataframe\">\n",
              "  <thead>\n",
              "    <tr style=\"text-align: right;\">\n",
              "      <th></th>\n",
              "      <th>Date</th>\n",
              "      <th>Requests</th>\n",
              "    </tr>\n",
              "  </thead>\n",
              "  <tbody>\n",
              "    <tr>\n",
              "      <th>0</th>\n",
              "      <td>1998-1</td>\n",
              "      <td>137317594</td>\n",
              "    </tr>\n",
              "    <tr>\n",
              "      <th>1</th>\n",
              "      <td>1998-2</td>\n",
              "      <td>133211380</td>\n",
              "    </tr>\n",
              "    <tr>\n",
              "      <th>2</th>\n",
              "      <td>1998-3</td>\n",
              "      <td>149453070</td>\n",
              "    </tr>\n",
              "    <tr>\n",
              "      <th>3</th>\n",
              "      <td>1998-4</td>\n",
              "      <td>148053372</td>\n",
              "    </tr>\n",
              "    <tr>\n",
              "      <th>4</th>\n",
              "      <td>1998-5</td>\n",
              "      <td>153271739</td>\n",
              "    </tr>\n",
              "  </tbody>\n",
              "</table>\n",
              "</div>"
            ],
            "text/plain": [
              "     Date   Requests\n",
              "0  1998-1  137317594\n",
              "1  1998-2  133211380\n",
              "2  1998-3  149453070\n",
              "3  1998-4  148053372\n",
              "4  1998-5  153271739"
            ]
          },
          "metadata": {
            "tags": []
          },
          "execution_count": 3
        }
      ]
    },
    {
      "cell_type": "code",
      "metadata": {
        "id": "r80K89yDAunT",
        "outputId": "7b9ccb34-8601-4cb5-d9f4-65d21edfa7c0",
        "colab": {
          "base_uri": "https://localhost:8080/",
          "height": 204
        }
      },
      "source": [
        "df.tail()"
      ],
      "execution_count": 4,
      "outputs": [
        {
          "output_type": "execute_result",
          "data": {
            "text/html": [
              "<div>\n",
              "<style scoped>\n",
              "    .dataframe tbody tr th:only-of-type {\n",
              "        vertical-align: middle;\n",
              "    }\n",
              "\n",
              "    .dataframe tbody tr th {\n",
              "        vertical-align: top;\n",
              "    }\n",
              "\n",
              "    .dataframe thead th {\n",
              "        text-align: right;\n",
              "    }\n",
              "</style>\n",
              "<table border=\"1\" class=\"dataframe\">\n",
              "  <thead>\n",
              "    <tr style=\"text-align: right;\">\n",
              "      <th></th>\n",
              "      <th>Date</th>\n",
              "      <th>Requests</th>\n",
              "    </tr>\n",
              "  </thead>\n",
              "  <tbody>\n",
              "    <tr>\n",
              "      <th>235</th>\n",
              "      <td>2017-8</td>\n",
              "      <td>708718723</td>\n",
              "    </tr>\n",
              "    <tr>\n",
              "      <th>236</th>\n",
              "      <td>2017-9</td>\n",
              "      <td>686939308</td>\n",
              "    </tr>\n",
              "    <tr>\n",
              "      <th>237</th>\n",
              "      <td>2017-10</td>\n",
              "      <td>721874264</td>\n",
              "    </tr>\n",
              "    <tr>\n",
              "      <th>238</th>\n",
              "      <td>2017-11</td>\n",
              "      <td>728094596</td>\n",
              "    </tr>\n",
              "    <tr>\n",
              "      <th>239</th>\n",
              "      <td>2017-12</td>\n",
              "      <td>762851219</td>\n",
              "    </tr>\n",
              "  </tbody>\n",
              "</table>\n",
              "</div>"
            ],
            "text/plain": [
              "        Date   Requests\n",
              "235   2017-8  708718723\n",
              "236   2017-9  686939308\n",
              "237  2017-10  721874264\n",
              "238  2017-11  728094596\n",
              "239  2017-12  762851219"
            ]
          },
          "metadata": {
            "tags": []
          },
          "execution_count": 4
        }
      ]
    },
    {
      "cell_type": "code",
      "metadata": {
        "id": "ZJOB4UQsAuwS"
      },
      "source": [
        "df1=df.reset_index()['Requests'] "
      ],
      "execution_count": 5,
      "outputs": []
    },
    {
      "cell_type": "code",
      "metadata": {
        "id": "-pWiRE-pAusx",
        "outputId": "a229a431-63f1-4b8a-adc7-9217d3f91355",
        "colab": {
          "base_uri": "https://localhost:8080/",
          "height": 119
        }
      },
      "source": [
        "df1.head()"
      ],
      "execution_count": 6,
      "outputs": [
        {
          "output_type": "execute_result",
          "data": {
            "text/plain": [
              "0    137317594\n",
              "1    133211380\n",
              "2    149453070\n",
              "3    148053372\n",
              "4    153271739\n",
              "Name: Requests, dtype: int64"
            ]
          },
          "metadata": {
            "tags": []
          },
          "execution_count": 6
        }
      ]
    },
    {
      "cell_type": "code",
      "metadata": {
        "id": "dTuhg052Auq7",
        "outputId": "d7fd492c-cdf1-4b5d-e09c-eaf6538d5ef3",
        "colab": {
          "base_uri": "https://localhost:8080/",
          "height": 293
        }
      },
      "source": [
        "import matplotlib.pyplot as plt\n",
        "plt.plot(df1)"
      ],
      "execution_count": 7,
      "outputs": [
        {
          "output_type": "execute_result",
          "data": {
            "text/plain": [
              "[<matplotlib.lines.Line2D at 0x7f430afa95c0>]"
            ]
          },
          "metadata": {
            "tags": []
          },
          "execution_count": 7
        },
        {
          "output_type": "display_data",
          "data": {
            "image/png": "[encoded data removed]",
            "text/plain": [
              "<Figure size 432x288 with 1 Axes>"
            ]
          },
          "metadata": {
            "tags": [],
            "needs_background": "light"
          }
        }
      ]
    },
    {
      "cell_type": "code",
      "metadata": {
        "id": "rtk--3nsAui4"
      },
      "source": [
        "from sklearn.preprocessing import MinMaxScaler\n",
        "scaler=MinMaxScaler(feature_range=(0,1))\n",
        "df1=scaler.fit_transform(np.array(df1).reshape(-1,1))"
      ],
      "execution_count": 10,
      "outputs": []
    },
    {
      "cell_type": "code",
      "metadata": {
        "id": "QtVi0JkbCIre",
        "outputId": "2f59d3f1-e637-4059-c802-f634efaa3050",
        "colab": {
          "base_uri": "https://localhost:8080/",
          "height": 1000
        }
      },
      "source": [
        "print(df1)"
      ],
      "execution_count": 20,
      "outputs": [
        {
          "output_type": "stream",
          "text": [
            "[[0.00634027]\n",
            " [0.        ]\n",
            " [0.02507827]\n",
            " [0.02291704]\n",
            " [0.03097455]\n",
            " [0.02643306]\n",
            " [0.0379377 ]\n",
            " [0.03979098]\n",
            " [0.02713994]\n",
            " [0.04333359]\n",
            " [0.03500856]\n",
            " [0.07192771]\n",
            " [0.02181532]\n",
            " [0.01823284]\n",
            " [0.04993546]\n",
            " [0.04636453]\n",
            " [0.05922923]\n",
            " [0.06734099]\n",
            " [0.0756811 ]\n",
            " [0.093364  ]\n",
            " [0.07979551]\n",
            " [0.10060193]\n",
            " [0.08955341]\n",
            " [0.13242617]\n",
            " [0.06739136]\n",
            " [0.0833704 ]\n",
            " [0.10980722]\n",
            " [0.09961484]\n",
            " [0.1239209 ]\n",
            " [0.11965403]\n",
            " [0.11673619]\n",
            " [0.12989825]\n",
            " [0.11497534]\n",
            " [0.12869608]\n",
            " [0.12722703]\n",
            " [0.1687771 ]\n",
            " [0.11495231]\n",
            " [0.09433438]\n",
            " [0.14149919]\n",
            " [0.12166148]\n",
            " [0.15312442]\n",
            " [0.14643325]\n",
            " [0.14720094]\n",
            " [0.15648725]\n",
            " [0.10288993]\n",
            " [0.12888126]\n",
            " [0.14493328]\n",
            " [0.1867009 ]\n",
            " [0.12993472]\n",
            " [0.11434619]\n",
            " [0.15316368]\n",
            " [0.15191567]\n",
            " [0.16985706]\n",
            " [0.1577564 ]\n",
            " [0.17108451]\n",
            " [0.16196309]\n",
            " [0.15356504]\n",
            " [0.18035077]\n",
            " [0.17538772]\n",
            " [0.22558166]\n",
            " [0.16308455]\n",
            " [0.14186983]\n",
            " [0.18528178]\n",
            " [0.17416629]\n",
            " [0.20637065]\n",
            " [0.1990209 ]\n",
            " [0.20826765]\n",
            " [0.21014827]\n",
            " [0.19614559]\n",
            " [0.22249499]\n",
            " [0.21026166]\n",
            " [0.27145639]\n",
            " [0.20047327]\n",
            " [0.2084169 ]\n",
            " [0.23863545]\n",
            " [0.2304931 ]\n",
            " [0.24924597]\n",
            " [0.24713666]\n",
            " [0.2542148 ]\n",
            " [0.25571384]\n",
            " [0.23945817]\n",
            " [0.26432435]\n",
            " [0.2634072 ]\n",
            " [0.33048852]\n",
            " [0.24691164]\n",
            " [0.23030907]\n",
            " [0.29007437]\n",
            " [0.28433274]\n",
            " [0.30487071]\n",
            " [0.30554369]\n",
            " [0.30683487]\n",
            " [0.32329421]\n",
            " [0.3012402 ]\n",
            " [0.32074403]\n",
            " [0.32374296]\n",
            " [0.39081576]\n",
            " [0.30492906]\n",
            " [0.27783827]\n",
            " [0.34669153]\n",
            " [0.33246846]\n",
            " [0.36679506]\n",
            " [0.3593391 ]\n",
            " [0.35911992]\n",
            " [0.37667862]\n",
            " [0.35174135]\n",
            " [0.38391869]\n",
            " [0.37925271]\n",
            " [0.45008301]\n",
            " [0.359779  ]\n",
            " [0.32723671]\n",
            " [0.40667986]\n",
            " [0.38532743]\n",
            " [0.43195503]\n",
            " [0.42021036]\n",
            " [0.42821931]\n",
            " [0.44439757]\n",
            " [0.4091959 ]\n",
            " [0.45169616]\n",
            " [0.44816738]\n",
            " [0.5127967 ]\n",
            " [0.41465668]\n",
            " [0.35662836]\n",
            " [0.42674586]\n",
            " [0.4294752 ]\n",
            " [0.40928645]\n",
            " [0.44022656]\n",
            " [0.45433554]\n",
            " [0.45196742]\n",
            " [0.44895049]\n",
            " [0.46818157]\n",
            " [0.44028338]\n",
            " [0.51351352]\n",
            " [0.37393649]\n",
            " [0.37129547]\n",
            " [0.44211375]\n",
            " [0.43684892]\n",
            " [0.46360677]\n",
            " [0.45931908]\n",
            " [0.47238647]\n",
            " [0.46900267]\n",
            " [0.44637616]\n",
            " [0.47949908]\n",
            " [0.34499895]\n",
            " [0.55097007]\n",
            " [0.38686322]\n",
            " [0.29636645]\n",
            " [0.32043066]\n",
            " [0.49184638]\n",
            " [0.52326055]\n",
            " [0.51970387]\n",
            " [0.53493989]\n",
            " [0.54000917]\n",
            " [0.51848935]\n",
            " [0.55865553]\n",
            " [0.51273885]\n",
            " [0.61449097]\n",
            " [0.52615537]\n",
            " [0.48742035]\n",
            " [0.55716376]\n",
            " [0.57560662]\n",
            " [0.59187555]\n",
            " [0.57926842]\n",
            " [0.61411038]\n",
            " [0.619262  ]\n",
            " [0.59212364]\n",
            " [0.59390974]\n",
            " [0.62709536]\n",
            " [0.71179157]\n",
            " [0.58973579]\n",
            " [0.461549  ]\n",
            " [0.56767681]\n",
            " [0.62449055]\n",
            " [0.67374793]\n",
            " [0.65698316]\n",
            " [0.66332802]\n",
            " [0.67946454]\n",
            " [0.63930003]\n",
            " [0.68347343]\n",
            " [0.68734343]\n",
            " [0.75609255]\n",
            " [0.65267281]\n",
            " [0.59924651]\n",
            " [0.69788386]\n",
            " [0.68812411]\n",
            " [0.73712719]\n",
            " [0.71214944]\n",
            " [0.73143363]\n",
            " [0.74264231]\n",
            " [0.70213185]\n",
            " [0.75381736]\n",
            " [0.74325246]\n",
            " [0.83010753]\n",
            " [0.7081405 ]\n",
            " [0.65223613]\n",
            " [0.77087031]\n",
            " [0.75458124]\n",
            " [0.80574304]\n",
            " [0.78278506]\n",
            " [0.8016154 ]\n",
            " [0.81322957]\n",
            " [0.78378504]\n",
            " [0.83421589]\n",
            " [0.81989792]\n",
            " [0.92046477]\n",
            " [0.78614379]\n",
            " [0.7219755 ]\n",
            " [0.83924765]\n",
            " [0.82480512]\n",
            " [0.87165477]\n",
            " [0.85932568]\n",
            " [0.88524723]\n",
            " [0.88348239]\n",
            " [0.85616386]\n",
            " [0.81338777]\n",
            " [0.9064615 ]\n",
            " [1.        ]\n",
            " [0.86191346]\n",
            " [0.8372646 ]\n",
            " [0.92274944]\n",
            " [0.90074821]\n",
            " [0.88410999]\n",
            " [0.88980649]\n",
            " [0.81793554]\n",
            " [0.81874957]\n",
            " [0.79299243]\n",
            " [0.82331202]\n",
            " [0.82755951]\n",
            " [0.8575143 ]\n",
            " [0.77745741]\n",
            " [0.73814347]\n",
            " [0.71692515]\n",
            " [0.8214545 ]\n",
            " [0.87994424]\n",
            " [0.86520492]\n",
            " [0.87389534]\n",
            " [0.88862229]\n",
            " [0.8549934 ]\n",
            " [0.90893534]\n",
            " [0.91853995]\n",
            " [0.97220653]]\n"
          ],
          "name": "stdout"
        }
      ]
    },
    {
      "cell_type": "code",
      "metadata": {
        "id": "Pu04AB6MAugV"
      },
      "source": [
        "##splitting dataset into train and test split\n",
        "training_size=int(len(df1)*0.65)\n",
        "test_size=len(df1)-training_size\n",
        "train_data,test_data=df1[0:training_size,:],df1[training_size:len(df1),:1]"
      ],
      "execution_count": 16,
      "outputs": []
    },
    {
      "cell_type": "code",
      "metadata": {
        "id": "8iecfuCiB7fE",
        "outputId": "749957ca-c0bc-4f75-8df6-397276b026ba",
        "colab": {
          "base_uri": "https://localhost:8080/",
          "height": 34
        }
      },
      "source": [
        "training_size,test_size"
      ],
      "execution_count": 17,
      "outputs": [
        {
          "output_type": "execute_result",
          "data": {
            "text/plain": [
              "(156, 84)"
            ]
          },
          "metadata": {
            "tags": []
          },
          "execution_count": 17
        }
      ]
    },
    {
      "cell_type": "code",
      "metadata": {
        "id": "z4kk4VGwB7ks"
      },
      "source": [
        "# convert an array of values into a dataset matrix\n",
        "import numpy\n",
        "def create_dataset(dataset, time_step=1):\n",
        "\tdataX, dataY = [], []\n",
        "\tfor i in range(len(dataset)-time_step-1):\n",
        "\t\ta = dataset[i:(i+time_step), 0]   ###i=0, 0,1,2,3-----99   100 \n",
        "\t\tdataX.append(a)\n",
        "\t\tdataY.append(dataset[i + time_step, 0])\n",
        "\treturn numpy.array(dataX), numpy.array(dataY)"
      ],
      "execution_count": 23,
      "outputs": []
    },
    {
      "cell_type": "code",
      "metadata": {
        "id": "Xp6ISh-QB7bf"
      },
      "source": [
        "time_step = 60\n",
        "X_train, y_train = create_dataset(train_data, time_step)\n",
        "X_test, ytest = create_dataset(test_data, time_step)"
      ],
      "execution_count": 24,
      "outputs": []
    },
    {
      "cell_type": "code",
      "metadata": {
        "id": "G7X0g19dB7ZB",
        "outputId": "8aae8f37-7fb1-44cb-dd59-536ed4f391b3",
        "colab": {
          "base_uri": "https://localhost:8080/",
          "height": 68
        }
      },
      "source": [
        "print(X_train.shape), print(y_train.shape)"
      ],
      "execution_count": 25,
      "outputs": [
        {
          "output_type": "stream",
          "text": [
            "(95, 60)\n",
            "(95,)\n"
          ],
          "name": "stdout"
        },
        {
          "output_type": "execute_result",
          "data": {
            "text/plain": [
              "(None, None)"
            ]
          },
          "metadata": {
            "tags": []
          },
          "execution_count": 25
        }
      ]
    },
    {
      "cell_type": "code",
      "metadata": {
        "id": "MIgc192LDAae",
        "outputId": "c8bb54ea-3dce-4671-eb63-07b58c491304",
        "colab": {
          "base_uri": "https://localhost:8080/",
          "height": 68
        }
      },
      "source": [
        "print(X_test.shape), print(ytest.shape)"
      ],
      "execution_count": 26,
      "outputs": [
        {
          "output_type": "stream",
          "text": [
            "(23, 60)\n",
            "(23,)\n"
          ],
          "name": "stdout"
        },
        {
          "output_type": "execute_result",
          "data": {
            "text/plain": [
              "(None, None)"
            ]
          },
          "metadata": {
            "tags": []
          },
          "execution_count": 26
        }
      ]
    },
    {
      "cell_type": "code",
      "metadata": {
        "id": "hnb89B6JDAYS"
      },
      "source": [
        "# reshape input to be [samples, time steps, features] which is required for LSTM\n",
        "X_train =X_train.reshape(X_train.shape[0],X_train.shape[1] , 1)\n",
        "X_test = X_test.reshape(X_test.shape[0],X_test.shape[1] , 1)"
      ],
      "execution_count": 27,
      "outputs": []
    },
    {
      "cell_type": "code",
      "metadata": {
        "id": "ZvV5MhVUDAU4"
      },
      "source": [
        "### Create the Stacked LSTM model\n",
        "from tensorflow.keras.models import Sequential\n",
        "from tensorflow.keras.layers import Dense\n",
        "from tensorflow.keras.layers import LSTM"
      ],
      "execution_count": 30,
      "outputs": []
    },
    {
      "cell_type": "code",
      "metadata": {
        "id": "nJI8YkHeDATA"
      },
      "source": [
        "model=Sequential()\n",
        "model.add(LSTM(50,return_sequences=True,input_shape=(60,1)))\n",
        "model.add(LSTM(50,return_sequences=True))\n",
        "model.add(LSTM(50))\n",
        "model.add(Dense(1))\n",
        "model.compile(loss='mean_squared_error',optimizer='adam')"
      ],
      "execution_count": 31,
      "outputs": []
    },
    {
      "cell_type": "code",
      "metadata": {
        "id": "XnNmU2iqDAQ7",
        "outputId": "a1190530-c710-4a8b-f08c-12a736230d64",
        "colab": {
          "base_uri": "https://localhost:8080/",
          "height": 289
        }
      },
      "source": [
        "model.summary()"
      ],
      "execution_count": 32,
      "outputs": [
        {
          "output_type": "stream",
          "text": [
            "Model: \"sequential\"\n",
            "_________________________________________________________________\n",
            "Layer (type)                 Output Shape              Param #   \n",
            "=================================================================\n",
            "lstm (LSTM)                  (None, 60, 50)            10400     \n",
            "_________________________________________________________________\n",
            "lstm_1 (LSTM)                (None, 60, 50)            20200     \n",
            "_________________________________________________________________\n",
            "lstm_2 (LSTM)                (None, 50)                20200     \n",
            "_________________________________________________________________\n",
            "dense (Dense)                (None, 1)                 51        \n",
            "=================================================================\n",
            "Total params: 50,851\n",
            "Trainable params: 50,851\n",
            "Non-trainable params: 0\n",
            "_________________________________________________________________\n"
          ],
          "name": "stdout"
        }
      ]
    },
    {
      "cell_type": "code",
      "metadata": {
        "id": "wu7IHE9lDANj",
        "outputId": "81edf4fe-1e22-4776-9f70-054870e8c01d",
        "colab": {
          "base_uri": "https://localhost:8080/",
          "height": 1000
        }
      },
      "source": [
        "model.fit(X_train,y_train,validation_data=(X_test,ytest),epochs=100,batch_size=64,verbose=1)"
      ],
      "execution_count": 33,
      "outputs": [
        {
          "output_type": "stream",
          "text": [
            "Epoch 1/100\n",
            "2/2 [==============================] - 1s 711ms/step - loss: 0.1551 - val_loss: 0.4898\n",
            "Epoch 2/100\n",
            "2/2 [==============================] - 0s 67ms/step - loss: 0.0781 - val_loss: 0.1984\n",
            "Epoch 3/100\n",
            "2/2 [==============================] - 0s 62ms/step - loss: 0.0215 - val_loss: 0.0112\n",
            "Epoch 4/100\n",
            "2/2 [==============================] - 0s 69ms/step - loss: 0.0084 - val_loss: 0.0159\n",
            "Epoch 5/100\n",
            "2/2 [==============================] - 0s 66ms/step - loss: 0.0233 - val_loss: 0.0037\n",
            "Epoch 6/100\n",
            "2/2 [==============================] - 0s 73ms/step - loss: 0.0072 - val_loss: 0.0370\n",
            "Epoch 7/100\n",
            "2/2 [==============================] - 0s 72ms/step - loss: 0.0036 - val_loss: 0.0863\n",
            "Epoch 8/100\n",
            "2/2 [==============================] - 0s 70ms/step - loss: 0.0075 - val_loss: 0.1096\n",
            "Epoch 9/100\n",
            "2/2 [==============================] - 0s 70ms/step - loss: 0.0099 - val_loss: 0.1036\n",
            "Epoch 10/100\n",
            "2/2 [==============================] - 0s 70ms/step - loss: 0.0082 - val_loss: 0.0781\n",
            "Epoch 11/100\n",
            "2/2 [==============================] - 0s 67ms/step - loss: 0.0049 - val_loss: 0.0477\n",
            "Epoch 12/100\n",
            "2/2 [==============================] - 0s 67ms/step - loss: 0.0032 - val_loss: 0.0254\n",
            "Epoch 13/100\n",
            "2/2 [==============================] - 0s 75ms/step - loss: 0.0039 - val_loss: 0.0164\n",
            "Epoch 14/100\n",
            "2/2 [==============================] - 0s 72ms/step - loss: 0.0052 - val_loss: 0.0171\n",
            "Epoch 15/100\n",
            "2/2 [==============================] - 0s 84ms/step - loss: 0.0047 - val_loss: 0.0253\n",
            "Epoch 16/100\n",
            "2/2 [==============================] - 0s 74ms/step - loss: 0.0034 - val_loss: 0.0381\n",
            "Epoch 17/100\n",
            "2/2 [==============================] - 0s 74ms/step - loss: 0.0029 - val_loss: 0.0495\n",
            "Epoch 18/100\n",
            "2/2 [==============================] - 0s 69ms/step - loss: 0.0034 - val_loss: 0.0544\n",
            "Epoch 19/100\n",
            "2/2 [==============================] - 0s 74ms/step - loss: 0.0036 - val_loss: 0.0506\n",
            "Epoch 20/100\n",
            "2/2 [==============================] - 0s 80ms/step - loss: 0.0033 - val_loss: 0.0417\n",
            "Epoch 21/100\n",
            "2/2 [==============================] - 0s 75ms/step - loss: 0.0028 - val_loss: 0.0322\n",
            "Epoch 22/100\n",
            "2/2 [==============================] - 0s 73ms/step - loss: 0.0027 - val_loss: 0.0239\n",
            "Epoch 23/100\n",
            "2/2 [==============================] - 0s 71ms/step - loss: 0.0028 - val_loss: 0.0198\n",
            "Epoch 24/100\n",
            "2/2 [==============================] - 0s 76ms/step - loss: 0.0029 - val_loss: 0.0195\n",
            "Epoch 25/100\n",
            "2/2 [==============================] - 0s 69ms/step - loss: 0.0028 - val_loss: 0.0228\n",
            "Epoch 26/100\n",
            "2/2 [==============================] - 0s 68ms/step - loss: 0.0025 - val_loss: 0.0267\n",
            "Epoch 27/100\n",
            "2/2 [==============================] - 0s 71ms/step - loss: 0.0025 - val_loss: 0.0295\n",
            "Epoch 28/100\n",
            "2/2 [==============================] - 0s 67ms/step - loss: 0.0026 - val_loss: 0.0289\n",
            "Epoch 29/100\n",
            "2/2 [==============================] - 0s 65ms/step - loss: 0.0026 - val_loss: 0.0252\n",
            "Epoch 30/100\n",
            "2/2 [==============================] - 0s 72ms/step - loss: 0.0024 - val_loss: 0.0191\n",
            "Epoch 31/100\n",
            "2/2 [==============================] - 0s 63ms/step - loss: 0.0022 - val_loss: 0.0140\n",
            "Epoch 32/100\n",
            "2/2 [==============================] - 0s 70ms/step - loss: 0.0024 - val_loss: 0.0111\n",
            "Epoch 33/100\n",
            "2/2 [==============================] - 0s 74ms/step - loss: 0.0024 - val_loss: 0.0112\n",
            "Epoch 34/100\n",
            "2/2 [==============================] - 0s 70ms/step - loss: 0.0023 - val_loss: 0.0129\n",
            "Epoch 35/100\n",
            "2/2 [==============================] - 0s 69ms/step - loss: 0.0022 - val_loss: 0.0154\n",
            "Epoch 36/100\n",
            "2/2 [==============================] - 0s 73ms/step - loss: 0.0022 - val_loss: 0.0159\n",
            "Epoch 37/100\n",
            "2/2 [==============================] - 0s 70ms/step - loss: 0.0022 - val_loss: 0.0139\n",
            "Epoch 38/100\n",
            "2/2 [==============================] - 0s 68ms/step - loss: 0.0022 - val_loss: 0.0110\n",
            "Epoch 39/100\n",
            "2/2 [==============================] - 0s 74ms/step - loss: 0.0021 - val_loss: 0.0094\n",
            "Epoch 40/100\n",
            "2/2 [==============================] - 0s 66ms/step - loss: 0.0021 - val_loss: 0.0089\n",
            "Epoch 41/100\n",
            "2/2 [==============================] - 0s 82ms/step - loss: 0.0021 - val_loss: 0.0091\n",
            "Epoch 42/100\n",
            "2/2 [==============================] - 0s 64ms/step - loss: 0.0021 - val_loss: 0.0098\n",
            "Epoch 43/100\n",
            "2/2 [==============================] - 0s 74ms/step - loss: 0.0021 - val_loss: 0.0100\n",
            "Epoch 44/100\n",
            "2/2 [==============================] - 0s 62ms/step - loss: 0.0021 - val_loss: 0.0093\n",
            "Epoch 45/100\n",
            "2/2 [==============================] - 0s 68ms/step - loss: 0.0021 - val_loss: 0.0082\n",
            "Epoch 46/100\n",
            "2/2 [==============================] - 0s 67ms/step - loss: 0.0021 - val_loss: 0.0067\n",
            "Epoch 47/100\n",
            "2/2 [==============================] - 0s 76ms/step - loss: 0.0021 - val_loss: 0.0061\n",
            "Epoch 48/100\n",
            "2/2 [==============================] - 0s 61ms/step - loss: 0.0021 - val_loss: 0.0068\n",
            "Epoch 49/100\n",
            "2/2 [==============================] - 0s 66ms/step - loss: 0.0021 - val_loss: 0.0081\n",
            "Epoch 50/100\n",
            "2/2 [==============================] - 0s 70ms/step - loss: 0.0021 - val_loss: 0.0086\n",
            "Epoch 51/100\n",
            "2/2 [==============================] - 0s 71ms/step - loss: 0.0021 - val_loss: 0.0082\n",
            "Epoch 52/100\n",
            "2/2 [==============================] - 0s 72ms/step - loss: 0.0021 - val_loss: 0.0071\n",
            "Epoch 53/100\n",
            "2/2 [==============================] - 0s 64ms/step - loss: 0.0021 - val_loss: 0.0066\n",
            "Epoch 54/100\n",
            "2/2 [==============================] - 0s 72ms/step - loss: 0.0021 - val_loss: 0.0070\n",
            "Epoch 55/100\n",
            "2/2 [==============================] - 0s 67ms/step - loss: 0.0021 - val_loss: 0.0073\n",
            "Epoch 56/100\n",
            "2/2 [==============================] - 0s 73ms/step - loss: 0.0021 - val_loss: 0.0076\n",
            "Epoch 57/100\n",
            "2/2 [==============================] - 0s 71ms/step - loss: 0.0021 - val_loss: 0.0077\n",
            "Epoch 58/100\n",
            "2/2 [==============================] - 0s 67ms/step - loss: 0.0021 - val_loss: 0.0083\n",
            "Epoch 59/100\n",
            "2/2 [==============================] - 0s 69ms/step - loss: 0.0021 - val_loss: 0.0078\n",
            "Epoch 60/100\n",
            "2/2 [==============================] - 0s 73ms/step - loss: 0.0021 - val_loss: 0.0077\n",
            "Epoch 61/100\n",
            "2/2 [==============================] - 0s 64ms/step - loss: 0.0021 - val_loss: 0.0082\n",
            "Epoch 62/100\n",
            "2/2 [==============================] - 0s 73ms/step - loss: 0.0021 - val_loss: 0.0085\n",
            "Epoch 63/100\n",
            "2/2 [==============================] - 0s 70ms/step - loss: 0.0021 - val_loss: 0.0087\n",
            "Epoch 64/100\n",
            "2/2 [==============================] - 0s 69ms/step - loss: 0.0021 - val_loss: 0.0094\n",
            "Epoch 65/100\n",
            "2/2 [==============================] - 0s 62ms/step - loss: 0.0021 - val_loss: 0.0095\n",
            "Epoch 66/100\n",
            "2/2 [==============================] - 0s 64ms/step - loss: 0.0021 - val_loss: 0.0084\n",
            "Epoch 67/100\n",
            "2/2 [==============================] - 0s 63ms/step - loss: 0.0021 - val_loss: 0.0073\n",
            "Epoch 68/100\n",
            "2/2 [==============================] - 0s 79ms/step - loss: 0.0021 - val_loss: 0.0077\n",
            "Epoch 69/100\n",
            "2/2 [==============================] - 0s 82ms/step - loss: 0.0021 - val_loss: 0.0093\n",
            "Epoch 70/100\n",
            "2/2 [==============================] - 0s 81ms/step - loss: 0.0021 - val_loss: 0.0101\n",
            "Epoch 71/100\n",
            "2/2 [==============================] - 0s 79ms/step - loss: 0.0021 - val_loss: 0.0095\n",
            "Epoch 72/100\n",
            "2/2 [==============================] - 0s 64ms/step - loss: 0.0021 - val_loss: 0.0078\n",
            "Epoch 73/100\n",
            "2/2 [==============================] - 0s 71ms/step - loss: 0.0021 - val_loss: 0.0078\n",
            "Epoch 74/100\n",
            "2/2 [==============================] - 0s 77ms/step - loss: 0.0021 - val_loss: 0.0095\n",
            "Epoch 75/100\n",
            "2/2 [==============================] - 0s 73ms/step - loss: 0.0021 - val_loss: 0.0115\n",
            "Epoch 76/100\n",
            "2/2 [==============================] - 0s 71ms/step - loss: 0.0022 - val_loss: 0.0126\n",
            "Epoch 77/100\n",
            "2/2 [==============================] - 0s 85ms/step - loss: 0.0022 - val_loss: 0.0111\n",
            "Epoch 78/100\n",
            "2/2 [==============================] - 0s 72ms/step - loss: 0.0021 - val_loss: 0.0087\n",
            "Epoch 79/100\n",
            "2/2 [==============================] - 0s 71ms/step - loss: 0.0021 - val_loss: 0.0079\n",
            "Epoch 80/100\n",
            "2/2 [==============================] - 0s 71ms/step - loss: 0.0021 - val_loss: 0.0090\n",
            "Epoch 81/100\n",
            "2/2 [==============================] - 0s 77ms/step - loss: 0.0021 - val_loss: 0.0099\n",
            "Epoch 82/100\n",
            "2/2 [==============================] - 0s 76ms/step - loss: 0.0021 - val_loss: 0.0107\n",
            "Epoch 83/100\n",
            "2/2 [==============================] - 0s 72ms/step - loss: 0.0021 - val_loss: 0.0102\n",
            "Epoch 84/100\n",
            "2/2 [==============================] - 0s 77ms/step - loss: 0.0021 - val_loss: 0.0100\n",
            "Epoch 85/100\n",
            "2/2 [==============================] - 0s 67ms/step - loss: 0.0021 - val_loss: 0.0105\n",
            "Epoch 86/100\n",
            "2/2 [==============================] - 0s 66ms/step - loss: 0.0021 - val_loss: 0.0105\n",
            "Epoch 87/100\n",
            "2/2 [==============================] - 0s 66ms/step - loss: 0.0021 - val_loss: 0.0106\n",
            "Epoch 88/100\n",
            "2/2 [==============================] - 0s 66ms/step - loss: 0.0021 - val_loss: 0.0108\n",
            "Epoch 89/100\n",
            "2/2 [==============================] - 0s 72ms/step - loss: 0.0021 - val_loss: 0.0098\n",
            "Epoch 90/100\n",
            "2/2 [==============================] - 0s 68ms/step - loss: 0.0021 - val_loss: 0.0098\n",
            "Epoch 91/100\n",
            "2/2 [==============================] - 0s 71ms/step - loss: 0.0021 - val_loss: 0.0108\n",
            "Epoch 92/100\n",
            "2/2 [==============================] - 0s 72ms/step - loss: 0.0021 - val_loss: 0.0107\n",
            "Epoch 93/100\n",
            "2/2 [==============================] - 0s 71ms/step - loss: 0.0021 - val_loss: 0.0104\n",
            "Epoch 94/100\n",
            "2/2 [==============================] - 0s 70ms/step - loss: 0.0021 - val_loss: 0.0103\n",
            "Epoch 95/100\n",
            "2/2 [==============================] - 0s 64ms/step - loss: 0.0021 - val_loss: 0.0111\n",
            "Epoch 96/100\n",
            "2/2 [==============================] - 0s 72ms/step - loss: 0.0021 - val_loss: 0.0115\n",
            "Epoch 97/100\n",
            "2/2 [==============================] - 0s 85ms/step - loss: 0.0021 - val_loss: 0.0102\n",
            "Epoch 98/100\n",
            "2/2 [==============================] - 0s 71ms/step - loss: 0.0021 - val_loss: 0.0103\n",
            "Epoch 99/100\n",
            "2/2 [==============================] - 0s 69ms/step - loss: 0.0021 - val_loss: 0.0121\n",
            "Epoch 100/100\n",
            "2/2 [==============================] - 0s 71ms/step - loss: 0.0021 - val_loss: 0.0117\n"
          ],
          "name": "stdout"
        },
        {
          "output_type": "execute_result",
          "data": {
            "text/plain": [
              "<tensorflow.python.keras.callbacks.History at 0x7f42c9d7ce10>"
            ]
          },
          "metadata": {
            "tags": []
          },
          "execution_count": 33
        }
      ]
    },
    {
      "cell_type": "code",
      "metadata": {
        "id": "SA8RrK5VD0mK"
      },
      "source": [
        "### Lets Do the prediction and check performance metrics\n",
        "train_predict=model.predict(X_train)\n",
        "test_predict=model.predict(X_test)"
      ],
      "execution_count": 34,
      "outputs": []
    },
    {
      "cell_type": "code",
      "metadata": {
        "id": "Wf84yyfKD0yk"
      },
      "source": [
        "##Transformback to original form\n",
        "train_predict=scaler.inverse_transform(train_predict)\n",
        "test_predict=scaler.inverse_transform(test_predict)"
      ],
      "execution_count": 35,
      "outputs": []
    },
    {
      "cell_type": "code",
      "metadata": {
        "id": "jkbNvtuYD0wr",
        "outputId": "acce9838-aca1-423b-ce51-165eb54d13cf",
        "colab": {
          "base_uri": "https://localhost:8080/",
          "height": 34
        }
      },
      "source": [
        "### Calculate RMSE performance metrics\n",
        "import math\n",
        "from sklearn.metrics import mean_squared_error\n",
        "math.sqrt(mean_squared_error(y_train,train_predict))"
      ],
      "execution_count": 36,
      "outputs": [
        {
          "output_type": "execute_result",
          "data": {
            "text/plain": [
              "369621496.66498214"
            ]
          },
          "metadata": {
            "tags": []
          },
          "execution_count": 36
        }
      ]
    },
    {
      "cell_type": "code",
      "metadata": {
        "id": "5tSX395bD0t5",
        "outputId": "0169d11e-6127-4602-8c35-ed2e7edb7b19",
        "colab": {
          "base_uri": "https://localhost:8080/",
          "height": 34
        }
      },
      "source": [
        "### Test Data RMSE\n",
        "math.sqrt(mean_squared_error(ytest,test_predict))"
      ],
      "execution_count": 37,
      "outputs": [
        {
          "output_type": "execute_result",
          "data": {
            "text/plain": [
              "622713377.1589329"
            ]
          },
          "metadata": {
            "tags": []
          },
          "execution_count": 37
        }
      ]
    },
    {
      "cell_type": "code",
      "metadata": {
        "id": "pPmKm0_LD0qt",
        "outputId": "8b8e126d-ffcd-4c67-f054-d7596ba32787",
        "colab": {
          "base_uri": "https://localhost:8080/",
          "height": 276
        }
      },
      "source": [
        "### Plotting \n",
        "# shift train predictions for plotting\n",
        "look_back=60\n",
        "trainPredictPlot = numpy.empty_like(df1)\n",
        "trainPredictPlot[:, :] = np.nan\n",
        "trainPredictPlot[look_back:len(train_predict)+look_back, :] = train_predict\n",
        "# shift test predictions for plotting\n",
        "testPredictPlot = numpy.empty_like(df1)\n",
        "testPredictPlot[:, :] = numpy.nan\n",
        "testPredictPlot[len(train_predict)+(look_back*2)+1:len(df1)-1, :] = test_predict\n",
        "# plot baseline and predictions\n",
        "plt.plot(scaler.inverse_transform(df1))\n",
        "plt.plot(trainPredictPlot)\n",
        "plt.plot(testPredictPlot)\n",
        "plt.show()"
      ],
      "execution_count": 40,
      "outputs": [
        {
          "output_type": "display_data",
          "data": {
            "image/png": "[encoded data removed]",
            "text/plain": [
              "<Figure size 432x288 with 1 Axes>"
            ]
          },
          "metadata": {
            "tags": [],
            "needs_background": "light"
          }
        }
      ]
    },
    {
      "cell_type": "code",
      "metadata": {
        "id": "vukjAsH1D0hx",
        "outputId": "667d49ed-6d6a-4070-cd0a-608bc3eb72cf",
        "colab": {
          "base_uri": "https://localhost:8080/",
          "height": 34
        }
      },
      "source": [
        "len(test_data)"
      ],
      "execution_count": 45,
      "outputs": [
        {
          "output_type": "execute_result",
          "data": {
            "text/plain": [
              "84"
            ]
          },
          "metadata": {
            "tags": []
          },
          "execution_count": 45
        }
      ]
    },
    {
      "cell_type": "code",
      "metadata": {
        "id": "d0AzaObrD0gD",
        "outputId": "196cd92a-16cf-45ad-9f20-998fee612103",
        "colab": {
          "base_uri": "https://localhost:8080/",
          "height": 34
        }
      },
      "source": [
        "x_input=test_data[24:].reshape(1,-1)\n",
        "x_input.shape"
      ],
      "execution_count": 46,
      "outputs": [
        {
          "output_type": "execute_result",
          "data": {
            "text/plain": [
              "(1, 60)"
            ]
          },
          "metadata": {
            "tags": []
          },
          "execution_count": 46
        }
      ]
    },
    {
      "cell_type": "code",
      "metadata": {
        "id": "bnipyfDKGa1O"
      },
      "source": [
        "temp_input=list(x_input)\n",
        "temp_input=temp_input[0].tolist()"
      ],
      "execution_count": 47,
      "outputs": []
    },
    {
      "cell_type": "code",
      "metadata": {
        "id": "2iZFqpfnGaut",
        "outputId": "9cdd28f1-dd93-4eb6-f4d8-cfed6a5b2d68",
        "colab": {
          "base_uri": "https://localhost:8080/",
          "height": 1000
        }
      },
      "source": [
        "# demonstrate prediction for next 8 Months\n",
        "from numpy import array\n",
        "\n",
        "lst_output=[]\n",
        "n_steps=60\n",
        "i=0\n",
        "while(i<8):\n",
        "    \n",
        "    if(len(temp_input)>60):\n",
        "        #print(temp_input)\n",
        "        x_input=np.array(temp_input[1:])\n",
        "        print(\"{} Month input {}\".format(i,x_input))\n",
        "        x_input=x_input.reshape(1,-1)\n",
        "        x_input = x_input.reshape((1, n_steps, 1))\n",
        "        #print(x_input)\n",
        "        yhat = model.predict(x_input, verbose=0)\n",
        "        print(\"{} Month output {}\".format(i,yhat))\n",
        "        temp_input.extend(yhat[0].tolist())\n",
        "        temp_input=temp_input[1:]\n",
        "        #print(temp_input)\n",
        "        lst_output.extend(yhat.tolist())\n",
        "        i=i+1\n",
        "    else:\n",
        "        x_input = x_input.reshape((1, n_steps,1))\n",
        "        yhat = model.predict(x_input, verbose=0)\n",
        "        print(yhat[0])\n",
        "        temp_input.extend(yhat[0].tolist())\n",
        "        print(len(temp_input))\n",
        "        lst_output.extend(yhat.tolist())\n",
        "        i=i+1\n",
        "    \n",
        "\n",
        "print(lst_output)"
      ],
      "execution_count": 74,
      "outputs": [
        {
          "output_type": "stream",
          "text": [
            "0 Month input [0.92274944 0.90074821 0.88410999 0.88980649 0.81793554 0.81874957\n",
            " 0.79299243 0.82331202 0.82755951 0.8575143  0.77745741 0.73814347\n",
            " 0.71692515 0.8214545  0.87994424 0.86520492 0.87389534 0.88862229\n",
            " 0.8549934  0.90893534 0.91853995 0.97220653 0.75213593 0.75415367\n",
            " 0.75534976 0.75554228 0.75475246 0.75309825 0.75073594 0.74782515\n",
            " 0.74451208 0.74092311 0.73716086 0.73330742 0.72942531 0.72556102\n",
            " 0.72174823 0.71801001 0.71436149 0.71081209 0.70736682 0.70402694\n",
            " 0.70079225 0.6976611  0.69463027 0.69169694 0.68885672 0.68610644\n",
            " 0.68344265 0.68086129 0.67835921 0.67593318 0.67358035 0.67129743\n",
            " 0.66908216 0.66693187 0.66484433 0.66281682 0.66084731 0.65893412]\n",
            "0 Month output [[0.65707546]]\n",
            "1 Month input [0.90074821 0.88410999 0.88980649 0.81793554 0.81874957 0.79299243\n",
            " 0.82331202 0.82755951 0.8575143  0.77745741 0.73814347 0.71692515\n",
            " 0.8214545  0.87994424 0.86520492 0.87389534 0.88862229 0.8549934\n",
            " 0.90893534 0.91853995 0.97220653 0.75213593 0.75415367 0.75534976\n",
            " 0.75554228 0.75475246 0.75309825 0.75073594 0.74782515 0.74451208\n",
            " 0.74092311 0.73716086 0.73330742 0.72942531 0.72556102 0.72174823\n",
            " 0.71801001 0.71436149 0.71081209 0.70736682 0.70402694 0.70079225\n",
            " 0.6976611  0.69463027 0.69169694 0.68885672 0.68610644 0.68344265\n",
            " 0.68086129 0.67835921 0.67593318 0.67358035 0.67129743 0.66908216\n",
            " 0.66693187 0.66484433 0.66281682 0.66084731 0.65893412 0.65707546]\n",
            "1 Month output [[0.6552686]]\n",
            "2 Month input [0.88410999 0.88980649 0.81793554 0.81874957 0.79299243 0.82331202\n",
            " 0.82755951 0.8575143  0.77745741 0.73814347 0.71692515 0.8214545\n",
            " 0.87994424 0.86520492 0.87389534 0.88862229 0.8549934  0.90893534\n",
            " 0.91853995 0.97220653 0.75213593 0.75415367 0.75534976 0.75554228\n",
            " 0.75475246 0.75309825 0.75073594 0.74782515 0.74451208 0.74092311\n",
            " 0.73716086 0.73330742 0.72942531 0.72556102 0.72174823 0.71801001\n",
            " 0.71436149 0.71081209 0.70736682 0.70402694 0.70079225 0.6976611\n",
            " 0.69463027 0.69169694 0.68885672 0.68610644 0.68344265 0.68086129\n",
            " 0.67835921 0.67593318 0.67358035 0.67129743 0.66908216 0.66693187\n",
            " 0.66484433 0.66281682 0.66084731 0.65893412 0.65707546 0.65526861]\n",
            "2 Month output [[0.6535126]]\n",
            "3 Month input [0.88980649 0.81793554 0.81874957 0.79299243 0.82331202 0.82755951\n",
            " 0.8575143  0.77745741 0.73814347 0.71692515 0.8214545  0.87994424\n",
            " 0.86520492 0.87389534 0.88862229 0.8549934  0.90893534 0.91853995\n",
            " 0.97220653 0.75213593 0.75415367 0.75534976 0.75554228 0.75475246\n",
            " 0.75309825 0.75073594 0.74782515 0.74451208 0.74092311 0.73716086\n",
            " 0.73330742 0.72942531 0.72556102 0.72174823 0.71801001 0.71436149\n",
            " 0.71081209 0.70736682 0.70402694 0.70079225 0.6976611  0.69463027\n",
            " 0.69169694 0.68885672 0.68610644 0.68344265 0.68086129 0.67835921\n",
            " 0.67593318 0.67358035 0.67129743 0.66908216 0.66693187 0.66484433\n",
            " 0.66281682 0.66084731 0.65893412 0.65707546 0.65526861 0.6535126 ]\n",
            "3 Month output [[0.65180534]]\n",
            "4 Month input [0.81793554 0.81874957 0.79299243 0.82331202 0.82755951 0.8575143\n",
            " 0.77745741 0.73814347 0.71692515 0.8214545  0.87994424 0.86520492\n",
            " 0.87389534 0.88862229 0.8549934  0.90893534 0.91853995 0.97220653\n",
            " 0.75213593 0.75415367 0.75534976 0.75554228 0.75475246 0.75309825\n",
            " 0.75073594 0.74782515 0.74451208 0.74092311 0.73716086 0.73330742\n",
            " 0.72942531 0.72556102 0.72174823 0.71801001 0.71436149 0.71081209\n",
            " 0.70736682 0.70402694 0.70079225 0.6976611  0.69463027 0.69169694\n",
            " 0.68885672 0.68610644 0.68344265 0.68086129 0.67835921 0.67593318\n",
            " 0.67358035 0.67129743 0.66908216 0.66693187 0.66484433 0.66281682\n",
            " 0.66084731 0.65893412 0.65707546 0.65526861 0.6535126  0.65180534]\n",
            "4 Month output [[0.65014553]]\n",
            "5 Month input [0.81874957 0.79299243 0.82331202 0.82755951 0.8575143  0.77745741\n",
            " 0.73814347 0.71692515 0.8214545  0.87994424 0.86520492 0.87389534\n",
            " 0.88862229 0.8549934  0.90893534 0.91853995 0.97220653 0.75213593\n",
            " 0.75415367 0.75534976 0.75554228 0.75475246 0.75309825 0.75073594\n",
            " 0.74782515 0.74451208 0.74092311 0.73716086 0.73330742 0.72942531\n",
            " 0.72556102 0.72174823 0.71801001 0.71436149 0.71081209 0.70736682\n",
            " 0.70402694 0.70079225 0.6976611  0.69463027 0.69169694 0.68885672\n",
            " 0.68610644 0.68344265 0.68086129 0.67835921 0.67593318 0.67358035\n",
            " 0.67129743 0.66908216 0.66693187 0.66484433 0.66281682 0.66084731\n",
            " 0.65893412 0.65707546 0.65526861 0.6535126  0.65180534 0.65014553]\n",
            "5 Month output [[0.64853114]]\n",
            "6 Month input [0.79299243 0.82331202 0.82755951 0.8575143  0.77745741 0.73814347\n",
            " 0.71692515 0.8214545  0.87994424 0.86520492 0.87389534 0.88862229\n",
            " 0.8549934  0.90893534 0.91853995 0.97220653 0.75213593 0.75415367\n",
            " 0.75534976 0.75554228 0.75475246 0.75309825 0.75073594 0.74782515\n",
            " 0.74451208 0.74092311 0.73716086 0.73330742 0.72942531 0.72556102\n",
            " 0.72174823 0.71801001 0.71436149 0.71081209 0.70736682 0.70402694\n",
            " 0.70079225 0.6976611  0.69463027 0.69169694 0.68885672 0.68610644\n",
            " 0.68344265 0.68086129 0.67835921 0.67593318 0.67358035 0.67129743\n",
            " 0.66908216 0.66693187 0.66484433 0.66281682 0.66084731 0.65893412\n",
            " 0.65707546 0.65526861 0.6535126  0.65180534 0.65014553 0.64853114]\n",
            "6 Month output [[0.6469613]]\n",
            "7 Month input [0.82331202 0.82755951 0.8575143  0.77745741 0.73814347 0.71692515\n",
            " 0.8214545  0.87994424 0.86520492 0.87389534 0.88862229 0.8549934\n",
            " 0.90893534 0.91853995 0.97220653 0.75213593 0.75415367 0.75534976\n",
            " 0.75554228 0.75475246 0.75309825 0.75073594 0.74782515 0.74451208\n",
            " 0.74092311 0.73716086 0.73330742 0.72942531 0.72556102 0.72174823\n",
            " 0.71801001 0.71436149 0.71081209 0.70736682 0.70402694 0.70079225\n",
            " 0.6976611  0.69463027 0.69169694 0.68885672 0.68610644 0.68344265\n",
            " 0.68086129 0.67835921 0.67593318 0.67358035 0.67129743 0.66908216\n",
            " 0.66693187 0.66484433 0.66281682 0.66084731 0.65893412 0.65707546\n",
            " 0.65526861 0.6535126  0.65180534 0.65014553 0.64853114 0.64696127]\n",
            "7 Month output [[0.6454342]]\n",
            "[[0.6570754647254944], [0.6552686095237732], [0.6535125970840454], [0.6518053412437439], [0.6501455307006836], [0.6485311388969421], [0.6469612717628479], [0.6454342007637024]]\n"
          ],
          "name": "stdout"
        }
      ]
    },
    {
      "cell_type": "code",
      "metadata": {
        "id": "AAjfXFXdHbm9"
      },
      "source": [
        "day_new=np.arange(1,61)\n",
        "day_pred=np.arange(61,69)"
      ],
      "execution_count": 75,
      "outputs": []
    },
    {
      "cell_type": "code",
      "metadata": {
        "id": "uLDB0FB9HwVd",
        "outputId": "ff294a4c-be6e-4474-f03d-a4fc61a53385",
        "colab": {
          "base_uri": "https://localhost:8080/",
          "height": 34
        }
      },
      "source": [
        "len(df1)"
      ],
      "execution_count": 76,
      "outputs": [
        {
          "output_type": "execute_result",
          "data": {
            "text/plain": [
              "240"
            ]
          },
          "metadata": {
            "tags": []
          },
          "execution_count": 76
        }
      ]
    },
    {
      "cell_type": "code",
      "metadata": {
        "id": "5GFUx54rHbq7",
        "outputId": "7d11a209-5509-4c7f-dfbb-7901f542cd6d",
        "colab": {
          "base_uri": "https://localhost:8080/",
          "height": 293
        }
      },
      "source": [
        "plt.plot(day_new,scaler.inverse_transform(df1[180:]))\n",
        "plt.plot(day_pred,scaler.inverse_transform(lst_output))"
      ],
      "execution_count": 77,
      "outputs": [
        {
          "output_type": "execute_result",
          "data": {
            "text/plain": [
              "[<matplotlib.lines.Line2D at 0x7f42c520ceb8>]"
            ]
          },
          "metadata": {
            "tags": []
          },
          "execution_count": 77
        },
        {
          "output_type": "display_data",
          "data": {
            "image/png": "[encoded data removed]",
            "text/plain": [
              "<Figure size 432x288 with 1 Axes>"
            ]
          },
          "metadata": {
            "tags": [],
            "needs_background": "light"
          }
        }
      ]
    },
    {
      "cell_type": "code",
      "metadata": {
        "id": "yz9NWgYIHbhp"
      },
      "source": [
        "df3=df1.tolist()\n",
        "df3.extend(lst_output)"
      ],
      "execution_count": 78,
      "outputs": []
    },
    {
      "cell_type": "code",
      "metadata": {
        "id": "1pXTEFIUIQ29",
        "outputId": "6b50ac10-f42d-48ef-d94d-0e2a4b5b8e38",
        "colab": {
          "base_uri": "https://localhost:8080/",
          "height": 34
        }
      },
      "source": [
        "len(df3)"
      ],
      "execution_count": 79,
      "outputs": [
        {
          "output_type": "execute_result",
          "data": {
            "text/plain": [
              "248"
            ]
          },
          "metadata": {
            "tags": []
          },
          "execution_count": 79
        }
      ]
    },
    {
      "cell_type": "code",
      "metadata": {
        "id": "CVW5f2iUHbf3",
        "outputId": "a61382f9-2af1-4116-bf89-2ace37c063ec",
        "colab": {
          "base_uri": "https://localhost:8080/",
          "height": 282
        }
      },
      "source": [
        "plt.plot(df3)"
      ],
      "execution_count": 80,
      "outputs": [
        {
          "output_type": "execute_result",
          "data": {
            "text/plain": [
              "[<matplotlib.lines.Line2D at 0x7f42c4f2c978>]"
            ]
          },
          "metadata": {
            "tags": []
          },
          "execution_count": 80
        },
        {
          "output_type": "display_data",
          "data": {
            "image/png": "[encoded data removed]",
            "text/plain": [
              "<Figure size 432x288 with 1 Axes>"
            ]
          },
          "metadata": {
            "tags": [],
            "needs_background": "light"
          }
        }
      ]
    }
  ]
}