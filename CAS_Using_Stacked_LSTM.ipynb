{
  "nbformat": 4,
  "nbformat_minor": 0,
  "metadata": {
    "colab": {
      "name": "CAS_Using Stacked LSTM.ipynb",
      "provenance": []
    },
    "kernelspec": {
      "name": "python3",
      "display_name": "Python 3"
    }
  },
  "cells": [
    {
      "cell_type": "code",
      "metadata": {
        "id": "6Jqeg7VpgPNM"
      },
      "source": [
        "import pandas as pd\n",
        "import numpy as np\n",
        "import matplotlib.pyplot as plt\n",
        "from sklearn.preprocessing import MinMaxScaler"
      ],
      "execution_count": 10,
      "outputs": []
    },
    {
      "cell_type": "code",
      "metadata": {
        "id": "VX1apJQlhNnX"
      },
      "source": [
        "# load the dataset to dataframe\n",
        "\n",
        "df = pd.read_csv(\"Data_final.csv\")"
      ],
      "execution_count": 2,
      "outputs": []
    },
    {
      "cell_type": "code",
      "metadata": {
        "id": "n7rJysOMhNrz",
        "outputId": "78d49368-ade3-405b-f6b6-a0899dfa915e",
        "colab": {
          "base_uri": "https://localhost:8080/",
          "height": 204
        }
      },
      "source": [
        "# first five sample rows of data\n",
        "df.head()"
      ],
      "execution_count": 3,
      "outputs": [
        {
          "output_type": "execute_result",
          "data": {
            "text/html": [
              "<div>\n",
              "<style scoped>\n",
              "    .dataframe tbody tr th:only-of-type {\n",
              "        vertical-align: middle;\n",
              "    }\n",
              "\n",
              "    .dataframe tbody tr th {\n",
              "        vertical-align: top;\n",
              "    }\n",
              "\n",
              "    .dataframe thead th {\n",
              "        text-align: right;\n",
              "    }\n",
              "</style>\n",
              "<table border=\"1\" class=\"dataframe\">\n",
              "  <thead>\n",
              "    <tr style=\"text-align: right;\">\n",
              "      <th></th>\n",
              "      <th>Date</th>\n",
              "      <th>Requests</th>\n",
              "    </tr>\n",
              "  </thead>\n",
              "  <tbody>\n",
              "    <tr>\n",
              "      <th>0</th>\n",
              "      <td>1998-1</td>\n",
              "      <td>137317594</td>\n",
              "    </tr>\n",
              "    <tr>\n",
              "      <th>1</th>\n",
              "      <td>1998-2</td>\n",
              "      <td>133211380</td>\n",
              "    </tr>\n",
              "    <tr>\n",
              "      <th>2</th>\n",
              "      <td>1998-3</td>\n",
              "      <td>149453070</td>\n",
              "    </tr>\n",
              "    <tr>\n",
              "      <th>3</th>\n",
              "      <td>1998-4</td>\n",
              "      <td>148053372</td>\n",
              "    </tr>\n",
              "    <tr>\n",
              "      <th>4</th>\n",
              "      <td>1998-5</td>\n",
              "      <td>153271739</td>\n",
              "    </tr>\n",
              "  </tbody>\n",
              "</table>\n",
              "</div>"
            ],
            "text/plain": [
              "     Date   Requests\n",
              "0  1998-1  137317594\n",
              "1  1998-2  133211380\n",
              "2  1998-3  149453070\n",
              "3  1998-4  148053372\n",
              "4  1998-5  153271739"
            ]
          },
          "metadata": {
            "tags": []
          },
          "execution_count": 3
        }
      ]
    },
    {
      "cell_type": "code",
      "metadata": {
        "id": "Yd7o0JrJhNxV",
        "outputId": "88f22ac2-878f-4576-fe9c-8cc41087fbbc",
        "colab": {
          "base_uri": "https://localhost:8080/",
          "height": 204
        }
      },
      "source": [
        "# last five rows of data\n",
        "df.tail()"
      ],
      "execution_count": 4,
      "outputs": [
        {
          "output_type": "execute_result",
          "data": {
            "text/html": [
              "<div>\n",
              "<style scoped>\n",
              "    .dataframe tbody tr th:only-of-type {\n",
              "        vertical-align: middle;\n",
              "    }\n",
              "\n",
              "    .dataframe tbody tr th {\n",
              "        vertical-align: top;\n",
              "    }\n",
              "\n",
              "    .dataframe thead th {\n",
              "        text-align: right;\n",
              "    }\n",
              "</style>\n",
              "<table border=\"1\" class=\"dataframe\">\n",
              "  <thead>\n",
              "    <tr style=\"text-align: right;\">\n",
              "      <th></th>\n",
              "      <th>Date</th>\n",
              "      <th>Requests</th>\n",
              "    </tr>\n",
              "  </thead>\n",
              "  <tbody>\n",
              "    <tr>\n",
              "      <th>243</th>\n",
              "      <td>2018-4</td>\n",
              "      <td>729014682</td>\n",
              "    </tr>\n",
              "    <tr>\n",
              "      <th>244</th>\n",
              "      <td>2018-5</td>\n",
              "      <td>771300508</td>\n",
              "    </tr>\n",
              "    <tr>\n",
              "      <th>245</th>\n",
              "      <td>2018-6</td>\n",
              "      <td>753250664</td>\n",
              "    </tr>\n",
              "    <tr>\n",
              "      <th>246</th>\n",
              "      <td>2018-7</td>\n",
              "      <td>749102384</td>\n",
              "    </tr>\n",
              "    <tr>\n",
              "      <th>247</th>\n",
              "      <td>2018-8</td>\n",
              "      <td>779623151</td>\n",
              "    </tr>\n",
              "  </tbody>\n",
              "</table>\n",
              "</div>"
            ],
            "text/plain": [
              "       Date   Requests\n",
              "243  2018-4  729014682\n",
              "244  2018-5  771300508\n",
              "245  2018-6  753250664\n",
              "246  2018-7  749102384\n",
              "247  2018-8  779623151"
            ]
          },
          "metadata": {
            "tags": []
          },
          "execution_count": 4
        }
      ]
    },
    {
      "cell_type": "code",
      "metadata": {
        "id": "_RUi9e3ahNwm",
        "outputId": "23c99ce7-0ffc-480e-dbb7-d0ce065ef33c",
        "colab": {
          "base_uri": "https://localhost:8080/",
          "height": 293
        }
      },
      "source": [
        "df.plot()"
      ],
      "execution_count": 5,
      "outputs": [
        {
          "output_type": "execute_result",
          "data": {
            "text/plain": [
              "<matplotlib.axes._subplots.AxesSubplot at 0x7f9bd026b3c8>"
            ]
          },
          "metadata": {
            "tags": []
          },
          "execution_count": 5
        },
        {
          "output_type": "display_data",
          "data": {
            "image/png": "[encoded data removed]",
            "text/plain": [
              "<Figure size 432x288 with 1 Axes>"
            ]
          },
          "metadata": {
            "tags": [],
            "needs_background": "light"
          }
        }
      ]
    },
    {
      "cell_type": "code",
      "metadata": {
        "id": "Fb-1qzjxhNrN"
      },
      "source": [
        "df=df.reset_index()['Requests']"
      ],
      "execution_count": 6,
      "outputs": []
    },
    {
      "cell_type": "code",
      "metadata": {
        "id": "fWebtZ7zhNmY"
      },
      "source": [
        "### LSTM are sensitive to the scale of the data. so we apply MinMax scaler \n",
        "scaler=MinMaxScaler(feature_range=(0,1))\n",
        "df=scaler.fit_transform(np.array(df).reshape(-1,1))"
      ],
      "execution_count": 11,
      "outputs": []
    },
    {
      "cell_type": "code",
      "metadata": {
        "id": "T4kQQv8liA2a",
        "outputId": "8170ffd9-d21e-4cdc-d49c-e04597723898",
        "colab": {
          "base_uri": "https://localhost:8080/",
          "height": 1000
        }
      },
      "source": [
        "# Data after scaled\n",
        "print(df)"
      ],
      "execution_count": 15,
      "outputs": [
        {
          "output_type": "stream",
          "text": [
            "[[0.00634027]\n",
            " [0.        ]\n",
            " [0.02507827]\n",
            " [0.02291704]\n",
            " [0.03097455]\n",
            " [0.02643306]\n",
            " [0.0379377 ]\n",
            " [0.03979098]\n",
            " [0.02713994]\n",
            " [0.04333359]\n",
            " [0.03500856]\n",
            " [0.07192771]\n",
            " [0.02181532]\n",
            " [0.01823284]\n",
            " [0.04993546]\n",
            " [0.04636453]\n",
            " [0.05922923]\n",
            " [0.06734099]\n",
            " [0.0756811 ]\n",
            " [0.093364  ]\n",
            " [0.07979551]\n",
            " [0.10060193]\n",
            " [0.08955341]\n",
            " [0.13242617]\n",
            " [0.06739136]\n",
            " [0.0833704 ]\n",
            " [0.10980722]\n",
            " [0.09961484]\n",
            " [0.1239209 ]\n",
            " [0.11965403]\n",
            " [0.11673619]\n",
            " [0.12989825]\n",
            " [0.11497534]\n",
            " [0.12869608]\n",
            " [0.12722703]\n",
            " [0.1687771 ]\n",
            " [0.11495231]\n",
            " [0.09433438]\n",
            " [0.14149919]\n",
            " [0.12166148]\n",
            " [0.15312442]\n",
            " [0.14643325]\n",
            " [0.14720094]\n",
            " [0.15648725]\n",
            " [0.10288993]\n",
            " [0.12888126]\n",
            " [0.14493328]\n",
            " [0.1867009 ]\n",
            " [0.12993472]\n",
            " [0.11434619]\n",
            " [0.15316368]\n",
            " [0.15191567]\n",
            " [0.16985706]\n",
            " [0.1577564 ]\n",
            " [0.17108451]\n",
            " [0.16196309]\n",
            " [0.15356504]\n",
            " [0.18035077]\n",
            " [0.17538772]\n",
            " [0.22558166]\n",
            " [0.16308455]\n",
            " [0.14186983]\n",
            " [0.18528178]\n",
            " [0.17416629]\n",
            " [0.20637065]\n",
            " [0.1990209 ]\n",
            " [0.20826765]\n",
            " [0.21014827]\n",
            " [0.19614559]\n",
            " [0.22249499]\n",
            " [0.21026166]\n",
            " [0.27145639]\n",
            " [0.20047327]\n",
            " [0.2084169 ]\n",
            " [0.23863545]\n",
            " [0.2304931 ]\n",
            " [0.24924597]\n",
            " [0.24713666]\n",
            " [0.2542148 ]\n",
            " [0.25571384]\n",
            " [0.23945817]\n",
            " [0.26432435]\n",
            " [0.2634072 ]\n",
            " [0.33048852]\n",
            " [0.24691164]\n",
            " [0.23030907]\n",
            " [0.29007437]\n",
            " [0.28433274]\n",
            " [0.30487071]\n",
            " [0.30554369]\n",
            " [0.30683487]\n",
            " [0.32329421]\n",
            " [0.3012402 ]\n",
            " [0.32074403]\n",
            " [0.32374296]\n",
            " [0.39081576]\n",
            " [0.30492906]\n",
            " [0.27783827]\n",
            " [0.34669153]\n",
            " [0.33246846]\n",
            " [0.36679506]\n",
            " [0.3593391 ]\n",
            " [0.35911992]\n",
            " [0.37667862]\n",
            " [0.35174135]\n",
            " [0.38391869]\n",
            " [0.37925271]\n",
            " [0.45008301]\n",
            " [0.359779  ]\n",
            " [0.32723671]\n",
            " [0.40667986]\n",
            " [0.38532743]\n",
            " [0.43195503]\n",
            " [0.42021036]\n",
            " [0.42821931]\n",
            " [0.44439757]\n",
            " [0.4091959 ]\n",
            " [0.45169616]\n",
            " [0.44816738]\n",
            " [0.5127967 ]\n",
            " [0.41465668]\n",
            " [0.35662836]\n",
            " [0.42674586]\n",
            " [0.4294752 ]\n",
            " [0.40928645]\n",
            " [0.44022656]\n",
            " [0.45433554]\n",
            " [0.45196742]\n",
            " [0.44895049]\n",
            " [0.46818157]\n",
            " [0.44028338]\n",
            " [0.51351352]\n",
            " [0.37393649]\n",
            " [0.37129547]\n",
            " [0.44211375]\n",
            " [0.43684892]\n",
            " [0.46360677]\n",
            " [0.45931908]\n",
            " [0.47238647]\n",
            " [0.46900267]\n",
            " [0.44637616]\n",
            " [0.47949908]\n",
            " [0.34499895]\n",
            " [0.55097007]\n",
            " [0.38686322]\n",
            " [0.29636645]\n",
            " [0.32043066]\n",
            " [0.49184638]\n",
            " [0.52326055]\n",
            " [0.51970387]\n",
            " [0.53493989]\n",
            " [0.54000917]\n",
            " [0.51848935]\n",
            " [0.55865553]\n",
            " [0.51273885]\n",
            " [0.61449097]\n",
            " [0.52615537]\n",
            " [0.48742035]\n",
            " [0.55716376]\n",
            " [0.57560662]\n",
            " [0.59187555]\n",
            " [0.57926842]\n",
            " [0.61411038]\n",
            " [0.619262  ]\n",
            " [0.59212364]\n",
            " [0.59390974]\n",
            " [0.62709536]\n",
            " [0.71179157]\n",
            " [0.58973579]\n",
            " [0.461549  ]\n",
            " [0.56767681]\n",
            " [0.62449055]\n",
            " [0.67374793]\n",
            " [0.65698316]\n",
            " [0.66332802]\n",
            " [0.67946454]\n",
            " [0.63930003]\n",
            " [0.68347343]\n",
            " [0.68734343]\n",
            " [0.75609255]\n",
            " [0.65267281]\n",
            " [0.59924651]\n",
            " [0.69788386]\n",
            " [0.68812411]\n",
            " [0.73712719]\n",
            " [0.71214944]\n",
            " [0.73143363]\n",
            " [0.74264231]\n",
            " [0.70213185]\n",
            " [0.75381736]\n",
            " [0.74325246]\n",
            " [0.83010753]\n",
            " [0.7081405 ]\n",
            " [0.65223613]\n",
            " [0.77087031]\n",
            " [0.75458124]\n",
            " [0.80574304]\n",
            " [0.78278506]\n",
            " [0.8016154 ]\n",
            " [0.81322957]\n",
            " [0.78378504]\n",
            " [0.83421589]\n",
            " [0.81989792]\n",
            " [0.92046477]\n",
            " [0.78614379]\n",
            " [0.7219755 ]\n",
            " [0.83924765]\n",
            " [0.82480512]\n",
            " [0.87165477]\n",
            " [0.85932568]\n",
            " [0.88524723]\n",
            " [0.88348239]\n",
            " [0.85616386]\n",
            " [0.81338777]\n",
            " [0.9064615 ]\n",
            " [1.        ]\n",
            " [0.86191346]\n",
            " [0.8372646 ]\n",
            " [0.92274944]\n",
            " [0.90074821]\n",
            " [0.88410999]\n",
            " [0.88980649]\n",
            " [0.81793554]\n",
            " [0.81874957]\n",
            " [0.79299243]\n",
            " [0.82331202]\n",
            " [0.82755951]\n",
            " [0.8575143 ]\n",
            " [0.77745741]\n",
            " [0.73814347]\n",
            " [0.71692515]\n",
            " [0.8214545 ]\n",
            " [0.87994424]\n",
            " [0.86520492]\n",
            " [0.87389534]\n",
            " [0.88862229]\n",
            " [0.8549934 ]\n",
            " [0.90893534]\n",
            " [0.91853995]\n",
            " [0.97220653]\n",
            " [0.87774828]\n",
            " [0.83505693]\n",
            " [0.96505494]\n",
            " [0.91996063]\n",
            " [0.9852528 ]\n",
            " [0.95738262]\n",
            " [0.9509774 ]\n",
            " [0.99810353]]\n"
          ],
          "name": "stdout"
        }
      ]
    },
    {
      "cell_type": "code",
      "metadata": {
        "id": "GQsMD6kciBg7"
      },
      "source": [
        "##splitting dataset into train and test split\n",
        "training_size=int(len(df)*0.65)\n",
        "test_size=len(df)-training_size\n",
        "train_data,test_data=df[0:training_size,:],df[training_size:len(df),:1]"
      ],
      "execution_count": 16,
      "outputs": []
    },
    {
      "cell_type": "code",
      "metadata": {
        "id": "dntxzXQeiBnN",
        "outputId": "89b14f30-081a-4d1d-be71-53d46486f963",
        "colab": {
          "base_uri": "https://localhost:8080/",
          "height": 34
        }
      },
      "source": [
        "training_size,test_size"
      ],
      "execution_count": 17,
      "outputs": [
        {
          "output_type": "execute_result",
          "data": {
            "text/plain": [
              "(161, 87)"
            ]
          },
          "metadata": {
            "tags": []
          },
          "execution_count": 17
        }
      ]
    },
    {
      "cell_type": "code",
      "metadata": {
        "id": "t5Q3aZBniBmY"
      },
      "source": [
        "# convert an array of values into a dataset matrix\n",
        "def create_dataset(dataset, time_step):\n",
        "\tdataX, dataY = [], []\n",
        "\tfor i in range(len(dataset)-time_step-1):\n",
        "\t\ta = dataset[i:(i+time_step), 0]   ###i=0, 0,1,2,3-----99   100 \n",
        "\t\tdataX.append(a)\n",
        "\t\tdataY.append(dataset[i + time_step, 0])\n",
        "\treturn np.array(dataX), np.array(dataY)"
      ],
      "execution_count": 40,
      "outputs": []
    },
    {
      "cell_type": "code",
      "metadata": {
        "id": "_exqe5VmiBck"
      },
      "source": [
        "# reshape into X=t,t+1,t+2,t+3 and Y=t+4\n",
        "time_step = 50\n",
        "X_train, y_train = create_dataset(train_data, time_step)\n",
        "X_test, ytest = create_dataset(test_data, time_step)"
      ],
      "execution_count": 54,
      "outputs": []
    },
    {
      "cell_type": "code",
      "metadata": {
        "id": "nCpW5JvqjfOT",
        "outputId": "9afdba15-87aa-4fca-e983-6904736837ad",
        "colab": {
          "base_uri": "https://localhost:8080/",
          "height": 34
        }
      },
      "source": [
        "X_test.shape"
      ],
      "execution_count": 55,
      "outputs": [
        {
          "output_type": "execute_result",
          "data": {
            "text/plain": [
              "(36, 50)"
            ]
          },
          "metadata": {
            "tags": []
          },
          "execution_count": 55
        }
      ]
    },
    {
      "cell_type": "code",
      "metadata": {
        "id": "S6xH9Fv0iBcA"
      },
      "source": [
        "# reshape input to be [samples, time steps, features] which is required for LSTM\n",
        "X_train =X_train.reshape(X_train.shape[0],X_train.shape[1] , 1)\n",
        "X_test = X_test.reshape(X_test.shape[0],X_test.shape[1] , 1)"
      ],
      "execution_count": 56,
      "outputs": []
    },
    {
      "cell_type": "code",
      "metadata": {
        "id": "aOfKNTr2jIwU",
        "outputId": "99ff64f1-1a23-4327-d972-3b9c71756f11",
        "colab": {
          "base_uri": "https://localhost:8080/",
          "height": 68
        }
      },
      "source": [
        "print(X_train.shape)\n",
        "print(X_test.shape)\n",
        "print(df.shape)"
      ],
      "execution_count": 60,
      "outputs": [
        {
          "output_type": "stream",
          "text": [
            "(110, 50, 1)\n",
            "(36, 50, 1)\n",
            "(248, 1)\n"
          ],
          "name": "stdout"
        }
      ]
    },
    {
      "cell_type": "code",
      "metadata": {
        "id": "KMF2yxx7jIsk"
      },
      "source": [
        "### Create the Stacked LSTM model\n",
        "from tensorflow.keras.models import Sequential\n",
        "from tensorflow.keras.layers import Dense\n",
        "from tensorflow.keras.layers import LSTM"
      ],
      "execution_count": 61,
      "outputs": []
    },
    {
      "cell_type": "code",
      "metadata": {
        "id": "IeweqYE9jIq7"
      },
      "source": [
        "model=Sequential()\n",
        "model.add(LSTM(50,return_sequences=True,input_shape=(50,1)))\n",
        "model.add(LSTM(50,return_sequences=True))\n",
        "model.add(LSTM(50))\n",
        "model.add(Dense(1))\n",
        "model.compile(loss='mean_squared_error',optimizer='adam')"
      ],
      "execution_count": 97,
      "outputs": []
    },
    {
      "cell_type": "code",
      "metadata": {
        "id": "DkNbhp1OoR50",
        "outputId": "a97dfdc3-2bf5-4364-9749-a334681fbc2d",
        "colab": {
          "base_uri": "https://localhost:8080/",
          "height": 289
        }
      },
      "source": [
        "model.summary()"
      ],
      "execution_count": 98,
      "outputs": [
        {
          "output_type": "stream",
          "text": [
            "Model: \"sequential_1\"\n",
            "_________________________________________________________________\n",
            "Layer (type)                 Output Shape              Param #   \n",
            "=================================================================\n",
            "lstm_3 (LSTM)                (None, 50, 50)            10400     \n",
            "_________________________________________________________________\n",
            "lstm_4 (LSTM)                (None, 50, 50)            20200     \n",
            "_________________________________________________________________\n",
            "lstm_5 (LSTM)                (None, 50)                20200     \n",
            "_________________________________________________________________\n",
            "dense_1 (Dense)              (None, 1)                 51        \n",
            "=================================================================\n",
            "Total params: 50,851\n",
            "Trainable params: 50,851\n",
            "Non-trainable params: 0\n",
            "_________________________________________________________________\n"
          ],
          "name": "stdout"
        }
      ]
    },
    {
      "cell_type": "code",
      "metadata": {
        "id": "C-o0jCRHoR1x",
        "outputId": "641df29e-7566-400b-c562-3d280eadb952",
        "colab": {
          "base_uri": "https://localhost:8080/",
          "height": 1000
        }
      },
      "source": [
        "model.fit(X_train,y_train,validation_data=(X_test,ytest),epochs=100,batch_size=64,verbose=1)"
      ],
      "execution_count": 99,
      "outputs": [
        {
          "output_type": "stream",
          "text": [
            "Epoch 1/100\n",
            "2/2 [==============================] - 1s 569ms/step - loss: 0.1123 - val_loss: 0.2473\n",
            "Epoch 2/100\n",
            "2/2 [==============================] - 0s 53ms/step - loss: 0.0279 - val_loss: 0.0057\n",
            "Epoch 3/100\n",
            "2/2 [==============================] - 0s 61ms/step - loss: 0.0115 - val_loss: 0.0306\n",
            "Epoch 4/100\n",
            "2/2 [==============================] - 0s 51ms/step - loss: 0.0191 - val_loss: 0.0051\n",
            "Epoch 5/100\n",
            "2/2 [==============================] - 0s 52ms/step - loss: 0.0038 - val_loss: 0.0453\n",
            "Epoch 6/100\n",
            "2/2 [==============================] - 0s 53ms/step - loss: 0.0051 - val_loss: 0.0917\n",
            "Epoch 7/100\n",
            "2/2 [==============================] - 0s 53ms/step - loss: 0.0100 - val_loss: 0.1021\n",
            "Epoch 8/100\n",
            "2/2 [==============================] - 0s 51ms/step - loss: 0.0101 - val_loss: 0.0819\n",
            "Epoch 9/100\n",
            "2/2 [==============================] - 0s 52ms/step - loss: 0.0064 - val_loss: 0.0504\n",
            "Epoch 10/100\n",
            "2/2 [==============================] - 0s 52ms/step - loss: 0.0034 - val_loss: 0.0239\n",
            "Epoch 11/100\n",
            "2/2 [==============================] - 0s 53ms/step - loss: 0.0035 - val_loss: 0.0117\n",
            "Epoch 12/100\n",
            "2/2 [==============================] - 0s 51ms/step - loss: 0.0051 - val_loss: 0.0105\n",
            "Epoch 13/100\n",
            "2/2 [==============================] - 0s 55ms/step - loss: 0.0051 - val_loss: 0.0162\n",
            "Epoch 14/100\n",
            "2/2 [==============================] - 0s 52ms/step - loss: 0.0034 - val_loss: 0.0276\n",
            "Epoch 15/100\n",
            "2/2 [==============================] - 0s 51ms/step - loss: 0.0028 - val_loss: 0.0410\n",
            "Epoch 16/100\n",
            "2/2 [==============================] - 0s 51ms/step - loss: 0.0033 - val_loss: 0.0484\n",
            "Epoch 17/100\n",
            "2/2 [==============================] - 0s 52ms/step - loss: 0.0036 - val_loss: 0.0462\n",
            "Epoch 18/100\n",
            "2/2 [==============================] - 0s 60ms/step - loss: 0.0034 - val_loss: 0.0368\n",
            "Epoch 19/100\n",
            "2/2 [==============================] - 0s 55ms/step - loss: 0.0029 - val_loss: 0.0253\n",
            "Epoch 20/100\n",
            "2/2 [==============================] - 0s 51ms/step - loss: 0.0025 - val_loss: 0.0176\n",
            "Epoch 21/100\n",
            "2/2 [==============================] - 0s 54ms/step - loss: 0.0027 - val_loss: 0.0143\n",
            "Epoch 22/100\n",
            "2/2 [==============================] - 0s 52ms/step - loss: 0.0028 - val_loss: 0.0148\n",
            "Epoch 23/100\n",
            "2/2 [==============================] - 0s 58ms/step - loss: 0.0025 - val_loss: 0.0178\n",
            "Epoch 24/100\n",
            "2/2 [==============================] - 0s 53ms/step - loss: 0.0023 - val_loss: 0.0211\n",
            "Epoch 25/100\n",
            "2/2 [==============================] - 0s 53ms/step - loss: 0.0023 - val_loss: 0.0228\n",
            "Epoch 26/100\n",
            "2/2 [==============================] - 0s 52ms/step - loss: 0.0024 - val_loss: 0.0213\n",
            "Epoch 27/100\n",
            "2/2 [==============================] - 0s 51ms/step - loss: 0.0024 - val_loss: 0.0172\n",
            "Epoch 28/100\n",
            "2/2 [==============================] - 0s 52ms/step - loss: 0.0023 - val_loss: 0.0128\n",
            "Epoch 29/100\n",
            "2/2 [==============================] - 0s 55ms/step - loss: 0.0022 - val_loss: 0.0104\n",
            "Epoch 30/100\n",
            "2/2 [==============================] - 0s 51ms/step - loss: 0.0022 - val_loss: 0.0098\n",
            "Epoch 31/100\n",
            "2/2 [==============================] - 0s 51ms/step - loss: 0.0022 - val_loss: 0.0105\n",
            "Epoch 32/100\n",
            "2/2 [==============================] - 0s 57ms/step - loss: 0.0022 - val_loss: 0.0115\n",
            "Epoch 33/100\n",
            "2/2 [==============================] - 0s 53ms/step - loss: 0.0021 - val_loss: 0.0110\n",
            "Epoch 34/100\n",
            "2/2 [==============================] - 0s 57ms/step - loss: 0.0021 - val_loss: 0.0100\n",
            "Epoch 35/100\n",
            "2/2 [==============================] - 0s 53ms/step - loss: 0.0021 - val_loss: 0.0086\n",
            "Epoch 36/100\n",
            "2/2 [==============================] - 0s 51ms/step - loss: 0.0021 - val_loss: 0.0079\n",
            "Epoch 37/100\n",
            "2/2 [==============================] - 0s 52ms/step - loss: 0.0021 - val_loss: 0.0077\n",
            "Epoch 38/100\n",
            "2/2 [==============================] - 0s 55ms/step - loss: 0.0021 - val_loss: 0.0079\n",
            "Epoch 39/100\n",
            "2/2 [==============================] - 0s 59ms/step - loss: 0.0021 - val_loss: 0.0082\n",
            "Epoch 40/100\n",
            "2/2 [==============================] - 0s 52ms/step - loss: 0.0021 - val_loss: 0.0082\n",
            "Epoch 41/100\n",
            "2/2 [==============================] - 0s 56ms/step - loss: 0.0021 - val_loss: 0.0080\n",
            "Epoch 42/100\n",
            "2/2 [==============================] - 0s 53ms/step - loss: 0.0021 - val_loss: 0.0083\n",
            "Epoch 43/100\n",
            "2/2 [==============================] - 0s 58ms/step - loss: 0.0021 - val_loss: 0.0083\n",
            "Epoch 44/100\n",
            "2/2 [==============================] - 0s 54ms/step - loss: 0.0021 - val_loss: 0.0079\n",
            "Epoch 45/100\n",
            "2/2 [==============================] - 0s 55ms/step - loss: 0.0021 - val_loss: 0.0073\n",
            "Epoch 46/100\n",
            "2/2 [==============================] - 0s 52ms/step - loss: 0.0021 - val_loss: 0.0072\n",
            "Epoch 47/100\n",
            "2/2 [==============================] - 0s 53ms/step - loss: 0.0021 - val_loss: 0.0080\n",
            "Epoch 48/100\n",
            "2/2 [==============================] - 0s 52ms/step - loss: 0.0021 - val_loss: 0.0089\n",
            "Epoch 49/100\n",
            "2/2 [==============================] - 0s 56ms/step - loss: 0.0021 - val_loss: 0.0088\n",
            "Epoch 50/100\n",
            "2/2 [==============================] - 0s 53ms/step - loss: 0.0021 - val_loss: 0.0084\n",
            "Epoch 51/100\n",
            "2/2 [==============================] - 0s 53ms/step - loss: 0.0021 - val_loss: 0.0083\n",
            "Epoch 52/100\n",
            "2/2 [==============================] - 0s 54ms/step - loss: 0.0021 - val_loss: 0.0081\n",
            "Epoch 53/100\n",
            "2/2 [==============================] - 0s 53ms/step - loss: 0.0021 - val_loss: 0.0085\n",
            "Epoch 54/100\n",
            "2/2 [==============================] - 0s 61ms/step - loss: 0.0021 - val_loss: 0.0093\n",
            "Epoch 55/100\n",
            "2/2 [==============================] - 0s 62ms/step - loss: 0.0021 - val_loss: 0.0094\n",
            "Epoch 56/100\n",
            "2/2 [==============================] - 0s 53ms/step - loss: 0.0021 - val_loss: 0.0091\n",
            "Epoch 57/100\n",
            "2/2 [==============================] - 0s 53ms/step - loss: 0.0021 - val_loss: 0.0087\n",
            "Epoch 58/100\n",
            "2/2 [==============================] - 0s 62ms/step - loss: 0.0021 - val_loss: 0.0086\n",
            "Epoch 59/100\n",
            "2/2 [==============================] - 0s 65ms/step - loss: 0.0021 - val_loss: 0.0089\n",
            "Epoch 60/100\n",
            "2/2 [==============================] - 0s 56ms/step - loss: 0.0021 - val_loss: 0.0101\n",
            "Epoch 61/100\n",
            "2/2 [==============================] - 0s 54ms/step - loss: 0.0021 - val_loss: 0.0102\n",
            "Epoch 62/100\n",
            "2/2 [==============================] - 0s 52ms/step - loss: 0.0021 - val_loss: 0.0091\n",
            "Epoch 63/100\n",
            "2/2 [==============================] - 0s 51ms/step - loss: 0.0021 - val_loss: 0.0089\n",
            "Epoch 64/100\n",
            "2/2 [==============================] - 0s 56ms/step - loss: 0.0021 - val_loss: 0.0086\n",
            "Epoch 65/100\n",
            "2/2 [==============================] - 0s 58ms/step - loss: 0.0021 - val_loss: 0.0088\n",
            "Epoch 66/100\n",
            "2/2 [==============================] - 0s 52ms/step - loss: 0.0021 - val_loss: 0.0090\n",
            "Epoch 67/100\n",
            "2/2 [==============================] - 0s 59ms/step - loss: 0.0021 - val_loss: 0.0095\n",
            "Epoch 68/100\n",
            "2/2 [==============================] - 0s 62ms/step - loss: 0.0021 - val_loss: 0.0100\n",
            "Epoch 69/100\n",
            "2/2 [==============================] - 0s 57ms/step - loss: 0.0021 - val_loss: 0.0103\n",
            "Epoch 70/100\n",
            "2/2 [==============================] - 0s 56ms/step - loss: 0.0021 - val_loss: 0.0098\n",
            "Epoch 71/100\n",
            "2/2 [==============================] - 0s 54ms/step - loss: 0.0021 - val_loss: 0.0091\n",
            "Epoch 72/100\n",
            "2/2 [==============================] - 0s 62ms/step - loss: 0.0021 - val_loss: 0.0090\n",
            "Epoch 73/100\n",
            "2/2 [==============================] - 0s 57ms/step - loss: 0.0021 - val_loss: 0.0096\n",
            "Epoch 74/100\n",
            "2/2 [==============================] - 0s 59ms/step - loss: 0.0021 - val_loss: 0.0100\n",
            "Epoch 75/100\n",
            "2/2 [==============================] - 0s 54ms/step - loss: 0.0021 - val_loss: 0.0101\n",
            "Epoch 76/100\n",
            "2/2 [==============================] - 0s 59ms/step - loss: 0.0021 - val_loss: 0.0101\n",
            "Epoch 77/100\n",
            "2/2 [==============================] - 0s 53ms/step - loss: 0.0021 - val_loss: 0.0099\n",
            "Epoch 78/100\n",
            "2/2 [==============================] - 0s 54ms/step - loss: 0.0021 - val_loss: 0.0097\n",
            "Epoch 79/100\n",
            "2/2 [==============================] - 0s 61ms/step - loss: 0.0021 - val_loss: 0.0100\n",
            "Epoch 80/100\n",
            "2/2 [==============================] - 0s 55ms/step - loss: 0.0021 - val_loss: 0.0100\n",
            "Epoch 81/100\n",
            "2/2 [==============================] - 0s 60ms/step - loss: 0.0021 - val_loss: 0.0099\n",
            "Epoch 82/100\n",
            "2/2 [==============================] - 0s 54ms/step - loss: 0.0021 - val_loss: 0.0100\n",
            "Epoch 83/100\n",
            "2/2 [==============================] - 0s 53ms/step - loss: 0.0021 - val_loss: 0.0098\n",
            "Epoch 84/100\n",
            "2/2 [==============================] - 0s 59ms/step - loss: 0.0021 - val_loss: 0.0101\n",
            "Epoch 85/100\n",
            "2/2 [==============================] - 0s 55ms/step - loss: 0.0021 - val_loss: 0.0105\n",
            "Epoch 86/100\n",
            "2/2 [==============================] - 0s 58ms/step - loss: 0.0021 - val_loss: 0.0107\n",
            "Epoch 87/100\n",
            "2/2 [==============================] - 0s 54ms/step - loss: 0.0021 - val_loss: 0.0109\n",
            "Epoch 88/100\n",
            "2/2 [==============================] - 0s 55ms/step - loss: 0.0021 - val_loss: 0.0103\n",
            "Epoch 89/100\n",
            "2/2 [==============================] - 0s 57ms/step - loss: 0.0021 - val_loss: 0.0099\n",
            "Epoch 90/100\n",
            "2/2 [==============================] - 0s 54ms/step - loss: 0.0021 - val_loss: 0.0104\n",
            "Epoch 91/100\n",
            "2/2 [==============================] - 0s 67ms/step - loss: 0.0021 - val_loss: 0.0104\n",
            "Epoch 92/100\n",
            "2/2 [==============================] - 0s 54ms/step - loss: 0.0021 - val_loss: 0.0107\n",
            "Epoch 93/100\n",
            "2/2 [==============================] - 0s 57ms/step - loss: 0.0021 - val_loss: 0.0106\n",
            "Epoch 94/100\n",
            "2/2 [==============================] - 0s 58ms/step - loss: 0.0021 - val_loss: 0.0101\n",
            "Epoch 95/100\n",
            "2/2 [==============================] - 0s 54ms/step - loss: 0.0021 - val_loss: 0.0099\n",
            "Epoch 96/100\n",
            "2/2 [==============================] - 0s 54ms/step - loss: 0.0021 - val_loss: 0.0109\n",
            "Epoch 97/100\n",
            "2/2 [==============================] - 0s 60ms/step - loss: 0.0021 - val_loss: 0.0119\n",
            "Epoch 98/100\n",
            "2/2 [==============================] - 0s 52ms/step - loss: 0.0021 - val_loss: 0.0107\n",
            "Epoch 99/100\n",
            "2/2 [==============================] - 0s 58ms/step - loss: 0.0021 - val_loss: 0.0095\n",
            "Epoch 100/100\n",
            "2/2 [==============================] - 0s 53ms/step - loss: 0.0021 - val_loss: 0.0100\n"
          ],
          "name": "stdout"
        },
        {
          "output_type": "execute_result",
          "data": {
            "text/plain": [
              "<tensorflow.python.keras.callbacks.History at 0x7f9b8d039eb8>"
            ]
          },
          "metadata": {
            "tags": []
          },
          "execution_count": 99
        }
      ]
    },
    {
      "cell_type": "code",
      "metadata": {
        "id": "GGE1Oy9KoR0m"
      },
      "source": [
        "### Lets Do the prediction and check performance metrics\n",
        "train_predict=model.predict(X_train)\n",
        "test_predict=model.predict(X_test)"
      ],
      "execution_count": 100,
      "outputs": []
    },
    {
      "cell_type": "code",
      "metadata": {
        "id": "ZC-F6GmEo9gK"
      },
      "source": [
        "##Transformback to original form\n",
        "train_predict=scaler.inverse_transform(train_predict)\n",
        "test_predict=scaler.inverse_transform(test_predict)"
      ],
      "execution_count": 101,
      "outputs": []
    },
    {
      "cell_type": "code",
      "metadata": {
        "id": "4Jdm3ieWooiz",
        "outputId": "f0bbff4f-5cd0-43ad-fa49-7555f96d4ac6",
        "colab": {
          "base_uri": "https://localhost:8080/",
          "height": 34
        }
      },
      "source": [
        "## Calculate RMSE performance metrics\n",
        "import math\n",
        "from sklearn.metrics import mean_squared_error\n",
        "math.sqrt(mean_squared_error(y_train,train_predict))"
      ],
      "execution_count": 102,
      "outputs": [
        {
          "output_type": "execute_result",
          "data": {
            "text/plain": [
              "369138882.8743156"
            ]
          },
          "metadata": {
            "tags": []
          },
          "execution_count": 102
        }
      ]
    },
    {
      "cell_type": "code",
      "metadata": {
        "id": "mrkEK87Zooeo",
        "outputId": "2bbef39e-2799-461c-a346-8ff5b6795a03",
        "colab": {
          "base_uri": "https://localhost:8080/",
          "height": 276
        }
      },
      "source": [
        "### Plotting \n",
        "# shift train predictions for plotting\n",
        "look_back=50\n",
        "trainPredictPlot = np.empty_like(df)\n",
        "trainPredictPlot[:, :] = np.nan\n",
        "trainPredictPlot[look_back:len(train_predict)+look_back, :] = train_predict\n",
        "# shift test predictions for plotting\n",
        "testPredictPlot = np.empty_like(df)\n",
        "testPredictPlot[:, :] = np.nan\n",
        "testPredictPlot[len(train_predict)+(look_back*2)+1:len(df)-1, :] = test_predict\n",
        "# plot baseline and predictions\n",
        "plt.plot(scaler.inverse_transform(df))\n",
        "plt.plot(trainPredictPlot)\n",
        "plt.plot(testPredictPlot)\n",
        "plt.show()"
      ],
      "execution_count": 103,
      "outputs": [
        {
          "output_type": "display_data",
          "data": {
            "image/png": "[encoded data removed]",
            "text/plain": [
              "<Figure size 432x288 with 1 Axes>"
            ]
          },
          "metadata": {
            "tags": [],
            "needs_background": "light"
          }
        }
      ]
    }
  ]
}